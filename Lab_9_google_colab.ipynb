{
  "nbformat": 4,
  "nbformat_minor": 0,
  "metadata": {
    "colab": {
      "name": "Lab_9_google_colab.ipynb",
      "version": "0.3.2",
      "provenance": [],
      "collapsed_sections": [],
      "include_colab_link": true
    },
    "language_info": {
      "codemirror_mode": {
        "name": "ipython",
        "version": 2
      },
      "file_extension": ".py",
      "mimetype": "text/x-python",
      "name": "python",
      "nbconvert_exporter": "python",
      "pygments_lexer": "ipython2",
      "version": "2.7.16"
    },
    "kernelspec": {
      "display_name": "Python 2",
      "language": "python",
      "name": "python2"
    }
  },
  "cells": [
    {
      "cell_type": "markdown",
      "metadata": {
        "id": "view-in-github",
        "colab_type": "text"
      },
      "source": [
        "<a href=\"https://colab.research.google.com/github/Prabishan/DATA1401-Spring-2019/blob/master/Lab_9_google_colab.ipynb\" target=\"_parent\"><img src=\"https://colab.research.google.com/assets/colab-badge.svg\" alt=\"Open In Colab\"/></a>"
      ]
    },
    {
      "cell_type": "markdown",
      "metadata": {
        "id": "T2pJ3jdlyxYs",
        "colab_type": "text"
      },
      "source": [
        "# Lab 4- Model Building\n",
        "\n",
        "In this lab, we will attempt to follow the first paper on Deep Learning in High Energy physics [P. Baldi, et al](https://arxiv.org/pdf/1402.4735.pdf). This paper demonstrates that Deep Neural Networks can learn from rad data the features that are typically used by physicists for searches for exotics particles. The authors provide the data they used for this paper. They considered two benchmark scenarios. We will focus on the SUSY benchmark. The physics behind this sample will be discussed in class.\n",
        "\n",
        " This is a large dataset, so it shouldn't be stored on GitHub. We'll download it directly from the source and then decompress it:"
      ]
    },
    {
      "cell_type": "code",
      "metadata": {
        "id": "dJGDv1Cvy7NM",
        "colab_type": "code",
        "outputId": "9de263b1-0395-4905-e5f4-75ee23d8e61f",
        "colab": {
          "base_uri": "https://localhost:8080/",
          "height": 121
        }
      },
      "source": [
        "# loading data\n",
        "from google.colab import drive\n",
        "drive.mount('/content/gdrive')"
      ],
      "execution_count": 1,
      "outputs": [
        {
          "output_type": "stream",
          "text": [
            "Go to this URL in a browser: https://accounts.google.com/o/oauth2/auth?client_id=947318989803-6bn6qk8qdgf4n4g3pfee6491hc0brc4i.apps.googleusercontent.com&redirect_uri=urn%3Aietf%3Awg%3Aoauth%3A2.0%3Aoob&scope=email%20https%3A%2F%2Fwww.googleapis.com%2Fauth%2Fdocs.test%20https%3A%2F%2Fwww.googleapis.com%2Fauth%2Fdrive%20https%3A%2F%2Fwww.googleapis.com%2Fauth%2Fdrive.photos.readonly%20https%3A%2F%2Fwww.googleapis.com%2Fauth%2Fpeopleapi.readonly&response_type=code\n",
            "\n",
            "Enter your authorization code:\n",
            "··········\n",
            "Mounted at /content/gdrive\n"
          ],
          "name": "stdout"
        }
      ]
    },
    {
      "cell_type": "code",
      "metadata": {
        "id": "N_tPT36czxd5",
        "colab_type": "code",
        "colab": {}
      },
      "source": [
        ""
      ],
      "execution_count": 0,
      "outputs": []
    },
    {
      "cell_type": "code",
      "metadata": {
        "id": "p8XomH9qyxYv",
        "colab_type": "code",
        "outputId": "6dd6aec7-48a0-498e-e0c1-4611ae2dbcd2",
        "colab": {
          "base_uri": "https://localhost:8080/",
          "height": 222
        }
      },
      "source": [
        "# On Mac OS\n",
        "# !curl http://archive.ics.uci.edu/ml/machine-learning-databases/00279/SUSY.csv.gz > SUSY.csv.gz\n",
        "\n",
        "# Comment this out after first time you run so you don't download and decompress multiple times:\n",
        "\n",
        "# In linux:\n",
        "!wget -O 'gdrive/My Drive/data_1401/SUSY.csv.gz' http://archive.ics.uci.edu/ml/machine-learning-databases/00279/SUSY.csv.gz\n",
        "!gunzip 'gdrive/My Drive/data_1401/SUSY.csv.gz'"
      ],
      "execution_count": 4,
      "outputs": [
        {
          "output_type": "stream",
          "text": [
            "--2019-05-08 19:26:48--  http://archive.ics.uci.edu/ml/machine-learning-databases/00279/SUSY.csv.gz\n",
            "Resolving archive.ics.uci.edu (archive.ics.uci.edu)... 128.195.10.252\n",
            "Connecting to archive.ics.uci.edu (archive.ics.uci.edu)|128.195.10.252|:80... connected.\n",
            "HTTP request sent, awaiting response... 200 OK\n",
            "Length: 922377711 (880M) [application/x-httpd-php]\n",
            "Saving to: ‘gdrive/My Drive/data_1401/SUSY.csv.gz’\n",
            "\n",
            "gdrive/My Drive/dat 100%[===================>] 879.65M  39.4MB/s    in 25s     \n",
            "\n",
            "2019-05-08 19:27:13 (35.2 MB/s) - ‘gdrive/My Drive/data_1401/SUSY.csv.gz’ saved [922377711/922377711]\n",
            "\n"
          ],
          "name": "stdout"
        }
      ]
    },
    {
      "cell_type": "markdown",
      "metadata": {
        "id": "RWddVJLjyxY6",
        "colab_type": "text"
      },
      "source": [
        "The data is provided as a comma separated file."
      ]
    },
    {
      "cell_type": "code",
      "metadata": {
        "id": "Xeea5h3xyxY8",
        "colab_type": "code",
        "outputId": "0e427077-c6a5-41b1-e3fa-56762cca613c",
        "colab": {
          "base_uri": "https://localhost:8080/",
          "height": 121
        }
      },
      "source": [
        "filename=\"gdrive/My Drive/data_1401/SUSY.csv\"\n",
        "# print out the first 5 lines using unix head command\n",
        "!head -5  \"gdrive/My Drive/data_1401/SUSY.csv\""
      ],
      "execution_count": 5,
      "outputs": [
        {
          "output_type": "stream",
          "text": [
            "0.000000000000000000e+00,9.728614687919616699e-01,6.538545489311218262e-01,1.176224589347839355e+00,1.157156467437744141e+00,-1.739873170852661133e+00,-8.743090629577636719e-01,5.677649974822998047e-01,-1.750000417232513428e-01,8.100607395172119141e-01,-2.525521218776702881e-01,1.921887040138244629e+00,8.896374106407165527e-01,4.107718467712402344e-01,1.145620822906494141e+00,1.932632088661193848e+00,9.944640994071960449e-01,1.367815494537353516e+00,4.071449860930442810e-02\n",
            "1.000000000000000000e+00,1.667973041534423828e+00,6.419061869382858276e-02,-1.225171446800231934e+00,5.061022043228149414e-01,-3.389389812946319580e-01,1.672542810440063477e+00,3.475464344024658203e+00,-1.219136357307434082e+00,1.295456290245056152e-02,3.775173664093017578e+00,1.045977115631103516e+00,5.680512785911560059e-01,4.819284379482269287e-01,0.000000000000000000e+00,4.484102725982666016e-01,2.053557634353637695e-01,1.321893453598022461e+00,3.775840103626251221e-01\n",
            "1.000000000000000000e+00,4.448399245738983154e-01,-1.342980116605758667e-01,-7.099716067314147949e-01,4.517189264297485352e-01,-1.613871216773986816e+00,-7.686609029769897461e-01,1.219918131828308105e+00,5.040258169174194336e-01,1.831247568130493164e+00,-4.313853085041046143e-01,5.262832045555114746e-01,9.415140151977539062e-01,1.587535023689270020e+00,2.024308204650878906e+00,6.034975647926330566e-01,1.562373995780944824e+00,1.135454416275024414e+00,1.809100061655044556e-01\n",
            "1.000000000000000000e+00,3.812560737133026123e-01,-9.761453866958618164e-01,6.931523084640502930e-01,4.489588439464569092e-01,8.917528986930847168e-01,-6.773284673690795898e-01,2.033060073852539062e+00,1.533040523529052734e+00,3.046259880065917969e+00,-1.005284786224365234e+00,5.693860650062561035e-01,1.015211343765258789e+00,1.582216739654541016e+00,1.551914215087890625e+00,7.612152099609375000e-01,1.715463757514953613e+00,1.492256760597229004e+00,9.071890264749526978e-02\n",
            "1.000000000000000000e+00,1.309996485710144043e+00,-6.900894641876220703e-01,-6.762592792510986328e-01,1.589282631874084473e+00,-6.933256387710571289e-01,6.229069828987121582e-01,1.087561845779418945e+00,-3.817416727542877197e-01,5.892043709754943848e-01,1.365478992462158203e+00,1.179295063018798828e+00,9.682182073593139648e-01,7.285631299018859863e-01,0.000000000000000000e+00,1.083157896995544434e+00,4.342924803495407104e-02,1.154853701591491699e+00,9.485860168933868408e-02\n"
          ],
          "name": "stdout"
        }
      ]
    },
    {
      "cell_type": "markdown",
      "metadata": {
        "id": "EVs8FWvfyxZD",
        "colab_type": "text"
      },
      "source": [
        "Each row represents a LHC collision event. Each column contains some observable from that event. The variable names are:"
      ]
    },
    {
      "cell_type": "code",
      "metadata": {
        "id": "H6Stze6VyxZF",
        "colab_type": "code",
        "colab": {}
      },
      "source": [
        "VarNames=[\"signal\", \"l_1_pT\", \"l_1_eta\",\"l_1_phi\", \"l_2_pT\", \"l_2_eta\", \"l_2_phi\", \"MET\", \"MET_phi\", \"MET_rel\", \"axial_MET\", \"M_R\", \"M_TR_2\", \"R\", \"MT2\", \"S_R\", \"M_Delta_R\", \"dPhi_r_b\", \"cos_theta_r1\"]"
      ],
      "execution_count": 0,
      "outputs": []
    },
    {
      "cell_type": "markdown",
      "metadata": {
        "id": "C0YuPg4CyxZJ",
        "colab_type": "text"
      },
      "source": [
        "Some of these variables represent the \"raw\" kinematics of the observed final state particles, while others are \"features\" that are derived from these raw quantities:"
      ]
    },
    {
      "cell_type": "code",
      "metadata": {
        "id": "AfdmnJCeyxZK",
        "colab_type": "code",
        "colab": {}
      },
      "source": [
        "RawNames=[\"l_1_pT\", \"l_1_eta\",\"l_1_phi\", \"l_2_pT\", \"l_2_eta\", \"l_2_phi\"]\n",
        "FeatureNames=[\"l_1_pT\", \"l_1_eta\",\"l_1_phi\", \"l_2_pT\", \"l_2_eta\", \"l_2_phi\"]"
      ],
      "execution_count": 0,
      "outputs": []
    },
    {
      "cell_type": "markdown",
      "metadata": {
        "id": "4GstGUDryxZP",
        "colab_type": "text"
      },
      "source": [
        "We will use pandas to read in the file, and matplotlib to make plots. The following ensures pandas is installed and sets everything up:"
      ]
    },
    {
      "cell_type": "code",
      "metadata": {
        "id": "2BLFKt5pyxZS",
        "colab_type": "code",
        "colab": {}
      },
      "source": [
        "import pandas as pd\n",
        "import matplotlib.pyplot as plt\n",
        "%matplotlib inline"
      ],
      "execution_count": 0,
      "outputs": []
    },
    {
      "cell_type": "markdown",
      "metadata": {
        "id": "5x7ZWjThyxZY",
        "colab_type": "text"
      },
      "source": [
        "Now we can read the data into a pandas dataframe:"
      ]
    },
    {
      "cell_type": "code",
      "metadata": {
        "id": "RrtYXjFpyxZa",
        "colab_type": "code",
        "colab": {}
      },
      "source": [
        "df = pd.read_csv(filename, dtype='float64', names=VarNames)"
      ],
      "execution_count": 0,
      "outputs": []
    },
    {
      "cell_type": "markdown",
      "metadata": {
        "id": "1GIYgSCJyxZf",
        "colab_type": "text"
      },
      "source": [
        "You can see the data in Jupyter by just evaluateing the dataframe:"
      ]
    },
    {
      "cell_type": "code",
      "metadata": {
        "id": "jh3rpAM7yxZh",
        "colab_type": "code",
        "outputId": "1ae52712-b993-4c33-a923-9b4399d18f81",
        "colab": {
          "base_uri": "https://localhost:8080/",
          "height": 1902
        }
      },
      "source": [
        "df"
      ],
      "execution_count": 12,
      "outputs": [
        {
          "output_type": "execute_result",
          "data": {
            "text/html": [
              "<div>\n",
              "<style scoped>\n",
              "    .dataframe tbody tr th:only-of-type {\n",
              "        vertical-align: middle;\n",
              "    }\n",
              "\n",
              "    .dataframe tbody tr th {\n",
              "        vertical-align: top;\n",
              "    }\n",
              "\n",
              "    .dataframe thead th {\n",
              "        text-align: right;\n",
              "    }\n",
              "</style>\n",
              "<table border=\"1\" class=\"dataframe\">\n",
              "  <thead>\n",
              "    <tr style=\"text-align: right;\">\n",
              "      <th></th>\n",
              "      <th>signal</th>\n",
              "      <th>l_1_pT</th>\n",
              "      <th>l_1_eta</th>\n",
              "      <th>l_1_phi</th>\n",
              "      <th>l_2_pT</th>\n",
              "      <th>l_2_eta</th>\n",
              "      <th>l_2_phi</th>\n",
              "      <th>MET</th>\n",
              "      <th>MET_phi</th>\n",
              "      <th>MET_rel</th>\n",
              "      <th>axial_MET</th>\n",
              "      <th>M_R</th>\n",
              "      <th>M_TR_2</th>\n",
              "      <th>R</th>\n",
              "      <th>MT2</th>\n",
              "      <th>S_R</th>\n",
              "      <th>M_Delta_R</th>\n",
              "      <th>dPhi_r_b</th>\n",
              "      <th>cos_theta_r1</th>\n",
              "    </tr>\n",
              "  </thead>\n",
              "  <tbody>\n",
              "    <tr>\n",
              "      <th>0</th>\n",
              "      <td>0.0</td>\n",
              "      <td>0.972861</td>\n",
              "      <td>0.653855</td>\n",
              "      <td>1.176225</td>\n",
              "      <td>1.157156</td>\n",
              "      <td>-1.739873</td>\n",
              "      <td>-0.874309</td>\n",
              "      <td>0.567765</td>\n",
              "      <td>-0.175000</td>\n",
              "      <td>0.810061</td>\n",
              "      <td>-0.252552</td>\n",
              "      <td>1.921887</td>\n",
              "      <td>0.889637</td>\n",
              "      <td>0.410772</td>\n",
              "      <td>1.145621</td>\n",
              "      <td>1.932632</td>\n",
              "      <td>0.994464</td>\n",
              "      <td>1.367815</td>\n",
              "      <td>0.040714</td>\n",
              "    </tr>\n",
              "    <tr>\n",
              "      <th>1</th>\n",
              "      <td>1.0</td>\n",
              "      <td>1.667973</td>\n",
              "      <td>0.064191</td>\n",
              "      <td>-1.225171</td>\n",
              "      <td>0.506102</td>\n",
              "      <td>-0.338939</td>\n",
              "      <td>1.672543</td>\n",
              "      <td>3.475464</td>\n",
              "      <td>-1.219136</td>\n",
              "      <td>0.012955</td>\n",
              "      <td>3.775174</td>\n",
              "      <td>1.045977</td>\n",
              "      <td>0.568051</td>\n",
              "      <td>0.481928</td>\n",
              "      <td>0.000000</td>\n",
              "      <td>0.448410</td>\n",
              "      <td>0.205356</td>\n",
              "      <td>1.321893</td>\n",
              "      <td>0.377584</td>\n",
              "    </tr>\n",
              "    <tr>\n",
              "      <th>2</th>\n",
              "      <td>1.0</td>\n",
              "      <td>0.444840</td>\n",
              "      <td>-0.134298</td>\n",
              "      <td>-0.709972</td>\n",
              "      <td>0.451719</td>\n",
              "      <td>-1.613871</td>\n",
              "      <td>-0.768661</td>\n",
              "      <td>1.219918</td>\n",
              "      <td>0.504026</td>\n",
              "      <td>1.831248</td>\n",
              "      <td>-0.431385</td>\n",
              "      <td>0.526283</td>\n",
              "      <td>0.941514</td>\n",
              "      <td>1.587535</td>\n",
              "      <td>2.024308</td>\n",
              "      <td>0.603498</td>\n",
              "      <td>1.562374</td>\n",
              "      <td>1.135454</td>\n",
              "      <td>0.180910</td>\n",
              "    </tr>\n",
              "    <tr>\n",
              "      <th>3</th>\n",
              "      <td>1.0</td>\n",
              "      <td>0.381256</td>\n",
              "      <td>-0.976145</td>\n",
              "      <td>0.693152</td>\n",
              "      <td>0.448959</td>\n",
              "      <td>0.891753</td>\n",
              "      <td>-0.677328</td>\n",
              "      <td>2.033060</td>\n",
              "      <td>1.533041</td>\n",
              "      <td>3.046260</td>\n",
              "      <td>-1.005285</td>\n",
              "      <td>0.569386</td>\n",
              "      <td>1.015211</td>\n",
              "      <td>1.582217</td>\n",
              "      <td>1.551914</td>\n",
              "      <td>0.761215</td>\n",
              "      <td>1.715464</td>\n",
              "      <td>1.492257</td>\n",
              "      <td>0.090719</td>\n",
              "    </tr>\n",
              "    <tr>\n",
              "      <th>4</th>\n",
              "      <td>1.0</td>\n",
              "      <td>1.309996</td>\n",
              "      <td>-0.690089</td>\n",
              "      <td>-0.676259</td>\n",
              "      <td>1.589283</td>\n",
              "      <td>-0.693326</td>\n",
              "      <td>0.622907</td>\n",
              "      <td>1.087562</td>\n",
              "      <td>-0.381742</td>\n",
              "      <td>0.589204</td>\n",
              "      <td>1.365479</td>\n",
              "      <td>1.179295</td>\n",
              "      <td>0.968218</td>\n",
              "      <td>0.728563</td>\n",
              "      <td>0.000000</td>\n",
              "      <td>1.083158</td>\n",
              "      <td>0.043429</td>\n",
              "      <td>1.154854</td>\n",
              "      <td>0.094859</td>\n",
              "    </tr>\n",
              "    <tr>\n",
              "      <th>5</th>\n",
              "      <td>0.0</td>\n",
              "      <td>0.456398</td>\n",
              "      <td>1.099371</td>\n",
              "      <td>1.512453</td>\n",
              "      <td>0.751772</td>\n",
              "      <td>0.638967</td>\n",
              "      <td>-0.742216</td>\n",
              "      <td>0.322601</td>\n",
              "      <td>1.321054</td>\n",
              "      <td>0.169502</td>\n",
              "      <td>0.359941</td>\n",
              "      <td>0.489256</td>\n",
              "      <td>0.416168</td>\n",
              "      <td>0.754829</td>\n",
              "      <td>0.303750</td>\n",
              "      <td>0.461067</td>\n",
              "      <td>0.345541</td>\n",
              "      <td>0.733242</td>\n",
              "      <td>0.186044</td>\n",
              "    </tr>\n",
              "    <tr>\n",
              "      <th>6</th>\n",
              "      <td>0.0</td>\n",
              "      <td>0.437818</td>\n",
              "      <td>-1.119883</td>\n",
              "      <td>-1.336823</td>\n",
              "      <td>0.502320</td>\n",
              "      <td>-1.717515</td>\n",
              "      <td>1.017067</td>\n",
              "      <td>0.215619</td>\n",
              "      <td>-0.461200</td>\n",
              "      <td>0.323671</td>\n",
              "      <td>0.173626</td>\n",
              "      <td>0.411898</td>\n",
              "      <td>0.370525</td>\n",
              "      <td>0.798260</td>\n",
              "      <td>0.671369</td>\n",
              "      <td>0.385910</td>\n",
              "      <td>0.515522</td>\n",
              "      <td>0.479110</td>\n",
              "      <td>0.029058</td>\n",
              "    </tr>\n",
              "    <tr>\n",
              "      <th>7</th>\n",
              "      <td>0.0</td>\n",
              "      <td>0.571656</td>\n",
              "      <td>0.205696</td>\n",
              "      <td>0.425950</td>\n",
              "      <td>0.578514</td>\n",
              "      <td>0.927399</td>\n",
              "      <td>-1.101478</td>\n",
              "      <td>0.116555</td>\n",
              "      <td>1.549753</td>\n",
              "      <td>0.174421</td>\n",
              "      <td>0.223450</td>\n",
              "      <td>0.523164</td>\n",
              "      <td>0.289889</td>\n",
              "      <td>0.491710</td>\n",
              "      <td>0.334593</td>\n",
              "      <td>0.514246</td>\n",
              "      <td>0.268207</td>\n",
              "      <td>0.315795</td>\n",
              "      <td>0.125728</td>\n",
              "    </tr>\n",
              "    <tr>\n",
              "      <th>8</th>\n",
              "      <td>1.0</td>\n",
              "      <td>2.112812</td>\n",
              "      <td>0.742983</td>\n",
              "      <td>-0.330539</td>\n",
              "      <td>0.805253</td>\n",
              "      <td>-0.028887</td>\n",
              "      <td>-1.446679</td>\n",
              "      <td>2.299946</td>\n",
              "      <td>1.450429</td>\n",
              "      <td>2.989110</td>\n",
              "      <td>-1.894770</td>\n",
              "      <td>1.445125</td>\n",
              "      <td>2.548166</td>\n",
              "      <td>1.564721</td>\n",
              "      <td>2.393632</td>\n",
              "      <td>1.554566</td>\n",
              "      <td>2.148468</td>\n",
              "      <td>1.179117</td>\n",
              "      <td>0.688057</td>\n",
              "    </tr>\n",
              "    <tr>\n",
              "      <th>9</th>\n",
              "      <td>0.0</td>\n",
              "      <td>1.001869</td>\n",
              "      <td>-0.471788</td>\n",
              "      <td>0.555614</td>\n",
              "      <td>1.233368</td>\n",
              "      <td>1.255548</td>\n",
              "      <td>-1.052491</td>\n",
              "      <td>0.437615</td>\n",
              "      <td>-1.333052</td>\n",
              "      <td>0.326858</td>\n",
              "      <td>-0.111678</td>\n",
              "      <td>1.435708</td>\n",
              "      <td>0.755201</td>\n",
              "      <td>0.466779</td>\n",
              "      <td>0.454541</td>\n",
              "      <td>1.446331</td>\n",
              "      <td>0.592259</td>\n",
              "      <td>1.325197</td>\n",
              "      <td>0.083014</td>\n",
              "    </tr>\n",
              "    <tr>\n",
              "      <th>10</th>\n",
              "      <td>0.0</td>\n",
              "      <td>0.840115</td>\n",
              "      <td>0.958249</td>\n",
              "      <td>-0.585658</td>\n",
              "      <td>1.317930</td>\n",
              "      <td>-1.063730</td>\n",
              "      <td>1.246235</td>\n",
              "      <td>0.261865</td>\n",
              "      <td>-0.027341</td>\n",
              "      <td>0.330517</td>\n",
              "      <td>0.183190</td>\n",
              "      <td>1.557298</td>\n",
              "      <td>0.531022</td>\n",
              "      <td>0.302592</td>\n",
              "      <td>0.426702</td>\n",
              "      <td>1.564376</td>\n",
              "      <td>0.338552</td>\n",
              "      <td>1.137456</td>\n",
              "      <td>0.011040</td>\n",
              "    </tr>\n",
              "    <tr>\n",
              "      <th>11</th>\n",
              "      <td>0.0</td>\n",
              "      <td>1.263320</td>\n",
              "      <td>0.733208</td>\n",
              "      <td>0.331149</td>\n",
              "      <td>1.511739</td>\n",
              "      <td>0.371084</td>\n",
              "      <td>-1.585176</td>\n",
              "      <td>0.572889</td>\n",
              "      <td>-1.054526</td>\n",
              "      <td>0.698872</td>\n",
              "      <td>-0.259238</td>\n",
              "      <td>1.155319</td>\n",
              "      <td>0.983545</td>\n",
              "      <td>0.755454</td>\n",
              "      <td>0.926953</td>\n",
              "      <td>1.168115</td>\n",
              "      <td>0.709708</td>\n",
              "      <td>1.578325</td>\n",
              "      <td>0.184405</td>\n",
              "    </tr>\n",
              "    <tr>\n",
              "      <th>12</th>\n",
              "      <td>0.0</td>\n",
              "      <td>0.698336</td>\n",
              "      <td>1.689431</td>\n",
              "      <td>-1.134670</td>\n",
              "      <td>0.966594</td>\n",
              "      <td>1.503367</td>\n",
              "      <td>0.880949</td>\n",
              "      <td>0.242573</td>\n",
              "      <td>-0.228654</td>\n",
              "      <td>0.364132</td>\n",
              "      <td>0.109350</td>\n",
              "      <td>0.668554</td>\n",
              "      <td>0.489941</td>\n",
              "      <td>0.650313</td>\n",
              "      <td>0.683634</td>\n",
              "      <td>0.664825</td>\n",
              "      <td>0.510385</td>\n",
              "      <td>0.584092</td>\n",
              "      <td>0.031694</td>\n",
              "    </tr>\n",
              "    <tr>\n",
              "      <th>13</th>\n",
              "      <td>0.0</td>\n",
              "      <td>0.578286</td>\n",
              "      <td>-0.689652</td>\n",
              "      <td>-0.390094</td>\n",
              "      <td>0.480061</td>\n",
              "      <td>-0.632219</td>\n",
              "      <td>1.212005</td>\n",
              "      <td>0.640473</td>\n",
              "      <td>-1.622401</td>\n",
              "      <td>0.872160</td>\n",
              "      <td>-0.186169</td>\n",
              "      <td>0.451853</td>\n",
              "      <td>0.669288</td>\n",
              "      <td>1.314412</td>\n",
              "      <td>0.559444</td>\n",
              "      <td>0.491753</td>\n",
              "      <td>0.559017</td>\n",
              "      <td>1.286520</td>\n",
              "      <td>0.400292</td>\n",
              "    </tr>\n",
              "    <tr>\n",
              "      <th>14</th>\n",
              "      <td>1.0</td>\n",
              "      <td>0.798202</td>\n",
              "      <td>0.099358</td>\n",
              "      <td>-1.095839</td>\n",
              "      <td>0.531147</td>\n",
              "      <td>-0.962327</td>\n",
              "      <td>1.500362</td>\n",
              "      <td>1.273941</td>\n",
              "      <td>0.675408</td>\n",
              "      <td>1.803743</td>\n",
              "      <td>-0.845941</td>\n",
              "      <td>0.685836</td>\n",
              "      <td>1.234757</td>\n",
              "      <td>1.597630</td>\n",
              "      <td>1.864630</td>\n",
              "      <td>0.775854</td>\n",
              "      <td>1.556949</td>\n",
              "      <td>1.245781</td>\n",
              "      <td>0.538010</td>\n",
              "    </tr>\n",
              "    <tr>\n",
              "      <th>15</th>\n",
              "      <td>1.0</td>\n",
              "      <td>0.452214</td>\n",
              "      <td>-0.004851</td>\n",
              "      <td>-1.374135</td>\n",
              "      <td>0.455546</td>\n",
              "      <td>0.271702</td>\n",
              "      <td>1.643006</td>\n",
              "      <td>0.835887</td>\n",
              "      <td>-0.254897</td>\n",
              "      <td>1.254769</td>\n",
              "      <td>-0.252735</td>\n",
              "      <td>0.383118</td>\n",
              "      <td>0.788506</td>\n",
              "      <td>1.826371</td>\n",
              "      <td>1.687989</td>\n",
              "      <td>0.412063</td>\n",
              "      <td>1.258978</td>\n",
              "      <td>1.000029</td>\n",
              "      <td>0.237916</td>\n",
              "    </tr>\n",
              "    <tr>\n",
              "      <th>16</th>\n",
              "      <td>0.0</td>\n",
              "      <td>0.865126</td>\n",
              "      <td>-1.109674</td>\n",
              "      <td>1.378841</td>\n",
              "      <td>1.225827</td>\n",
              "      <td>-1.599314</td>\n",
              "      <td>-0.335546</td>\n",
              "      <td>0.452621</td>\n",
              "      <td>1.396529</td>\n",
              "      <td>0.014348</td>\n",
              "      <td>0.761019</td>\n",
              "      <td>0.873992</td>\n",
              "      <td>0.646078</td>\n",
              "      <td>0.655985</td>\n",
              "      <td>0.027587</td>\n",
              "      <td>0.879327</td>\n",
              "      <td>0.099123</td>\n",
              "      <td>1.526896</td>\n",
              "      <td>0.103202</td>\n",
              "    </tr>\n",
              "    <tr>\n",
              "      <th>17</th>\n",
              "      <td>0.0</td>\n",
              "      <td>0.679042</td>\n",
              "      <td>-0.116113</td>\n",
              "      <td>-1.449247</td>\n",
              "      <td>0.725930</td>\n",
              "      <td>0.832636</td>\n",
              "      <td>-1.068640</td>\n",
              "      <td>0.734276</td>\n",
              "      <td>0.616541</td>\n",
              "      <td>1.102238</td>\n",
              "      <td>-0.383189</td>\n",
              "      <td>0.674581</td>\n",
              "      <td>0.989127</td>\n",
              "      <td>1.301167</td>\n",
              "      <td>2.113569</td>\n",
              "      <td>0.622589</td>\n",
              "      <td>1.583448</td>\n",
              "      <td>0.462588</td>\n",
              "      <td>0.192226</td>\n",
              "    </tr>\n",
              "    <tr>\n",
              "      <th>18</th>\n",
              "      <td>0.0</td>\n",
              "      <td>0.696711</td>\n",
              "      <td>1.532483</td>\n",
              "      <td>0.451737</td>\n",
              "      <td>0.953612</td>\n",
              "      <td>1.085324</td>\n",
              "      <td>-1.261485</td>\n",
              "      <td>0.021957</td>\n",
              "      <td>0.769306</td>\n",
              "      <td>0.017608</td>\n",
              "      <td>0.332876</td>\n",
              "      <td>0.681880</td>\n",
              "      <td>0.127229</td>\n",
              "      <td>0.165574</td>\n",
              "      <td>0.041008</td>\n",
              "      <td>0.681533</td>\n",
              "      <td>0.039989</td>\n",
              "      <td>0.126778</td>\n",
              "      <td>0.040972</td>\n",
              "    </tr>\n",
              "    <tr>\n",
              "      <th>19</th>\n",
              "      <td>1.0</td>\n",
              "      <td>1.006098</td>\n",
              "      <td>-0.218872</td>\n",
              "      <td>1.273336</td>\n",
              "      <td>1.621487</td>\n",
              "      <td>0.076018</td>\n",
              "      <td>0.586132</td>\n",
              "      <td>0.561284</td>\n",
              "      <td>0.170752</td>\n",
              "      <td>0.582976</td>\n",
              "      <td>0.411129</td>\n",
              "      <td>1.046204</td>\n",
              "      <td>0.777395</td>\n",
              "      <td>0.659388</td>\n",
              "      <td>1.177816</td>\n",
              "      <td>0.740323</td>\n",
              "      <td>1.207057</td>\n",
              "      <td>0.418392</td>\n",
              "      <td>0.219343</td>\n",
              "    </tr>\n",
              "    <tr>\n",
              "      <th>20</th>\n",
              "      <td>1.0</td>\n",
              "      <td>0.837867</td>\n",
              "      <td>1.134530</td>\n",
              "      <td>-0.911252</td>\n",
              "      <td>0.616626</td>\n",
              "      <td>1.000158</td>\n",
              "      <td>1.292737</td>\n",
              "      <td>1.272458</td>\n",
              "      <td>-0.676616</td>\n",
              "      <td>0.764920</td>\n",
              "      <td>1.165517</td>\n",
              "      <td>0.631193</td>\n",
              "      <td>0.786714</td>\n",
              "      <td>1.106040</td>\n",
              "      <td>0.815495</td>\n",
              "      <td>0.588254</td>\n",
              "      <td>0.607716</td>\n",
              "      <td>1.156936</td>\n",
              "      <td>0.310599</td>\n",
              "    </tr>\n",
              "    <tr>\n",
              "      <th>21</th>\n",
              "      <td>0.0</td>\n",
              "      <td>1.641748</td>\n",
              "      <td>-1.829807</td>\n",
              "      <td>0.150152</td>\n",
              "      <td>2.702642</td>\n",
              "      <td>-0.129722</td>\n",
              "      <td>-1.380814</td>\n",
              "      <td>0.194475</td>\n",
              "      <td>-1.478649</td>\n",
              "      <td>0.055107</td>\n",
              "      <td>0.303612</td>\n",
              "      <td>2.638832</td>\n",
              "      <td>0.636117</td>\n",
              "      <td>0.213914</td>\n",
              "      <td>0.230072</td>\n",
              "      <td>2.635528</td>\n",
              "      <td>0.546993</td>\n",
              "      <td>0.354201</td>\n",
              "      <td>0.016105</td>\n",
              "    </tr>\n",
              "    <tr>\n",
              "      <th>22</th>\n",
              "      <td>0.0</td>\n",
              "      <td>1.466649</td>\n",
              "      <td>0.115517</td>\n",
              "      <td>-1.036161</td>\n",
              "      <td>0.877247</td>\n",
              "      <td>0.690861</td>\n",
              "      <td>1.130069</td>\n",
              "      <td>0.890722</td>\n",
              "      <td>0.426515</td>\n",
              "      <td>1.283212</td>\n",
              "      <td>-0.563880</td>\n",
              "      <td>1.090046</td>\n",
              "      <td>1.327570</td>\n",
              "      <td>1.080762</td>\n",
              "      <td>1.588076</td>\n",
              "      <td>1.069615</td>\n",
              "      <td>1.258800</td>\n",
              "      <td>0.443045</td>\n",
              "      <td>0.415406</td>\n",
              "    </tr>\n",
              "    <tr>\n",
              "      <th>23</th>\n",
              "      <td>1.0</td>\n",
              "      <td>1.641595</td>\n",
              "      <td>-1.044596</td>\n",
              "      <td>0.543058</td>\n",
              "      <td>0.744842</td>\n",
              "      <td>-0.308126</td>\n",
              "      <td>-0.956825</td>\n",
              "      <td>1.249039</td>\n",
              "      <td>-1.477087</td>\n",
              "      <td>0.731511</td>\n",
              "      <td>-0.847167</td>\n",
              "      <td>1.160934</td>\n",
              "      <td>1.601837</td>\n",
              "      <td>1.224409</td>\n",
              "      <td>1.256747</td>\n",
              "      <td>1.179161</td>\n",
              "      <td>1.215011</td>\n",
              "      <td>0.937398</td>\n",
              "      <td>0.513443</td>\n",
              "    </tr>\n",
              "    <tr>\n",
              "      <th>24</th>\n",
              "      <td>1.0</td>\n",
              "      <td>1.361442</td>\n",
              "      <td>-0.506247</td>\n",
              "      <td>-0.646164</td>\n",
              "      <td>1.047869</td>\n",
              "      <td>1.136730</td>\n",
              "      <td>0.698665</td>\n",
              "      <td>1.657924</td>\n",
              "      <td>-0.061501</td>\n",
              "      <td>2.154410</td>\n",
              "      <td>1.672853</td>\n",
              "      <td>1.525310</td>\n",
              "      <td>1.117499</td>\n",
              "      <td>0.650136</td>\n",
              "      <td>0.000000</td>\n",
              "      <td>1.472982</td>\n",
              "      <td>0.969957</td>\n",
              "      <td>1.209303</td>\n",
              "      <td>0.039710</td>\n",
              "    </tr>\n",
              "    <tr>\n",
              "      <th>25</th>\n",
              "      <td>0.0</td>\n",
              "      <td>1.297482</td>\n",
              "      <td>-0.254912</td>\n",
              "      <td>1.116834</td>\n",
              "      <td>0.979169</td>\n",
              "      <td>-0.135346</td>\n",
              "      <td>-0.697154</td>\n",
              "      <td>1.027495</td>\n",
              "      <td>-0.166322</td>\n",
              "      <td>1.254201</td>\n",
              "      <td>-0.479649</td>\n",
              "      <td>0.985066</td>\n",
              "      <td>1.259747</td>\n",
              "      <td>1.134837</td>\n",
              "      <td>0.760780</td>\n",
              "      <td>1.022235</td>\n",
              "      <td>0.810835</td>\n",
              "      <td>1.115006</td>\n",
              "      <td>0.394822</td>\n",
              "    </tr>\n",
              "    <tr>\n",
              "      <th>26</th>\n",
              "      <td>0.0</td>\n",
              "      <td>0.378505</td>\n",
              "      <td>-1.082134</td>\n",
              "      <td>1.008099</td>\n",
              "      <td>0.611425</td>\n",
              "      <td>-1.285566</td>\n",
              "      <td>-0.065581</td>\n",
              "      <td>0.916273</td>\n",
              "      <td>-0.886186</td>\n",
              "      <td>1.371866</td>\n",
              "      <td>-0.421905</td>\n",
              "      <td>0.391697</td>\n",
              "      <td>0.790429</td>\n",
              "      <td>1.790726</td>\n",
              "      <td>1.388440</td>\n",
              "      <td>0.473287</td>\n",
              "      <td>1.068429</td>\n",
              "      <td>1.305904</td>\n",
              "      <td>0.347194</td>\n",
              "    </tr>\n",
              "    <tr>\n",
              "      <th>27</th>\n",
              "      <td>0.0</td>\n",
              "      <td>0.675933</td>\n",
              "      <td>0.126536</td>\n",
              "      <td>0.956136</td>\n",
              "      <td>0.686048</td>\n",
              "      <td>-0.199500</td>\n",
              "      <td>-1.708110</td>\n",
              "      <td>0.924259</td>\n",
              "      <td>-0.693053</td>\n",
              "      <td>1.387424</td>\n",
              "      <td>-0.549809</td>\n",
              "      <td>0.577165</td>\n",
              "      <td>1.042057</td>\n",
              "      <td>1.602167</td>\n",
              "      <td>1.921268</td>\n",
              "      <td>0.612655</td>\n",
              "      <td>1.435927</td>\n",
              "      <td>1.072373</td>\n",
              "      <td>0.474427</td>\n",
              "    </tr>\n",
              "    <tr>\n",
              "      <th>28</th>\n",
              "      <td>0.0</td>\n",
              "      <td>0.463987</td>\n",
              "      <td>0.011333</td>\n",
              "      <td>0.369054</td>\n",
              "      <td>0.553187</td>\n",
              "      <td>0.389280</td>\n",
              "      <td>0.301573</td>\n",
              "      <td>1.657913</td>\n",
              "      <td>1.520308</td>\n",
              "      <td>2.488732</td>\n",
              "      <td>-0.559999</td>\n",
              "      <td>0.425258</td>\n",
              "      <td>1.126461</td>\n",
              "      <td>2.350607</td>\n",
              "      <td>2.460358</td>\n",
              "      <td>0.565242</td>\n",
              "      <td>1.836446</td>\n",
              "      <td>1.168629</td>\n",
              "      <td>0.602618</td>\n",
              "    </tr>\n",
              "    <tr>\n",
              "      <th>29</th>\n",
              "      <td>0.0</td>\n",
              "      <td>1.164915</td>\n",
              "      <td>-1.216874</td>\n",
              "      <td>1.387384</td>\n",
              "      <td>1.289362</td>\n",
              "      <td>0.853503</td>\n",
              "      <td>-0.864189</td>\n",
              "      <td>0.552337</td>\n",
              "      <td>0.371583</td>\n",
              "      <td>0.829126</td>\n",
              "      <td>-0.149219</td>\n",
              "      <td>1.863999</td>\n",
              "      <td>0.975417</td>\n",
              "      <td>0.464368</td>\n",
              "      <td>1.686075</td>\n",
              "      <td>1.846609</td>\n",
              "      <td>1.296029</td>\n",
              "      <td>0.454520</td>\n",
              "      <td>0.027528</td>\n",
              "    </tr>\n",
              "    <tr>\n",
              "      <th>...</th>\n",
              "      <td>...</td>\n",
              "      <td>...</td>\n",
              "      <td>...</td>\n",
              "      <td>...</td>\n",
              "      <td>...</td>\n",
              "      <td>...</td>\n",
              "      <td>...</td>\n",
              "      <td>...</td>\n",
              "      <td>...</td>\n",
              "      <td>...</td>\n",
              "      <td>...</td>\n",
              "      <td>...</td>\n",
              "      <td>...</td>\n",
              "      <td>...</td>\n",
              "      <td>...</td>\n",
              "      <td>...</td>\n",
              "      <td>...</td>\n",
              "      <td>...</td>\n",
              "      <td>...</td>\n",
              "    </tr>\n",
              "    <tr>\n",
              "      <th>4999970</th>\n",
              "      <td>0.0</td>\n",
              "      <td>0.772051</td>\n",
              "      <td>0.081051</td>\n",
              "      <td>0.665382</td>\n",
              "      <td>0.995895</td>\n",
              "      <td>0.564401</td>\n",
              "      <td>-1.218781</td>\n",
              "      <td>0.545470</td>\n",
              "      <td>-0.938474</td>\n",
              "      <td>0.389197</td>\n",
              "      <td>-0.179175</td>\n",
              "      <td>0.743884</td>\n",
              "      <td>0.742403</td>\n",
              "      <td>0.885624</td>\n",
              "      <td>0.465971</td>\n",
              "      <td>0.766907</td>\n",
              "      <td>0.393374</td>\n",
              "      <td>1.380740</td>\n",
              "      <td>0.246574</td>\n",
              "    </tr>\n",
              "    <tr>\n",
              "      <th>4999971</th>\n",
              "      <td>0.0</td>\n",
              "      <td>0.306894</td>\n",
              "      <td>0.609032</td>\n",
              "      <td>0.864028</td>\n",
              "      <td>0.438315</td>\n",
              "      <td>1.402401</td>\n",
              "      <td>-1.173018</td>\n",
              "      <td>0.267329</td>\n",
              "      <td>-1.031219</td>\n",
              "      <td>0.097099</td>\n",
              "      <td>0.248908</td>\n",
              "      <td>0.332664</td>\n",
              "      <td>0.320653</td>\n",
              "      <td>0.855355</td>\n",
              "      <td>0.143922</td>\n",
              "      <td>0.337387</td>\n",
              "      <td>0.191113</td>\n",
              "      <td>1.094609</td>\n",
              "      <td>0.235031</td>\n",
              "    </tr>\n",
              "    <tr>\n",
              "      <th>4999972</th>\n",
              "      <td>0.0</td>\n",
              "      <td>0.555719</td>\n",
              "      <td>-1.809759</td>\n",
              "      <td>-0.517869</td>\n",
              "      <td>0.468845</td>\n",
              "      <td>-1.798199</td>\n",
              "      <td>0.126298</td>\n",
              "      <td>0.611404</td>\n",
              "      <td>1.140576</td>\n",
              "      <td>0.917792</td>\n",
              "      <td>-0.217717</td>\n",
              "      <td>0.436476</td>\n",
              "      <td>0.750250</td>\n",
              "      <td>1.525324</td>\n",
              "      <td>1.361695</td>\n",
              "      <td>0.420984</td>\n",
              "      <td>1.014244</td>\n",
              "      <td>0.752499</td>\n",
              "      <td>0.621426</td>\n",
              "    </tr>\n",
              "    <tr>\n",
              "      <th>4999973</th>\n",
              "      <td>0.0</td>\n",
              "      <td>0.411936</td>\n",
              "      <td>1.639347</td>\n",
              "      <td>0.155845</td>\n",
              "      <td>0.654584</td>\n",
              "      <td>-0.201792</td>\n",
              "      <td>0.927203</td>\n",
              "      <td>0.428966</td>\n",
              "      <td>1.456556</td>\n",
              "      <td>0.522951</td>\n",
              "      <td>0.273558</td>\n",
              "      <td>0.697551</td>\n",
              "      <td>0.483795</td>\n",
              "      <td>0.615466</td>\n",
              "      <td>0.778334</td>\n",
              "      <td>0.657248</td>\n",
              "      <td>0.686104</td>\n",
              "      <td>0.675997</td>\n",
              "      <td>0.088808</td>\n",
              "    </tr>\n",
              "    <tr>\n",
              "      <th>4999974</th>\n",
              "      <td>0.0</td>\n",
              "      <td>0.579771</td>\n",
              "      <td>0.669194</td>\n",
              "      <td>0.916361</td>\n",
              "      <td>0.481992</td>\n",
              "      <td>0.383977</td>\n",
              "      <td>-0.449522</td>\n",
              "      <td>0.547135</td>\n",
              "      <td>1.628749</td>\n",
              "      <td>0.786687</td>\n",
              "      <td>0.222415</td>\n",
              "      <td>0.458597</td>\n",
              "      <td>0.568793</td>\n",
              "      <td>1.100624</td>\n",
              "      <td>0.861468</td>\n",
              "      <td>0.458086</td>\n",
              "      <td>0.675585</td>\n",
              "      <td>0.998140</td>\n",
              "      <td>0.031265</td>\n",
              "    </tr>\n",
              "    <tr>\n",
              "      <th>4999975</th>\n",
              "      <td>1.0</td>\n",
              "      <td>0.630982</td>\n",
              "      <td>0.345205</td>\n",
              "      <td>-1.239799</td>\n",
              "      <td>0.897030</td>\n",
              "      <td>-0.087721</td>\n",
              "      <td>-0.006848</td>\n",
              "      <td>0.525165</td>\n",
              "      <td>1.174039</td>\n",
              "      <td>0.788337</td>\n",
              "      <td>-0.191744</td>\n",
              "      <td>0.629268</td>\n",
              "      <td>0.743672</td>\n",
              "      <td>1.048725</td>\n",
              "      <td>1.280769</td>\n",
              "      <td>0.638197</td>\n",
              "      <td>0.954547</td>\n",
              "      <td>1.012330</td>\n",
              "      <td>0.030134</td>\n",
              "    </tr>\n",
              "    <tr>\n",
              "      <th>4999976</th>\n",
              "      <td>0.0</td>\n",
              "      <td>0.632756</td>\n",
              "      <td>-0.972319</td>\n",
              "      <td>-0.034061</td>\n",
              "      <td>0.770231</td>\n",
              "      <td>-0.980846</td>\n",
              "      <td>-0.999496</td>\n",
              "      <td>1.130503</td>\n",
              "      <td>1.031468</td>\n",
              "      <td>1.697023</td>\n",
              "      <td>-0.658722</td>\n",
              "      <td>0.570481</td>\n",
              "      <td>1.103604</td>\n",
              "      <td>1.716675</td>\n",
              "      <td>2.145489</td>\n",
              "      <td>0.653565</td>\n",
              "      <td>1.627295</td>\n",
              "      <td>1.224264</td>\n",
              "      <td>0.017822</td>\n",
              "    </tr>\n",
              "    <tr>\n",
              "      <th>4999977</th>\n",
              "      <td>0.0</td>\n",
              "      <td>0.821894</td>\n",
              "      <td>0.721731</td>\n",
              "      <td>0.232942</td>\n",
              "      <td>0.984021</td>\n",
              "      <td>1.408234</td>\n",
              "      <td>-1.499447</td>\n",
              "      <td>0.451208</td>\n",
              "      <td>0.585650</td>\n",
              "      <td>0.397412</td>\n",
              "      <td>0.681289</td>\n",
              "      <td>0.801412</td>\n",
              "      <td>0.589269</td>\n",
              "      <td>0.652491</td>\n",
              "      <td>0.061916</td>\n",
              "      <td>0.799578</td>\n",
              "      <td>0.264371</td>\n",
              "      <td>1.269593</td>\n",
              "      <td>0.049163</td>\n",
              "    </tr>\n",
              "    <tr>\n",
              "      <th>4999978</th>\n",
              "      <td>1.0</td>\n",
              "      <td>1.689959</td>\n",
              "      <td>0.000985</td>\n",
              "      <td>-0.889892</td>\n",
              "      <td>1.559262</td>\n",
              "      <td>-0.177674</td>\n",
              "      <td>0.773766</td>\n",
              "      <td>2.579031</td>\n",
              "      <td>0.598344</td>\n",
              "      <td>1.251830</td>\n",
              "      <td>-1.805566</td>\n",
              "      <td>1.376108</td>\n",
              "      <td>2.305554</td>\n",
              "      <td>1.486756</td>\n",
              "      <td>0.000000</td>\n",
              "      <td>1.584048</td>\n",
              "      <td>0.694180</td>\n",
              "      <td>1.416985</td>\n",
              "      <td>0.542614</td>\n",
              "    </tr>\n",
              "    <tr>\n",
              "      <th>4999979</th>\n",
              "      <td>0.0</td>\n",
              "      <td>0.588275</td>\n",
              "      <td>-1.153023</td>\n",
              "      <td>0.681203</td>\n",
              "      <td>0.895145</td>\n",
              "      <td>0.302639</td>\n",
              "      <td>-1.565196</td>\n",
              "      <td>0.407740</td>\n",
              "      <td>-0.442062</td>\n",
              "      <td>0.612068</td>\n",
              "      <td>-0.091711</td>\n",
              "      <td>0.820799</td>\n",
              "      <td>0.647016</td>\n",
              "      <td>0.699510</td>\n",
              "      <td>1.120962</td>\n",
              "      <td>0.819772</td>\n",
              "      <td>0.835719</td>\n",
              "      <td>0.363649</td>\n",
              "      <td>0.017190</td>\n",
              "    </tr>\n",
              "    <tr>\n",
              "      <th>4999980</th>\n",
              "      <td>0.0</td>\n",
              "      <td>0.759629</td>\n",
              "      <td>-1.099936</td>\n",
              "      <td>1.018840</td>\n",
              "      <td>1.023628</td>\n",
              "      <td>-1.524405</td>\n",
              "      <td>-0.539747</td>\n",
              "      <td>0.440853</td>\n",
              "      <td>0.375886</td>\n",
              "      <td>0.610924</td>\n",
              "      <td>0.729659</td>\n",
              "      <td>0.741773</td>\n",
              "      <td>0.559601</td>\n",
              "      <td>0.669459</td>\n",
              "      <td>0.000000</td>\n",
              "      <td>0.734658</td>\n",
              "      <td>0.222678</td>\n",
              "      <td>1.333323</td>\n",
              "      <td>0.012691</td>\n",
              "    </tr>\n",
              "    <tr>\n",
              "      <th>4999981</th>\n",
              "      <td>0.0</td>\n",
              "      <td>0.980560</td>\n",
              "      <td>0.244252</td>\n",
              "      <td>1.370602</td>\n",
              "      <td>1.504819</td>\n",
              "      <td>0.681870</td>\n",
              "      <td>-0.753009</td>\n",
              "      <td>0.881322</td>\n",
              "      <td>0.730479</td>\n",
              "      <td>1.218523</td>\n",
              "      <td>-0.249648</td>\n",
              "      <td>1.016021</td>\n",
              "      <td>1.130732</td>\n",
              "      <td>0.987583</td>\n",
              "      <td>1.625787</td>\n",
              "      <td>1.036363</td>\n",
              "      <td>1.218644</td>\n",
              "      <td>1.046883</td>\n",
              "      <td>0.135561</td>\n",
              "    </tr>\n",
              "    <tr>\n",
              "      <th>4999982</th>\n",
              "      <td>0.0</td>\n",
              "      <td>0.991963</td>\n",
              "      <td>0.114058</td>\n",
              "      <td>-1.284302</td>\n",
              "      <td>1.091986</td>\n",
              "      <td>0.883251</td>\n",
              "      <td>0.534301</td>\n",
              "      <td>0.704755</td>\n",
              "      <td>0.564092</td>\n",
              "      <td>0.044870</td>\n",
              "      <td>-0.316144</td>\n",
              "      <td>0.949935</td>\n",
              "      <td>0.936588</td>\n",
              "      <td>0.874928</td>\n",
              "      <td>0.000000</td>\n",
              "      <td>0.979003</td>\n",
              "      <td>0.420024</td>\n",
              "      <td>1.343193</td>\n",
              "      <td>0.272565</td>\n",
              "    </tr>\n",
              "    <tr>\n",
              "      <th>4999983</th>\n",
              "      <td>0.0</td>\n",
              "      <td>1.399545</td>\n",
              "      <td>0.889210</td>\n",
              "      <td>0.889816</td>\n",
              "      <td>0.566762</td>\n",
              "      <td>0.529097</td>\n",
              "      <td>-0.452789</td>\n",
              "      <td>0.895946</td>\n",
              "      <td>-0.489040</td>\n",
              "      <td>0.104523</td>\n",
              "      <td>-0.296892</td>\n",
              "      <td>0.920684</td>\n",
              "      <td>1.197951</td>\n",
              "      <td>1.154634</td>\n",
              "      <td>0.105272</td>\n",
              "      <td>0.866587</td>\n",
              "      <td>0.362570</td>\n",
              "      <td>0.694904</td>\n",
              "      <td>0.592398</td>\n",
              "    </tr>\n",
              "    <tr>\n",
              "      <th>4999984</th>\n",
              "      <td>1.0</td>\n",
              "      <td>2.108980</td>\n",
              "      <td>0.561875</td>\n",
              "      <td>-1.306236</td>\n",
              "      <td>0.913503</td>\n",
              "      <td>1.112271</td>\n",
              "      <td>0.970117</td>\n",
              "      <td>2.291246</td>\n",
              "      <td>0.902578</td>\n",
              "      <td>0.458420</td>\n",
              "      <td>-0.745272</td>\n",
              "      <td>1.440563</td>\n",
              "      <td>2.256679</td>\n",
              "      <td>1.390125</td>\n",
              "      <td>0.365905</td>\n",
              "      <td>1.452357</td>\n",
              "      <td>1.035867</td>\n",
              "      <td>0.959336</td>\n",
              "      <td>0.660579</td>\n",
              "    </tr>\n",
              "    <tr>\n",
              "      <th>4999985</th>\n",
              "      <td>0.0</td>\n",
              "      <td>0.620572</td>\n",
              "      <td>-1.481400</td>\n",
              "      <td>0.798580</td>\n",
              "      <td>0.582676</td>\n",
              "      <td>-0.993491</td>\n",
              "      <td>1.097208</td>\n",
              "      <td>0.998735</td>\n",
              "      <td>-0.805931</td>\n",
              "      <td>1.499224</td>\n",
              "      <td>-0.686666</td>\n",
              "      <td>0.523753</td>\n",
              "      <td>1.096319</td>\n",
              "      <td>1.857497</td>\n",
              "      <td>2.295498</td>\n",
              "      <td>0.568390</td>\n",
              "      <td>1.713308</td>\n",
              "      <td>1.503671</td>\n",
              "      <td>0.622427</td>\n",
              "    </tr>\n",
              "    <tr>\n",
              "      <th>4999986</th>\n",
              "      <td>1.0</td>\n",
              "      <td>0.951119</td>\n",
              "      <td>-1.025120</td>\n",
              "      <td>0.735755</td>\n",
              "      <td>1.072442</td>\n",
              "      <td>-1.268414</td>\n",
              "      <td>-1.365378</td>\n",
              "      <td>0.496042</td>\n",
              "      <td>-1.378751</td>\n",
              "      <td>0.027446</td>\n",
              "      <td>0.241199</td>\n",
              "      <td>0.841212</td>\n",
              "      <td>0.726010</td>\n",
              "      <td>0.765865</td>\n",
              "      <td>0.000000</td>\n",
              "      <td>0.816827</td>\n",
              "      <td>0.300119</td>\n",
              "      <td>0.758559</td>\n",
              "      <td>0.259673</td>\n",
              "    </tr>\n",
              "    <tr>\n",
              "      <th>4999987</th>\n",
              "      <td>0.0</td>\n",
              "      <td>0.499972</td>\n",
              "      <td>-0.472138</td>\n",
              "      <td>0.035389</td>\n",
              "      <td>0.617406</td>\n",
              "      <td>0.037837</td>\n",
              "      <td>1.096518</td>\n",
              "      <td>0.547123</td>\n",
              "      <td>-1.299799</td>\n",
              "      <td>0.821299</td>\n",
              "      <td>-0.233039</td>\n",
              "      <td>0.473948</td>\n",
              "      <td>0.690110</td>\n",
              "      <td>1.292122</td>\n",
              "      <td>1.258712</td>\n",
              "      <td>0.491017</td>\n",
              "      <td>0.941776</td>\n",
              "      <td>1.498757</td>\n",
              "      <td>0.193106</td>\n",
              "    </tr>\n",
              "    <tr>\n",
              "      <th>4999988</th>\n",
              "      <td>1.0</td>\n",
              "      <td>2.039801</td>\n",
              "      <td>0.851302</td>\n",
              "      <td>0.125229</td>\n",
              "      <td>0.934144</td>\n",
              "      <td>0.551678</td>\n",
              "      <td>-0.811299</td>\n",
              "      <td>1.602762</td>\n",
              "      <td>-0.852513</td>\n",
              "      <td>0.209035</td>\n",
              "      <td>0.412390</td>\n",
              "      <td>1.370954</td>\n",
              "      <td>1.584090</td>\n",
              "      <td>1.025354</td>\n",
              "      <td>0.202440</td>\n",
              "      <td>1.102830</td>\n",
              "      <td>0.605197</td>\n",
              "      <td>0.739403</td>\n",
              "      <td>0.612186</td>\n",
              "    </tr>\n",
              "    <tr>\n",
              "      <th>4999989</th>\n",
              "      <td>0.0</td>\n",
              "      <td>0.413233</td>\n",
              "      <td>-0.329456</td>\n",
              "      <td>-1.490198</td>\n",
              "      <td>0.479811</td>\n",
              "      <td>-1.487803</td>\n",
              "      <td>-0.729794</td>\n",
              "      <td>0.850578</td>\n",
              "      <td>0.334140</td>\n",
              "      <td>1.276822</td>\n",
              "      <td>-0.474693</td>\n",
              "      <td>0.457745</td>\n",
              "      <td>0.804949</td>\n",
              "      <td>1.560490</td>\n",
              "      <td>1.552907</td>\n",
              "      <td>0.521348</td>\n",
              "      <td>1.203032</td>\n",
              "      <td>1.293182</td>\n",
              "      <td>0.292971</td>\n",
              "    </tr>\n",
              "    <tr>\n",
              "      <th>4999990</th>\n",
              "      <td>0.0</td>\n",
              "      <td>0.482755</td>\n",
              "      <td>1.204410</td>\n",
              "      <td>0.299445</td>\n",
              "      <td>0.780271</td>\n",
              "      <td>1.958697</td>\n",
              "      <td>0.938929</td>\n",
              "      <td>0.887801</td>\n",
              "      <td>-1.404129</td>\n",
              "      <td>1.332697</td>\n",
              "      <td>-0.456543</td>\n",
              "      <td>0.551233</td>\n",
              "      <td>0.957969</td>\n",
              "      <td>1.542171</td>\n",
              "      <td>1.982478</td>\n",
              "      <td>0.579808</td>\n",
              "      <td>1.481396</td>\n",
              "      <td>1.006600</td>\n",
              "      <td>0.189843</td>\n",
              "    </tr>\n",
              "    <tr>\n",
              "      <th>4999991</th>\n",
              "      <td>1.0</td>\n",
              "      <td>1.031701</td>\n",
              "      <td>0.648011</td>\n",
              "      <td>-1.616710</td>\n",
              "      <td>0.532912</td>\n",
              "      <td>1.663047</td>\n",
              "      <td>-1.243807</td>\n",
              "      <td>0.706740</td>\n",
              "      <td>0.189915</td>\n",
              "      <td>0.433557</td>\n",
              "      <td>-0.393302</td>\n",
              "      <td>0.809631</td>\n",
              "      <td>1.087218</td>\n",
              "      <td>1.191645</td>\n",
              "      <td>1.972363</td>\n",
              "      <td>0.698013</td>\n",
              "      <td>1.564201</td>\n",
              "      <td>0.035361</td>\n",
              "      <td>0.504437</td>\n",
              "    </tr>\n",
              "    <tr>\n",
              "      <th>4999992</th>\n",
              "      <td>0.0</td>\n",
              "      <td>1.085361</td>\n",
              "      <td>0.861342</td>\n",
              "      <td>-1.356951</td>\n",
              "      <td>0.483685</td>\n",
              "      <td>0.059381</td>\n",
              "      <td>0.292341</td>\n",
              "      <td>0.340940</td>\n",
              "      <td>0.761038</td>\n",
              "      <td>0.380255</td>\n",
              "      <td>0.038984</td>\n",
              "      <td>0.774140</td>\n",
              "      <td>0.660777</td>\n",
              "      <td>0.757443</td>\n",
              "      <td>0.331105</td>\n",
              "      <td>0.715807</td>\n",
              "      <td>0.447304</td>\n",
              "      <td>0.320159</td>\n",
              "      <td>0.371521</td>\n",
              "    </tr>\n",
              "    <tr>\n",
              "      <th>4999993</th>\n",
              "      <td>0.0</td>\n",
              "      <td>1.339252</td>\n",
              "      <td>-1.753881</td>\n",
              "      <td>0.667430</td>\n",
              "      <td>1.279321</td>\n",
              "      <td>-0.125801</td>\n",
              "      <td>-1.025262</td>\n",
              "      <td>0.996305</td>\n",
              "      <td>-1.425422</td>\n",
              "      <td>1.005658</td>\n",
              "      <td>-0.529824</td>\n",
              "      <td>1.616218</td>\n",
              "      <td>1.278956</td>\n",
              "      <td>0.702218</td>\n",
              "      <td>0.541788</td>\n",
              "      <td>1.649413</td>\n",
              "      <td>1.139551</td>\n",
              "      <td>1.256152</td>\n",
              "      <td>0.159157</td>\n",
              "    </tr>\n",
              "    <tr>\n",
              "      <th>4999994</th>\n",
              "      <td>0.0</td>\n",
              "      <td>0.726624</td>\n",
              "      <td>0.098401</td>\n",
              "      <td>-0.917547</td>\n",
              "      <td>0.477953</td>\n",
              "      <td>-0.297608</td>\n",
              "      <td>1.398104</td>\n",
              "      <td>0.372883</td>\n",
              "      <td>0.774908</td>\n",
              "      <td>0.508651</td>\n",
              "      <td>-0.040399</td>\n",
              "      <td>0.541026</td>\n",
              "      <td>0.617639</td>\n",
              "      <td>1.013056</td>\n",
              "      <td>0.745807</td>\n",
              "      <td>0.507010</td>\n",
              "      <td>0.598500</td>\n",
              "      <td>0.311856</td>\n",
              "      <td>0.428370</td>\n",
              "    </tr>\n",
              "    <tr>\n",
              "      <th>4999995</th>\n",
              "      <td>1.0</td>\n",
              "      <td>0.853325</td>\n",
              "      <td>-0.961783</td>\n",
              "      <td>-1.487277</td>\n",
              "      <td>0.678190</td>\n",
              "      <td>0.493580</td>\n",
              "      <td>1.647969</td>\n",
              "      <td>1.843867</td>\n",
              "      <td>0.276954</td>\n",
              "      <td>1.025105</td>\n",
              "      <td>-1.486535</td>\n",
              "      <td>0.892879</td>\n",
              "      <td>1.684429</td>\n",
              "      <td>1.674084</td>\n",
              "      <td>3.366298</td>\n",
              "      <td>1.046707</td>\n",
              "      <td>2.646649</td>\n",
              "      <td>1.389226</td>\n",
              "      <td>0.364599</td>\n",
              "    </tr>\n",
              "    <tr>\n",
              "      <th>4999996</th>\n",
              "      <td>0.0</td>\n",
              "      <td>0.951581</td>\n",
              "      <td>0.139370</td>\n",
              "      <td>1.436884</td>\n",
              "      <td>0.880440</td>\n",
              "      <td>-0.351948</td>\n",
              "      <td>-0.740852</td>\n",
              "      <td>0.290863</td>\n",
              "      <td>-0.732360</td>\n",
              "      <td>0.001360</td>\n",
              "      <td>0.257738</td>\n",
              "      <td>0.802871</td>\n",
              "      <td>0.545319</td>\n",
              "      <td>0.602730</td>\n",
              "      <td>0.002998</td>\n",
              "      <td>0.748959</td>\n",
              "      <td>0.401166</td>\n",
              "      <td>0.443471</td>\n",
              "      <td>0.239953</td>\n",
              "    </tr>\n",
              "    <tr>\n",
              "      <th>4999997</th>\n",
              "      <td>0.0</td>\n",
              "      <td>0.840389</td>\n",
              "      <td>1.419162</td>\n",
              "      <td>-1.218766</td>\n",
              "      <td>1.195631</td>\n",
              "      <td>1.695645</td>\n",
              "      <td>0.663756</td>\n",
              "      <td>0.490888</td>\n",
              "      <td>-0.509186</td>\n",
              "      <td>0.704289</td>\n",
              "      <td>0.045744</td>\n",
              "      <td>0.825015</td>\n",
              "      <td>0.723530</td>\n",
              "      <td>0.778236</td>\n",
              "      <td>0.752942</td>\n",
              "      <td>0.838953</td>\n",
              "      <td>0.614048</td>\n",
              "      <td>1.210595</td>\n",
              "      <td>0.026692</td>\n",
              "    </tr>\n",
              "    <tr>\n",
              "      <th>4999998</th>\n",
              "      <td>1.0</td>\n",
              "      <td>1.784218</td>\n",
              "      <td>-0.833565</td>\n",
              "      <td>-0.560091</td>\n",
              "      <td>0.953342</td>\n",
              "      <td>-0.688969</td>\n",
              "      <td>-1.428233</td>\n",
              "      <td>2.660703</td>\n",
              "      <td>-0.861344</td>\n",
              "      <td>2.116892</td>\n",
              "      <td>2.906151</td>\n",
              "      <td>1.232334</td>\n",
              "      <td>0.952444</td>\n",
              "      <td>0.685846</td>\n",
              "      <td>0.000000</td>\n",
              "      <td>0.781874</td>\n",
              "      <td>0.676003</td>\n",
              "      <td>1.197807</td>\n",
              "      <td>0.093689</td>\n",
              "    </tr>\n",
              "    <tr>\n",
              "      <th>4999999</th>\n",
              "      <td>0.0</td>\n",
              "      <td>0.761500</td>\n",
              "      <td>0.680454</td>\n",
              "      <td>-1.186213</td>\n",
              "      <td>1.043521</td>\n",
              "      <td>-0.316755</td>\n",
              "      <td>0.246879</td>\n",
              "      <td>1.120280</td>\n",
              "      <td>0.998479</td>\n",
              "      <td>1.640881</td>\n",
              "      <td>-0.797688</td>\n",
              "      <td>0.854212</td>\n",
              "      <td>1.121858</td>\n",
              "      <td>1.165438</td>\n",
              "      <td>1.498351</td>\n",
              "      <td>0.931580</td>\n",
              "      <td>1.293524</td>\n",
              "      <td>1.539167</td>\n",
              "      <td>0.187496</td>\n",
              "    </tr>\n",
              "  </tbody>\n",
              "</table>\n",
              "<p>5000000 rows × 19 columns</p>\n",
              "</div>"
            ],
            "text/plain": [
              "         signal    l_1_pT   l_1_eta   l_1_phi    l_2_pT   l_2_eta   l_2_phi  \\\n",
              "0           0.0  0.972861  0.653855  1.176225  1.157156 -1.739873 -0.874309   \n",
              "1           1.0  1.667973  0.064191 -1.225171  0.506102 -0.338939  1.672543   \n",
              "2           1.0  0.444840 -0.134298 -0.709972  0.451719 -1.613871 -0.768661   \n",
              "3           1.0  0.381256 -0.976145  0.693152  0.448959  0.891753 -0.677328   \n",
              "4           1.0  1.309996 -0.690089 -0.676259  1.589283 -0.693326  0.622907   \n",
              "5           0.0  0.456398  1.099371  1.512453  0.751772  0.638967 -0.742216   \n",
              "6           0.0  0.437818 -1.119883 -1.336823  0.502320 -1.717515  1.017067   \n",
              "7           0.0  0.571656  0.205696  0.425950  0.578514  0.927399 -1.101478   \n",
              "8           1.0  2.112812  0.742983 -0.330539  0.805253 -0.028887 -1.446679   \n",
              "9           0.0  1.001869 -0.471788  0.555614  1.233368  1.255548 -1.052491   \n",
              "10          0.0  0.840115  0.958249 -0.585658  1.317930 -1.063730  1.246235   \n",
              "11          0.0  1.263320  0.733208  0.331149  1.511739  0.371084 -1.585176   \n",
              "12          0.0  0.698336  1.689431 -1.134670  0.966594  1.503367  0.880949   \n",
              "13          0.0  0.578286 -0.689652 -0.390094  0.480061 -0.632219  1.212005   \n",
              "14          1.0  0.798202  0.099358 -1.095839  0.531147 -0.962327  1.500362   \n",
              "15          1.0  0.452214 -0.004851 -1.374135  0.455546  0.271702  1.643006   \n",
              "16          0.0  0.865126 -1.109674  1.378841  1.225827 -1.599314 -0.335546   \n",
              "17          0.0  0.679042 -0.116113 -1.449247  0.725930  0.832636 -1.068640   \n",
              "18          0.0  0.696711  1.532483  0.451737  0.953612  1.085324 -1.261485   \n",
              "19          1.0  1.006098 -0.218872  1.273336  1.621487  0.076018  0.586132   \n",
              "20          1.0  0.837867  1.134530 -0.911252  0.616626  1.000158  1.292737   \n",
              "21          0.0  1.641748 -1.829807  0.150152  2.702642 -0.129722 -1.380814   \n",
              "22          0.0  1.466649  0.115517 -1.036161  0.877247  0.690861  1.130069   \n",
              "23          1.0  1.641595 -1.044596  0.543058  0.744842 -0.308126 -0.956825   \n",
              "24          1.0  1.361442 -0.506247 -0.646164  1.047869  1.136730  0.698665   \n",
              "25          0.0  1.297482 -0.254912  1.116834  0.979169 -0.135346 -0.697154   \n",
              "26          0.0  0.378505 -1.082134  1.008099  0.611425 -1.285566 -0.065581   \n",
              "27          0.0  0.675933  0.126536  0.956136  0.686048 -0.199500 -1.708110   \n",
              "28          0.0  0.463987  0.011333  0.369054  0.553187  0.389280  0.301573   \n",
              "29          0.0  1.164915 -1.216874  1.387384  1.289362  0.853503 -0.864189   \n",
              "...         ...       ...       ...       ...       ...       ...       ...   \n",
              "4999970     0.0  0.772051  0.081051  0.665382  0.995895  0.564401 -1.218781   \n",
              "4999971     0.0  0.306894  0.609032  0.864028  0.438315  1.402401 -1.173018   \n",
              "4999972     0.0  0.555719 -1.809759 -0.517869  0.468845 -1.798199  0.126298   \n",
              "4999973     0.0  0.411936  1.639347  0.155845  0.654584 -0.201792  0.927203   \n",
              "4999974     0.0  0.579771  0.669194  0.916361  0.481992  0.383977 -0.449522   \n",
              "4999975     1.0  0.630982  0.345205 -1.239799  0.897030 -0.087721 -0.006848   \n",
              "4999976     0.0  0.632756 -0.972319 -0.034061  0.770231 -0.980846 -0.999496   \n",
              "4999977     0.0  0.821894  0.721731  0.232942  0.984021  1.408234 -1.499447   \n",
              "4999978     1.0  1.689959  0.000985 -0.889892  1.559262 -0.177674  0.773766   \n",
              "4999979     0.0  0.588275 -1.153023  0.681203  0.895145  0.302639 -1.565196   \n",
              "4999980     0.0  0.759629 -1.099936  1.018840  1.023628 -1.524405 -0.539747   \n",
              "4999981     0.0  0.980560  0.244252  1.370602  1.504819  0.681870 -0.753009   \n",
              "4999982     0.0  0.991963  0.114058 -1.284302  1.091986  0.883251  0.534301   \n",
              "4999983     0.0  1.399545  0.889210  0.889816  0.566762  0.529097 -0.452789   \n",
              "4999984     1.0  2.108980  0.561875 -1.306236  0.913503  1.112271  0.970117   \n",
              "4999985     0.0  0.620572 -1.481400  0.798580  0.582676 -0.993491  1.097208   \n",
              "4999986     1.0  0.951119 -1.025120  0.735755  1.072442 -1.268414 -1.365378   \n",
              "4999987     0.0  0.499972 -0.472138  0.035389  0.617406  0.037837  1.096518   \n",
              "4999988     1.0  2.039801  0.851302  0.125229  0.934144  0.551678 -0.811299   \n",
              "4999989     0.0  0.413233 -0.329456 -1.490198  0.479811 -1.487803 -0.729794   \n",
              "4999990     0.0  0.482755  1.204410  0.299445  0.780271  1.958697  0.938929   \n",
              "4999991     1.0  1.031701  0.648011 -1.616710  0.532912  1.663047 -1.243807   \n",
              "4999992     0.0  1.085361  0.861342 -1.356951  0.483685  0.059381  0.292341   \n",
              "4999993     0.0  1.339252 -1.753881  0.667430  1.279321 -0.125801 -1.025262   \n",
              "4999994     0.0  0.726624  0.098401 -0.917547  0.477953 -0.297608  1.398104   \n",
              "4999995     1.0  0.853325 -0.961783 -1.487277  0.678190  0.493580  1.647969   \n",
              "4999996     0.0  0.951581  0.139370  1.436884  0.880440 -0.351948 -0.740852   \n",
              "4999997     0.0  0.840389  1.419162 -1.218766  1.195631  1.695645  0.663756   \n",
              "4999998     1.0  1.784218 -0.833565 -0.560091  0.953342 -0.688969 -1.428233   \n",
              "4999999     0.0  0.761500  0.680454 -1.186213  1.043521 -0.316755  0.246879   \n",
              "\n",
              "              MET   MET_phi   MET_rel  axial_MET       M_R    M_TR_2  \\\n",
              "0        0.567765 -0.175000  0.810061  -0.252552  1.921887  0.889637   \n",
              "1        3.475464 -1.219136  0.012955   3.775174  1.045977  0.568051   \n",
              "2        1.219918  0.504026  1.831248  -0.431385  0.526283  0.941514   \n",
              "3        2.033060  1.533041  3.046260  -1.005285  0.569386  1.015211   \n",
              "4        1.087562 -0.381742  0.589204   1.365479  1.179295  0.968218   \n",
              "5        0.322601  1.321054  0.169502   0.359941  0.489256  0.416168   \n",
              "6        0.215619 -0.461200  0.323671   0.173626  0.411898  0.370525   \n",
              "7        0.116555  1.549753  0.174421   0.223450  0.523164  0.289889   \n",
              "8        2.299946  1.450429  2.989110  -1.894770  1.445125  2.548166   \n",
              "9        0.437615 -1.333052  0.326858  -0.111678  1.435708  0.755201   \n",
              "10       0.261865 -0.027341  0.330517   0.183190  1.557298  0.531022   \n",
              "11       0.572889 -1.054526  0.698872  -0.259238  1.155319  0.983545   \n",
              "12       0.242573 -0.228654  0.364132   0.109350  0.668554  0.489941   \n",
              "13       0.640473 -1.622401  0.872160  -0.186169  0.451853  0.669288   \n",
              "14       1.273941  0.675408  1.803743  -0.845941  0.685836  1.234757   \n",
              "15       0.835887 -0.254897  1.254769  -0.252735  0.383118  0.788506   \n",
              "16       0.452621  1.396529  0.014348   0.761019  0.873992  0.646078   \n",
              "17       0.734276  0.616541  1.102238  -0.383189  0.674581  0.989127   \n",
              "18       0.021957  0.769306  0.017608   0.332876  0.681880  0.127229   \n",
              "19       0.561284  0.170752  0.582976   0.411129  1.046204  0.777395   \n",
              "20       1.272458 -0.676616  0.764920   1.165517  0.631193  0.786714   \n",
              "21       0.194475 -1.478649  0.055107   0.303612  2.638832  0.636117   \n",
              "22       0.890722  0.426515  1.283212  -0.563880  1.090046  1.327570   \n",
              "23       1.249039 -1.477087  0.731511  -0.847167  1.160934  1.601837   \n",
              "24       1.657924 -0.061501  2.154410   1.672853  1.525310  1.117499   \n",
              "25       1.027495 -0.166322  1.254201  -0.479649  0.985066  1.259747   \n",
              "26       0.916273 -0.886186  1.371866  -0.421905  0.391697  0.790429   \n",
              "27       0.924259 -0.693053  1.387424  -0.549809  0.577165  1.042057   \n",
              "28       1.657913  1.520308  2.488732  -0.559999  0.425258  1.126461   \n",
              "29       0.552337  0.371583  0.829126  -0.149219  1.863999  0.975417   \n",
              "...           ...       ...       ...        ...       ...       ...   \n",
              "4999970  0.545470 -0.938474  0.389197  -0.179175  0.743884  0.742403   \n",
              "4999971  0.267329 -1.031219  0.097099   0.248908  0.332664  0.320653   \n",
              "4999972  0.611404  1.140576  0.917792  -0.217717  0.436476  0.750250   \n",
              "4999973  0.428966  1.456556  0.522951   0.273558  0.697551  0.483795   \n",
              "4999974  0.547135  1.628749  0.786687   0.222415  0.458597  0.568793   \n",
              "4999975  0.525165  1.174039  0.788337  -0.191744  0.629268  0.743672   \n",
              "4999976  1.130503  1.031468  1.697023  -0.658722  0.570481  1.103604   \n",
              "4999977  0.451208  0.585650  0.397412   0.681289  0.801412  0.589269   \n",
              "4999978  2.579031  0.598344  1.251830  -1.805566  1.376108  2.305554   \n",
              "4999979  0.407740 -0.442062  0.612068  -0.091711  0.820799  0.647016   \n",
              "4999980  0.440853  0.375886  0.610924   0.729659  0.741773  0.559601   \n",
              "4999981  0.881322  0.730479  1.218523  -0.249648  1.016021  1.130732   \n",
              "4999982  0.704755  0.564092  0.044870  -0.316144  0.949935  0.936588   \n",
              "4999983  0.895946 -0.489040  0.104523  -0.296892  0.920684  1.197951   \n",
              "4999984  2.291246  0.902578  0.458420  -0.745272  1.440563  2.256679   \n",
              "4999985  0.998735 -0.805931  1.499224  -0.686666  0.523753  1.096319   \n",
              "4999986  0.496042 -1.378751  0.027446   0.241199  0.841212  0.726010   \n",
              "4999987  0.547123 -1.299799  0.821299  -0.233039  0.473948  0.690110   \n",
              "4999988  1.602762 -0.852513  0.209035   0.412390  1.370954  1.584090   \n",
              "4999989  0.850578  0.334140  1.276822  -0.474693  0.457745  0.804949   \n",
              "4999990  0.887801 -1.404129  1.332697  -0.456543  0.551233  0.957969   \n",
              "4999991  0.706740  0.189915  0.433557  -0.393302  0.809631  1.087218   \n",
              "4999992  0.340940  0.761038  0.380255   0.038984  0.774140  0.660777   \n",
              "4999993  0.996305 -1.425422  1.005658  -0.529824  1.616218  1.278956   \n",
              "4999994  0.372883  0.774908  0.508651  -0.040399  0.541026  0.617639   \n",
              "4999995  1.843867  0.276954  1.025105  -1.486535  0.892879  1.684429   \n",
              "4999996  0.290863 -0.732360  0.001360   0.257738  0.802871  0.545319   \n",
              "4999997  0.490888 -0.509186  0.704289   0.045744  0.825015  0.723530   \n",
              "4999998  2.660703 -0.861344  2.116892   2.906151  1.232334  0.952444   \n",
              "4999999  1.120280  0.998479  1.640881  -0.797688  0.854212  1.121858   \n",
              "\n",
              "                R       MT2       S_R  M_Delta_R  dPhi_r_b  cos_theta_r1  \n",
              "0        0.410772  1.145621  1.932632   0.994464  1.367815      0.040714  \n",
              "1        0.481928  0.000000  0.448410   0.205356  1.321893      0.377584  \n",
              "2        1.587535  2.024308  0.603498   1.562374  1.135454      0.180910  \n",
              "3        1.582217  1.551914  0.761215   1.715464  1.492257      0.090719  \n",
              "4        0.728563  0.000000  1.083158   0.043429  1.154854      0.094859  \n",
              "5        0.754829  0.303750  0.461067   0.345541  0.733242      0.186044  \n",
              "6        0.798260  0.671369  0.385910   0.515522  0.479110      0.029058  \n",
              "7        0.491710  0.334593  0.514246   0.268207  0.315795      0.125728  \n",
              "8        1.564721  2.393632  1.554566   2.148468  1.179117      0.688057  \n",
              "9        0.466779  0.454541  1.446331   0.592259  1.325197      0.083014  \n",
              "10       0.302592  0.426702  1.564376   0.338552  1.137456      0.011040  \n",
              "11       0.755454  0.926953  1.168115   0.709708  1.578325      0.184405  \n",
              "12       0.650313  0.683634  0.664825   0.510385  0.584092      0.031694  \n",
              "13       1.314412  0.559444  0.491753   0.559017  1.286520      0.400292  \n",
              "14       1.597630  1.864630  0.775854   1.556949  1.245781      0.538010  \n",
              "15       1.826371  1.687989  0.412063   1.258978  1.000029      0.237916  \n",
              "16       0.655985  0.027587  0.879327   0.099123  1.526896      0.103202  \n",
              "17       1.301167  2.113569  0.622589   1.583448  0.462588      0.192226  \n",
              "18       0.165574  0.041008  0.681533   0.039989  0.126778      0.040972  \n",
              "19       0.659388  1.177816  0.740323   1.207057  0.418392      0.219343  \n",
              "20       1.106040  0.815495  0.588254   0.607716  1.156936      0.310599  \n",
              "21       0.213914  0.230072  2.635528   0.546993  0.354201      0.016105  \n",
              "22       1.080762  1.588076  1.069615   1.258800  0.443045      0.415406  \n",
              "23       1.224409  1.256747  1.179161   1.215011  0.937398      0.513443  \n",
              "24       0.650136  0.000000  1.472982   0.969957  1.209303      0.039710  \n",
              "25       1.134837  0.760780  1.022235   0.810835  1.115006      0.394822  \n",
              "26       1.790726  1.388440  0.473287   1.068429  1.305904      0.347194  \n",
              "27       1.602167  1.921268  0.612655   1.435927  1.072373      0.474427  \n",
              "28       2.350607  2.460358  0.565242   1.836446  1.168629      0.602618  \n",
              "29       0.464368  1.686075  1.846609   1.296029  0.454520      0.027528  \n",
              "...           ...       ...       ...        ...       ...           ...  \n",
              "4999970  0.885624  0.465971  0.766907   0.393374  1.380740      0.246574  \n",
              "4999971  0.855355  0.143922  0.337387   0.191113  1.094609      0.235031  \n",
              "4999972  1.525324  1.361695  0.420984   1.014244  0.752499      0.621426  \n",
              "4999973  0.615466  0.778334  0.657248   0.686104  0.675997      0.088808  \n",
              "4999974  1.100624  0.861468  0.458086   0.675585  0.998140      0.031265  \n",
              "4999975  1.048725  1.280769  0.638197   0.954547  1.012330      0.030134  \n",
              "4999976  1.716675  2.145489  0.653565   1.627295  1.224264      0.017822  \n",
              "4999977  0.652491  0.061916  0.799578   0.264371  1.269593      0.049163  \n",
              "4999978  1.486756  0.000000  1.584048   0.694180  1.416985      0.542614  \n",
              "4999979  0.699510  1.120962  0.819772   0.835719  0.363649      0.017190  \n",
              "4999980  0.669459  0.000000  0.734658   0.222678  1.333323      0.012691  \n",
              "4999981  0.987583  1.625787  1.036363   1.218644  1.046883      0.135561  \n",
              "4999982  0.874928  0.000000  0.979003   0.420024  1.343193      0.272565  \n",
              "4999983  1.154634  0.105272  0.866587   0.362570  0.694904      0.592398  \n",
              "4999984  1.390125  0.365905  1.452357   1.035867  0.959336      0.660579  \n",
              "4999985  1.857497  2.295498  0.568390   1.713308  1.503671      0.622427  \n",
              "4999986  0.765865  0.000000  0.816827   0.300119  0.758559      0.259673  \n",
              "4999987  1.292122  1.258712  0.491017   0.941776  1.498757      0.193106  \n",
              "4999988  1.025354  0.202440  1.102830   0.605197  0.739403      0.612186  \n",
              "4999989  1.560490  1.552907  0.521348   1.203032  1.293182      0.292971  \n",
              "4999990  1.542171  1.982478  0.579808   1.481396  1.006600      0.189843  \n",
              "4999991  1.191645  1.972363  0.698013   1.564201  0.035361      0.504437  \n",
              "4999992  0.757443  0.331105  0.715807   0.447304  0.320159      0.371521  \n",
              "4999993  0.702218  0.541788  1.649413   1.139551  1.256152      0.159157  \n",
              "4999994  1.013056  0.745807  0.507010   0.598500  0.311856      0.428370  \n",
              "4999995  1.674084  3.366298  1.046707   2.646649  1.389226      0.364599  \n",
              "4999996  0.602730  0.002998  0.748959   0.401166  0.443471      0.239953  \n",
              "4999997  0.778236  0.752942  0.838953   0.614048  1.210595      0.026692  \n",
              "4999998  0.685846  0.000000  0.781874   0.676003  1.197807      0.093689  \n",
              "4999999  1.165438  1.498351  0.931580   1.293524  1.539167      0.187496  \n",
              "\n",
              "[5000000 rows x 19 columns]"
            ]
          },
          "metadata": {
            "tags": []
          },
          "execution_count": 12
        }
      ]
    },
    {
      "cell_type": "markdown",
      "metadata": {
        "id": "S66sLluPyxZu",
        "colab_type": "text"
      },
      "source": [
        "The first column stores the \"truth\" label of whether an event was signal or not. Pandas makes it easy to create dataframes that store only the signal or background events:"
      ]
    },
    {
      "cell_type": "code",
      "metadata": {
        "id": "c-VwugkYyxZv",
        "colab_type": "code",
        "colab": {}
      },
      "source": [
        "df_sig=df[df.signal==1]\n",
        "df_bkg=df[df.signal==0]"
      ],
      "execution_count": 0,
      "outputs": []
    },
    {
      "cell_type": "markdown",
      "metadata": {
        "id": "myLNZ1k7yxZz",
        "colab_type": "text"
      },
      "source": [
        "The following example plots the signal and background distributions of every variable. Note that we use VarNames[1:] to skip the first variable, which was the true label."
      ]
    },
    {
      "cell_type": "code",
      "metadata": {
        "id": "4KSabNDZyxZ0",
        "colab_type": "code",
        "outputId": "5b98ef00-9e6c-41f2-d87f-35ed75c20b94",
        "colab": {
          "base_uri": "https://localhost:8080/",
          "height": 4855
        }
      },
      "source": [
        "for var in VarNames[1:]:\n",
        "    print var\n",
        "    plt.figure()\n",
        "    plt.hist(df_sig[var],bins=100,histtype=\"step\", color=\"red\",label=\"background\",stacked=True)\n",
        "    plt.hist(df_bkg[var],bins=100,histtype=\"step\", color=\"blue\", label=\"signal\",stacked=True)\n",
        "    plt.legend(loc='upper right')\n",
        "    plt.show()"
      ],
      "execution_count": 12,
      "outputs": [
        {
          "output_type": "stream",
          "text": [
            "l_1_pT\n"
          ],
          "name": "stdout"
        },
        {
          "output_type": "display_data",
          "data": {
            "image/png": "[encoded data removed]",
            "text/plain": [
              "<Figure size 432x288 with 1 Axes>"
            ]
          },
          "metadata": {
            "tags": []
          }
        },
        {
          "output_type": "stream",
          "text": [
            "l_1_eta\n"
          ],
          "name": "stdout"
        },
        {
          "output_type": "display_data",
          "data": {
            "image/png": "[encoded data removed]",
            "text/plain": [
              "<Figure size 432x288 with 1 Axes>"
            ]
          },
          "metadata": {
            "tags": []
          }
        },
        {
          "output_type": "stream",
          "text": [
            "l_1_phi\n"
          ],
          "name": "stdout"
        },
        {
          "output_type": "display_data",
          "data": {
            "image/png": "[encoded data removed]",
            "text/plain": [
              "<Figure size 432x288 with 1 Axes>"
            ]
          },
          "metadata": {
            "tags": []
          }
        },
        {
          "output_type": "stream",
          "text": [
            "l_2_pT\n"
          ],
          "name": "stdout"
        },
        {
          "output_type": "display_data",
          "data": {
            "image/png": "[encoded data removed]",
            "text/plain": [
              "<Figure size 432x288 with 1 Axes>"
            ]
          },
          "metadata": {
            "tags": []
          }
        },
        {
          "output_type": "stream",
          "text": [
            "l_2_eta\n"
          ],
          "name": "stdout"
        },
        {
          "output_type": "display_data",
          "data": {
            "image/png": "[encoded data removed]",
            "text/plain": [
              "<Figure size 432x288 with 1 Axes>"
            ]
          },
          "metadata": {
            "tags": []
          }
        },
        {
          "output_type": "stream",
          "text": [
            "l_2_phi\n"
          ],
          "name": "stdout"
        },
        {
          "output_type": "display_data",
          "data": {
            "image/png": "[encoded data removed]",
            "text/plain": [
              "<Figure size 432x288 with 1 Axes>"
            ]
          },
          "metadata": {
            "tags": []
          }
        },
        {
          "output_type": "stream",
          "text": [
            "MET\n"
          ],
          "name": "stdout"
        },
        {
          "output_type": "display_data",
          "data": {
            "image/png": "[encoded data removed]",
            "text/plain": [
              "<Figure size 432x288 with 1 Axes>"
            ]
          },
          "metadata": {
            "tags": []
          }
        },
        {
          "output_type": "stream",
          "text": [
            "MET_phi\n"
          ],
          "name": "stdout"
        },
        {
          "output_type": "display_data",
          "data": {
            "image/png": "[encoded data removed]",
            "text/plain": [
              "<Figure size 432x288 with 1 Axes>"
            ]
          },
          "metadata": {
            "tags": []
          }
        },
        {
          "output_type": "stream",
          "text": [
            "MET_rel\n"
          ],
          "name": "stdout"
        },
        {
          "output_type": "display_data",
          "data": {
            "image/png": "[encoded data removed]",
            "text/plain": [
              "<Figure size 432x288 with 1 Axes>"
            ]
          },
          "metadata": {
            "tags": []
          }
        },
        {
          "output_type": "stream",
          "text": [
            "axial_MET\n"
          ],
          "name": "stdout"
        },
        {
          "output_type": "display_data",
          "data": {
            "image/png": "[encoded data removed]",
            "text/plain": [
              "<Figure size 432x288 with 1 Axes>"
            ]
          },
          "metadata": {
            "tags": []
          }
        },
        {
          "output_type": "stream",
          "text": [
            "M_R\n"
          ],
          "name": "stdout"
        },
        {
          "output_type": "display_data",
          "data": {
            "image/png": "[encoded data removed]",
            "text/plain": [
              "<Figure size 432x288 with 1 Axes>"
            ]
          },
          "metadata": {
            "tags": []
          }
        },
        {
          "output_type": "stream",
          "text": [
            "M_TR_2\n"
          ],
          "name": "stdout"
        },
        {
          "output_type": "display_data",
          "data": {
            "image/png": "[encoded data removed]",
            "text/plain": [
              "<Figure size 432x288 with 1 Axes>"
            ]
          },
          "metadata": {
            "tags": []
          }
        },
        {
          "output_type": "stream",
          "text": [
            "R\n"
          ],
          "name": "stdout"
        },
        {
          "output_type": "display_data",
          "data": {
            "image/png": "[encoded data removed]",
            "text/plain": [
              "<Figure size 432x288 with 1 Axes>"
            ]
          },
          "metadata": {
            "tags": []
          }
        },
        {
          "output_type": "stream",
          "text": [
            "MT2\n"
          ],
          "name": "stdout"
        },
        {
          "output_type": "display_data",
          "data": {
            "image/png": "[encoded data removed]",
            "text/plain": [
              "<Figure size 432x288 with 1 Axes>"
            ]
          },
          "metadata": {
            "tags": []
          }
        },
        {
          "output_type": "stream",
          "text": [
            "S_R\n"
          ],
          "name": "stdout"
        },
        {
          "output_type": "display_data",
          "data": {
            "image/png": "[encoded data removed]",
            "text/plain": [
              "<Figure size 432x288 with 1 Axes>"
            ]
          },
          "metadata": {
            "tags": []
          }
        },
        {
          "output_type": "stream",
          "text": [
            "M_Delta_R\n"
          ],
          "name": "stdout"
        },
        {
          "output_type": "display_data",
          "data": {
            "image/png": "[encoded data removed]",
            "text/plain": [
              "<Figure size 432x288 with 1 Axes>"
            ]
          },
          "metadata": {
            "tags": []
          }
        },
        {
          "output_type": "stream",
          "text": [
            "dPhi_r_b\n"
          ],
          "name": "stdout"
        },
        {
          "output_type": "display_data",
          "data": {
            "image/png": "[encoded data removed]",
            "text/plain": [
              "<Figure size 432x288 with 1 Axes>"
            ]
          },
          "metadata": {
            "tags": []
          }
        },
        {
          "output_type": "stream",
          "text": [
            "cos_theta_r1\n"
          ],
          "name": "stdout"
        },
        {
          "output_type": "display_data",
          "data": {
            "image/png": "[encoded data removed]",
            "text/plain": [
              "<Figure size 432x288 with 1 Axes>"
            ]
          },
          "metadata": {
            "tags": []
          }
        }
      ]
    },
    {
      "cell_type": "markdown",
      "metadata": {
        "id": "FQlUuo6YyxZ7",
        "colab_type": "text"
      },
      "source": [
        "## Building a classifier with Scikit-Learn\n",
        "\n",
        "[Scikit-learn](http://scikit-learn.org) is a rich python library for data science, including machine learning. For example, we can build a Fisher Discriminant (aka Linear Discriminant Analysis, or LDA). The [LDA Documentation](http://scikit-learn.org/stable/modules/lda_qda.html#dimensionality-reduction-using-linear-discriminant-analysis) does as great job explaining this classifier. Here's how we instanciate the classifier: "
      ]
    },
    {
      "cell_type": "code",
      "metadata": {
        "id": "G3w5WhDryxZ9",
        "colab_type": "code",
        "colab": {}
      },
      "source": [
        "import sklearn.discriminant_analysis as DA\n",
        "Fisher=DA.LinearDiscriminantAnalysis()"
      ],
      "execution_count": 0,
      "outputs": []
    },
    {
      "cell_type": "markdown",
      "metadata": {
        "id": "e8spu-02yxaB",
        "colab_type": "text"
      },
      "source": [
        "Lets separate the data into inputs (X) vs outputs (Y) and training vs testing samples:"
      ]
    },
    {
      "cell_type": "code",
      "metadata": {
        "id": "6dGug0m-yxaC",
        "colab_type": "code",
        "colab": {}
      },
      "source": [
        "N_Train=4000000\n",
        "\n",
        "Train_Sample=df[:N_Train]\n",
        "Test_Sample=df[N_Train:]\n",
        "\n",
        "X_Train=Train_Sample[VarNames[1:]]\n",
        "y_Train=Train_Sample[\"signal\"]\n",
        "\n",
        "X_Test=Test_Sample[VarNames[1:]]\n",
        "y_Test=Test_Sample[\"signal\"]\n",
        "\n",
        "Test_sig=Test_Sample[Test_Sample.signal==1]\n",
        "Test_bkg=Test_Sample[Test_Sample.signal==0]\n"
      ],
      "execution_count": 0,
      "outputs": []
    },
    {
      "cell_type": "markdown",
      "metadata": {
        "id": "uG3gDKHjyxaG",
        "colab_type": "text"
      },
      "source": [
        "We can train the classifier as follow:"
      ]
    },
    {
      "cell_type": "code",
      "metadata": {
        "id": "N2xHaypDyxaH",
        "colab_type": "code",
        "outputId": "7f6d3bcf-8309-43a7-cb8c-22ea72ec4b79",
        "colab": {
          "base_uri": "https://localhost:8080/",
          "height": 50
        }
      },
      "source": [
        "Fisher.fit(X_Train,y_Train)"
      ],
      "execution_count": 15,
      "outputs": [
        {
          "output_type": "execute_result",
          "data": {
            "text/plain": [
              "LinearDiscriminantAnalysis(n_components=None, priors=None, shrinkage=None,\n",
              "              solver='svd', store_covariance=False, tol=0.0001)"
            ]
          },
          "metadata": {
            "tags": []
          },
          "execution_count": 15
        }
      ]
    },
    {
      "cell_type": "markdown",
      "metadata": {
        "id": "Bgy3xHpfyxaM",
        "colab_type": "text"
      },
      "source": [
        "We can plot the output, comparing signal and background:"
      ]
    },
    {
      "cell_type": "code",
      "metadata": {
        "id": "QWHAUiNiyxaN",
        "colab_type": "code",
        "outputId": "eee28474-58b1-4756-a46e-304538d04056",
        "colab": {
          "base_uri": "https://localhost:8080/",
          "height": 269
        }
      },
      "source": [
        "plt.figure()\n",
        "plt.hist(Fisher.decision_function(Test_sig[VarNames[1:]]),bins=100,histtype=\"step\", color=\"blue\", label=\"signal\",stacked=True)\n",
        "plt.hist(Fisher.decision_function(Test_bkg[VarNames[1:]]),bins=100,histtype=\"step\", color=\"red\", label=\"background\",stacked=True)\n",
        "plt.legend(loc='upper right')\n",
        "plt.show()"
      ],
      "execution_count": 16,
      "outputs": [
        {
          "output_type": "display_data",
          "data": {
            "image/png": "[encoded data removed]",
            "text/plain": [
              "<Figure size 432x288 with 1 Axes>"
            ]
          },
          "metadata": {
            "tags": []
          }
        }
      ]
    },
    {
      "cell_type": "markdown",
      "metadata": {
        "id": "xUj3Q5agyxaU",
        "colab_type": "text"
      },
      "source": [
        "And we can make a ROC curve and evaluate the AUC:"
      ]
    },
    {
      "cell_type": "code",
      "metadata": {
        "id": "K7YodU-pyxaW",
        "colab_type": "code",
        "outputId": "c1b58121-ba5e-473c-8225-44cab90ac7d1",
        "colab": {
          "base_uri": "https://localhost:8080/",
          "height": 283
        }
      },
      "source": [
        "from sklearn.metrics import roc_curve, auc\n",
        "fpr, tpr, _ = roc_curve(y_Test, Fisher.decision_function(X_Test))\n",
        "\n",
        "roc_auc = auc(fpr, tpr)\n",
        "\n",
        "plt.plot(fpr,tpr,color='darkorange',label='ROC curve (area = %0.2f)' % roc_auc)\n",
        "plt.legend(loc=\"lower right\")\n",
        "plt.xlabel('False Positive Rate')\n",
        "plt.ylabel('True Positive Rate')\n",
        "\n",
        "plt.show()"
      ],
      "execution_count": 17,
      "outputs": [
        {
          "output_type": "display_data",
          "data": {
            "image/png": "[encoded data removed]",
            "text/plain": [
              "<Figure size 432x288 with 1 Axes>"
            ]
          },
          "metadata": {
            "tags": []
          }
        }
      ]
    },
    {
      "cell_type": "markdown",
      "metadata": {
        "id": "EoJc8kYEyxae",
        "colab_type": "text"
      },
      "source": [
        "## Exercise 4.1\n",
        "\n",
        "Train the Fisher performance of using the raw, features, and raw+features as input. Compare the performance one a single plot. Add cells to this notebook as needed."
      ]
    },
    {
      "cell_type": "code",
      "metadata": {
        "id": "0UTfB3VXyxag",
        "colab_type": "code",
        "colab": {
          "base_uri": "https://localhost:8080/",
          "height": 491
        },
        "outputId": "55550b4f-fa1e-4f0d-b344-2d32ca59d855"
      },
      "source": [
        "df_rawnames = df[RawNames]\n",
        "df_rawnames[\"signal\"] = df.loc[:,\"signal\"]\n",
        "N_Train=4000000\n",
        "\n",
        "Train_Sample=df_rawnames[:N_Train]\n",
        "Test_Sample=df_rawnames[N_Train:]\n",
        "\n",
        "Train_Sample=df_rawnames[:N_Train]\n",
        "Test_Sample=df_rawnames[N_Train:]\n",
        "\n",
        "X_Train=Train_Sample[VarNames[1:]]\n",
        "y_Train=Train_Sample[\"signal\"]\n",
        "\n",
        "X_Test=Test_Sample[VarNames[1:]]\n",
        "y_Test=Test_Sample[\"signal\"]\n",
        "\n",
        "Test_sig=Test_Sample[Test_Sample.signal==1]\n",
        "Test_bkg=Test_Sample[Test_Sample.signal==0]"
      ],
      "execution_count": 34,
      "outputs": [
        {
          "output_type": "stream",
          "text": [
            "/usr/local/lib/python2.7/dist-packages/ipykernel_launcher.py:3: SettingWithCopyWarning: \n",
            "A value is trying to be set on a copy of a slice from a DataFrame.\n",
            "Try using .loc[row_indexer,col_indexer] = value instead\n",
            "\n",
            "See the caveats in the documentation: http://pandas.pydata.org/pandas-docs/stable/indexing.html#indexing-view-versus-copy\n",
            "  This is separate from the ipykernel package so we can avoid doing imports until\n"
          ],
          "name": "stderr"
        },
        {
          "output_type": "error",
          "ename": "KeyError",
          "evalue": "ignored",
          "traceback": [
            "\u001b[0;31m\u001b[0m",
            "\u001b[0;31mKeyError\u001b[0mTraceback (most recent call last)",
            "\u001b[0;32m<ipython-input-34-0787b780aca5>\u001b[0m in \u001b[0;36m<module>\u001b[0;34m()\u001b[0m\n\u001b[1;32m     12\u001b[0m \u001b[0mTest_Sample\u001b[0m\u001b[0;34m=\u001b[0m\u001b[0mdf_rawnames\u001b[0m\u001b[0;34m[\u001b[0m\u001b[0mN_Train\u001b[0m\u001b[0;34m:\u001b[0m\u001b[0;34m]\u001b[0m\u001b[0;34m\u001b[0m\u001b[0m\n\u001b[1;32m     13\u001b[0m \u001b[0;34m\u001b[0m\u001b[0m\n\u001b[0;32m---> 14\u001b[0;31m \u001b[0mX_Train\u001b[0m\u001b[0;34m=\u001b[0m\u001b[0mTrain_Sample\u001b[0m\u001b[0;34m[\u001b[0m\u001b[0mVarNames\u001b[0m\u001b[0;34m[\u001b[0m\u001b[0;36m1\u001b[0m\u001b[0;34m:\u001b[0m\u001b[0;34m]\u001b[0m\u001b[0;34m]\u001b[0m\u001b[0;34m\u001b[0m\u001b[0m\n\u001b[0m\u001b[1;32m     15\u001b[0m \u001b[0my_Train\u001b[0m\u001b[0;34m=\u001b[0m\u001b[0mTrain_Sample\u001b[0m\u001b[0;34m[\u001b[0m\u001b[0;34m\"signal\"\u001b[0m\u001b[0;34m]\u001b[0m\u001b[0;34m\u001b[0m\u001b[0m\n\u001b[1;32m     16\u001b[0m \u001b[0;34m\u001b[0m\u001b[0m\n",
            "\u001b[0;32m/usr/local/lib/python2.7/dist-packages/pandas/core/frame.pyc\u001b[0m in \u001b[0;36m__getitem__\u001b[0;34m(self, key)\u001b[0m\n\u001b[1;32m   2932\u001b[0m                 \u001b[0mkey\u001b[0m \u001b[0;34m=\u001b[0m \u001b[0mlist\u001b[0m\u001b[0;34m(\u001b[0m\u001b[0mkey\u001b[0m\u001b[0;34m)\u001b[0m\u001b[0;34m\u001b[0m\u001b[0m\n\u001b[1;32m   2933\u001b[0m             indexer = self.loc._convert_to_indexer(key, axis=1,\n\u001b[0;32m-> 2934\u001b[0;31m                                                    raise_missing=True)\n\u001b[0m\u001b[1;32m   2935\u001b[0m \u001b[0;34m\u001b[0m\u001b[0m\n\u001b[1;32m   2936\u001b[0m         \u001b[0;31m# take() does not accept boolean indexers\u001b[0m\u001b[0;34m\u001b[0m\u001b[0;34m\u001b[0m\u001b[0m\n",
            "\u001b[0;32m/usr/local/lib/python2.7/dist-packages/pandas/core/indexing.pyc\u001b[0m in \u001b[0;36m_convert_to_indexer\u001b[0;34m(self, obj, axis, is_setter, raise_missing)\u001b[0m\n\u001b[1;32m   1352\u001b[0m                 kwargs = {'raise_missing': True if is_setter else\n\u001b[1;32m   1353\u001b[0m                           raise_missing}\n\u001b[0;32m-> 1354\u001b[0;31m                 \u001b[0;32mreturn\u001b[0m \u001b[0mself\u001b[0m\u001b[0;34m.\u001b[0m\u001b[0m_get_listlike_indexer\u001b[0m\u001b[0;34m(\u001b[0m\u001b[0mobj\u001b[0m\u001b[0;34m,\u001b[0m \u001b[0maxis\u001b[0m\u001b[0;34m,\u001b[0m \u001b[0;34m**\u001b[0m\u001b[0mkwargs\u001b[0m\u001b[0;34m)\u001b[0m\u001b[0;34m[\u001b[0m\u001b[0;36m1\u001b[0m\u001b[0;34m]\u001b[0m\u001b[0;34m\u001b[0m\u001b[0m\n\u001b[0m\u001b[1;32m   1355\u001b[0m         \u001b[0;32melse\u001b[0m\u001b[0;34m:\u001b[0m\u001b[0;34m\u001b[0m\u001b[0m\n\u001b[1;32m   1356\u001b[0m             \u001b[0;32mtry\u001b[0m\u001b[0;34m:\u001b[0m\u001b[0;34m\u001b[0m\u001b[0m\n",
            "\u001b[0;32m/usr/local/lib/python2.7/dist-packages/pandas/core/indexing.pyc\u001b[0m in \u001b[0;36m_get_listlike_indexer\u001b[0;34m(self, key, axis, raise_missing)\u001b[0m\n\u001b[1;32m   1159\u001b[0m         self._validate_read_indexer(keyarr, indexer,\n\u001b[1;32m   1160\u001b[0m                                     \u001b[0mo\u001b[0m\u001b[0;34m.\u001b[0m\u001b[0m_get_axis_number\u001b[0m\u001b[0;34m(\u001b[0m\u001b[0maxis\u001b[0m\u001b[0;34m)\u001b[0m\u001b[0;34m,\u001b[0m\u001b[0;34m\u001b[0m\u001b[0m\n\u001b[0;32m-> 1161\u001b[0;31m                                     raise_missing=raise_missing)\n\u001b[0m\u001b[1;32m   1162\u001b[0m         \u001b[0;32mreturn\u001b[0m \u001b[0mkeyarr\u001b[0m\u001b[0;34m,\u001b[0m \u001b[0mindexer\u001b[0m\u001b[0;34m\u001b[0m\u001b[0m\n\u001b[1;32m   1163\u001b[0m \u001b[0;34m\u001b[0m\u001b[0m\n",
            "\u001b[0;32m/usr/local/lib/python2.7/dist-packages/pandas/core/indexing.pyc\u001b[0m in \u001b[0;36m_validate_read_indexer\u001b[0;34m(self, key, indexer, axis, raise_missing)\u001b[0m\n\u001b[1;32m   1250\u001b[0m             \u001b[0;32mif\u001b[0m \u001b[0;32mnot\u001b[0m\u001b[0;34m(\u001b[0m\u001b[0mself\u001b[0m\u001b[0;34m.\u001b[0m\u001b[0mname\u001b[0m \u001b[0;34m==\u001b[0m \u001b[0;34m'loc'\u001b[0m \u001b[0;32mand\u001b[0m \u001b[0;32mnot\u001b[0m \u001b[0mraise_missing\u001b[0m\u001b[0;34m)\u001b[0m\u001b[0;34m:\u001b[0m\u001b[0;34m\u001b[0m\u001b[0m\n\u001b[1;32m   1251\u001b[0m                 \u001b[0mnot_found\u001b[0m \u001b[0;34m=\u001b[0m \u001b[0mlist\u001b[0m\u001b[0;34m(\u001b[0m\u001b[0mset\u001b[0m\u001b[0;34m(\u001b[0m\u001b[0mkey\u001b[0m\u001b[0;34m)\u001b[0m \u001b[0;34m-\u001b[0m \u001b[0mset\u001b[0m\u001b[0;34m(\u001b[0m\u001b[0max\u001b[0m\u001b[0;34m)\u001b[0m\u001b[0;34m)\u001b[0m\u001b[0;34m\u001b[0m\u001b[0m\n\u001b[0;32m-> 1252\u001b[0;31m                 \u001b[0;32mraise\u001b[0m \u001b[0mKeyError\u001b[0m\u001b[0;34m(\u001b[0m\u001b[0;34m\"{} not in index\"\u001b[0m\u001b[0;34m.\u001b[0m\u001b[0mformat\u001b[0m\u001b[0;34m(\u001b[0m\u001b[0mnot_found\u001b[0m\u001b[0;34m)\u001b[0m\u001b[0;34m)\u001b[0m\u001b[0;34m\u001b[0m\u001b[0m\n\u001b[0m\u001b[1;32m   1253\u001b[0m \u001b[0;34m\u001b[0m\u001b[0m\n\u001b[1;32m   1254\u001b[0m             \u001b[0;31m# we skip the warning on Categorical/Interval\u001b[0m\u001b[0;34m\u001b[0m\u001b[0;34m\u001b[0m\u001b[0m\n",
            "\u001b[0;31mKeyError\u001b[0m: \"['S_R', 'MET', 'cos_theta_r1', 'dPhi_r_b', 'MT2', 'MET_rel', 'M_TR_2', 'MET_phi', 'axial_MET', 'M_Delta_R', 'M_R', 'R'] not in index\""
          ]
        }
      ]
    },
    {
      "cell_type": "code",
      "metadata": {
        "id": "BkRjaPSh_q01",
        "colab_type": "code",
        "colab": {}
      },
      "source": [
        "Fisher.fit(X_Train,y_Train)\n",
        "plt.figure()\n",
        "plt.hist(Fisher.decision_function(Test_sig[VarNames[1:]]),bins=100,histtype=\"step\", color=\"blue\", label=\"signal\",stacked=True)\n",
        "plt.hist(Fisher.decision_function(Test_bkg[VarNames[1:]]),bins=100,histtype=\"step\", color=\"red\", label=\"background\",stacked=True)\n",
        "plt.legend(loc='upper right')\n",
        "plt.show()"
      ],
      "execution_count": 0,
      "outputs": []
    },
    {
      "cell_type": "code",
      "metadata": {
        "id": "4Vtp-mgR-LQB",
        "colab_type": "code",
        "colab": {
          "base_uri": "https://localhost:8080/",
          "height": 491
        },
        "outputId": "b31fc8d6-2139-4e7d-b408-d79092b7b9df"
      },
      "source": [
        "df_features = df[FeatureNames]\n",
        "df_features[\"signal\"] = df.loc[:,\"signal\"]\n",
        "\n",
        "N_Train=4000000\n",
        "\n",
        "Train_Sample=df_features[:N_Train]\n",
        "Test_Sample=df_features[N_Train:]\n",
        "\n",
        "Train_Sample=df_features[:N_Train]\n",
        "Test_Sample=df_features[N_Train:]\n",
        "\n",
        "X_Train=Train_Sample[VarNames[1:]]\n",
        "y_Train=Train_Sample[\"signal\"]\n",
        "\n",
        "X_Test=Test_Sample[VarNames[1:]]\n",
        "y_Test=Test_Sample[\"signal\"]\n",
        "\n",
        "Test_sig=Test_Sample[Test_Sample.signal==1]\n",
        "Test_bkg=Test_Sample[Test_Sample.signal==0]"
      ],
      "execution_count": 35,
      "outputs": [
        {
          "output_type": "stream",
          "text": [
            "/usr/local/lib/python2.7/dist-packages/ipykernel_launcher.py:2: SettingWithCopyWarning: \n",
            "A value is trying to be set on a copy of a slice from a DataFrame.\n",
            "Try using .loc[row_indexer,col_indexer] = value instead\n",
            "\n",
            "See the caveats in the documentation: http://pandas.pydata.org/pandas-docs/stable/indexing.html#indexing-view-versus-copy\n",
            "  \n"
          ],
          "name": "stderr"
        },
        {
          "output_type": "error",
          "ename": "KeyError",
          "evalue": "ignored",
          "traceback": [
            "\u001b[0;31m\u001b[0m",
            "\u001b[0;31mKeyError\u001b[0mTraceback (most recent call last)",
            "\u001b[0;32m<ipython-input-35-8a954f4973b3>\u001b[0m in \u001b[0;36m<module>\u001b[0;34m()\u001b[0m\n\u001b[1;32m     10\u001b[0m \u001b[0mTest_Sample\u001b[0m\u001b[0;34m=\u001b[0m\u001b[0mdf_features\u001b[0m\u001b[0;34m[\u001b[0m\u001b[0mN_Train\u001b[0m\u001b[0;34m:\u001b[0m\u001b[0;34m]\u001b[0m\u001b[0;34m\u001b[0m\u001b[0m\n\u001b[1;32m     11\u001b[0m \u001b[0;34m\u001b[0m\u001b[0m\n\u001b[0;32m---> 12\u001b[0;31m \u001b[0mX_Train\u001b[0m\u001b[0;34m=\u001b[0m\u001b[0mTrain_Sample\u001b[0m\u001b[0;34m[\u001b[0m\u001b[0mVarNames\u001b[0m\u001b[0;34m[\u001b[0m\u001b[0;36m1\u001b[0m\u001b[0;34m:\u001b[0m\u001b[0;34m]\u001b[0m\u001b[0;34m]\u001b[0m\u001b[0;34m\u001b[0m\u001b[0m\n\u001b[0m\u001b[1;32m     13\u001b[0m \u001b[0my_Train\u001b[0m\u001b[0;34m=\u001b[0m\u001b[0mTrain_Sample\u001b[0m\u001b[0;34m[\u001b[0m\u001b[0;34m\"signal\"\u001b[0m\u001b[0;34m]\u001b[0m\u001b[0;34m\u001b[0m\u001b[0m\n\u001b[1;32m     14\u001b[0m \u001b[0;34m\u001b[0m\u001b[0m\n",
            "\u001b[0;32m/usr/local/lib/python2.7/dist-packages/pandas/core/frame.pyc\u001b[0m in \u001b[0;36m__getitem__\u001b[0;34m(self, key)\u001b[0m\n\u001b[1;32m   2932\u001b[0m                 \u001b[0mkey\u001b[0m \u001b[0;34m=\u001b[0m \u001b[0mlist\u001b[0m\u001b[0;34m(\u001b[0m\u001b[0mkey\u001b[0m\u001b[0;34m)\u001b[0m\u001b[0;34m\u001b[0m\u001b[0m\n\u001b[1;32m   2933\u001b[0m             indexer = self.loc._convert_to_indexer(key, axis=1,\n\u001b[0;32m-> 2934\u001b[0;31m                                                    raise_missing=True)\n\u001b[0m\u001b[1;32m   2935\u001b[0m \u001b[0;34m\u001b[0m\u001b[0m\n\u001b[1;32m   2936\u001b[0m         \u001b[0;31m# take() does not accept boolean indexers\u001b[0m\u001b[0;34m\u001b[0m\u001b[0;34m\u001b[0m\u001b[0m\n",
            "\u001b[0;32m/usr/local/lib/python2.7/dist-packages/pandas/core/indexing.pyc\u001b[0m in \u001b[0;36m_convert_to_indexer\u001b[0;34m(self, obj, axis, is_setter, raise_missing)\u001b[0m\n\u001b[1;32m   1352\u001b[0m                 kwargs = {'raise_missing': True if is_setter else\n\u001b[1;32m   1353\u001b[0m                           raise_missing}\n\u001b[0;32m-> 1354\u001b[0;31m                 \u001b[0;32mreturn\u001b[0m \u001b[0mself\u001b[0m\u001b[0;34m.\u001b[0m\u001b[0m_get_listlike_indexer\u001b[0m\u001b[0;34m(\u001b[0m\u001b[0mobj\u001b[0m\u001b[0;34m,\u001b[0m \u001b[0maxis\u001b[0m\u001b[0;34m,\u001b[0m \u001b[0;34m**\u001b[0m\u001b[0mkwargs\u001b[0m\u001b[0;34m)\u001b[0m\u001b[0;34m[\u001b[0m\u001b[0;36m1\u001b[0m\u001b[0;34m]\u001b[0m\u001b[0;34m\u001b[0m\u001b[0m\n\u001b[0m\u001b[1;32m   1355\u001b[0m         \u001b[0;32melse\u001b[0m\u001b[0;34m:\u001b[0m\u001b[0;34m\u001b[0m\u001b[0m\n\u001b[1;32m   1356\u001b[0m             \u001b[0;32mtry\u001b[0m\u001b[0;34m:\u001b[0m\u001b[0;34m\u001b[0m\u001b[0m\n",
            "\u001b[0;32m/usr/local/lib/python2.7/dist-packages/pandas/core/indexing.pyc\u001b[0m in \u001b[0;36m_get_listlike_indexer\u001b[0;34m(self, key, axis, raise_missing)\u001b[0m\n\u001b[1;32m   1159\u001b[0m         self._validate_read_indexer(keyarr, indexer,\n\u001b[1;32m   1160\u001b[0m                                     \u001b[0mo\u001b[0m\u001b[0;34m.\u001b[0m\u001b[0m_get_axis_number\u001b[0m\u001b[0;34m(\u001b[0m\u001b[0maxis\u001b[0m\u001b[0;34m)\u001b[0m\u001b[0;34m,\u001b[0m\u001b[0;34m\u001b[0m\u001b[0m\n\u001b[0;32m-> 1161\u001b[0;31m                                     raise_missing=raise_missing)\n\u001b[0m\u001b[1;32m   1162\u001b[0m         \u001b[0;32mreturn\u001b[0m \u001b[0mkeyarr\u001b[0m\u001b[0;34m,\u001b[0m \u001b[0mindexer\u001b[0m\u001b[0;34m\u001b[0m\u001b[0m\n\u001b[1;32m   1163\u001b[0m \u001b[0;34m\u001b[0m\u001b[0m\n",
            "\u001b[0;32m/usr/local/lib/python2.7/dist-packages/pandas/core/indexing.pyc\u001b[0m in \u001b[0;36m_validate_read_indexer\u001b[0;34m(self, key, indexer, axis, raise_missing)\u001b[0m\n\u001b[1;32m   1250\u001b[0m             \u001b[0;32mif\u001b[0m \u001b[0;32mnot\u001b[0m\u001b[0;34m(\u001b[0m\u001b[0mself\u001b[0m\u001b[0;34m.\u001b[0m\u001b[0mname\u001b[0m \u001b[0;34m==\u001b[0m \u001b[0;34m'loc'\u001b[0m \u001b[0;32mand\u001b[0m \u001b[0;32mnot\u001b[0m \u001b[0mraise_missing\u001b[0m\u001b[0;34m)\u001b[0m\u001b[0;34m:\u001b[0m\u001b[0;34m\u001b[0m\u001b[0m\n\u001b[1;32m   1251\u001b[0m                 \u001b[0mnot_found\u001b[0m \u001b[0;34m=\u001b[0m \u001b[0mlist\u001b[0m\u001b[0;34m(\u001b[0m\u001b[0mset\u001b[0m\u001b[0;34m(\u001b[0m\u001b[0mkey\u001b[0m\u001b[0;34m)\u001b[0m \u001b[0;34m-\u001b[0m \u001b[0mset\u001b[0m\u001b[0;34m(\u001b[0m\u001b[0max\u001b[0m\u001b[0;34m)\u001b[0m\u001b[0;34m)\u001b[0m\u001b[0;34m\u001b[0m\u001b[0m\n\u001b[0;32m-> 1252\u001b[0;31m                 \u001b[0;32mraise\u001b[0m \u001b[0mKeyError\u001b[0m\u001b[0;34m(\u001b[0m\u001b[0;34m\"{} not in index\"\u001b[0m\u001b[0;34m.\u001b[0m\u001b[0mformat\u001b[0m\u001b[0;34m(\u001b[0m\u001b[0mnot_found\u001b[0m\u001b[0;34m)\u001b[0m\u001b[0;34m)\u001b[0m\u001b[0;34m\u001b[0m\u001b[0m\n\u001b[0m\u001b[1;32m   1253\u001b[0m \u001b[0;34m\u001b[0m\u001b[0m\n\u001b[1;32m   1254\u001b[0m             \u001b[0;31m# we skip the warning on Categorical/Interval\u001b[0m\u001b[0;34m\u001b[0m\u001b[0;34m\u001b[0m\u001b[0m\n",
            "\u001b[0;31mKeyError\u001b[0m: \"['S_R', 'MET', 'cos_theta_r1', 'dPhi_r_b', 'MT2', 'MET_rel', 'M_TR_2', 'MET_phi', 'axial_MET', 'M_Delta_R', 'M_R', 'R'] not in index\""
          ]
        }
      ]
    },
    {
      "cell_type": "code",
      "metadata": {
        "id": "7N9I3zZD_wn-",
        "colab_type": "code",
        "colab": {}
      },
      "source": [
        "Fisher.fit(X_Train,y_Train)\n",
        "plt.figure()\n",
        "plt.hist(Fisher.decision_function(Test_sig[VarNames[1:]]),bins=100,histtype=\"step\", color=\"blue\", label=\"signal\",stacked=True)\n",
        "plt.hist(Fisher.decision_function(Test_bkg[VarNames[1:]]),bins=100,histtype=\"step\", color=\"red\", label=\"background\",stacked=True)\n",
        "plt.legend(loc='upper right')\n",
        "plt.show()"
      ],
      "execution_count": 0,
      "outputs": []
    },
    {
      "cell_type": "code",
      "metadata": {
        "id": "_XfHBoLs7opt",
        "colab_type": "code",
        "colab": {
          "base_uri": "https://localhost:8080/",
          "height": 390
        },
        "outputId": "65127d21-1632-4bc4-cff7-260f407b305f"
      },
      "source": [
        "df_combined = df[RawNames + FeatureNames]\n",
        "N_Train=4000000\n",
        "\n",
        "Train_Sample=df_combined[:N_Train]\n",
        "Test_Sample=df_combined[N_Train:]\n",
        "\n",
        "Train_Sample=df_combined[:N_Train]\n",
        "Test_Sample=df_combined[N_Train:]\n",
        "\n",
        "X_Train=Train_Sample[VarNames[1:]]\n",
        "y_Train=Train_Sample[\"signal\"]\n",
        "\n",
        "X_Test=Test_Sample[VarNames[1:]]\n",
        "y_Test=Test_Sample[\"signal\"]\n",
        "\n",
        "Test_sig=Test_Sample[Test_Sample.signal==1]\n",
        "Test_bkg=Test_Sample[Test_Sample.signal==0]"
      ],
      "execution_count": 38,
      "outputs": [
        {
          "output_type": "error",
          "ename": "KeyError",
          "evalue": "ignored",
          "traceback": [
            "\u001b[0;31m\u001b[0m",
            "\u001b[0;31mKeyError\u001b[0mTraceback (most recent call last)",
            "\u001b[0;32m<ipython-input-38-fec8b0ad0df7>\u001b[0m in \u001b[0;36m<module>\u001b[0;34m()\u001b[0m\n\u001b[1;32m      8\u001b[0m \u001b[0mTest_Sample\u001b[0m\u001b[0;34m=\u001b[0m\u001b[0mdf_combined\u001b[0m\u001b[0;34m[\u001b[0m\u001b[0mN_Train\u001b[0m\u001b[0;34m:\u001b[0m\u001b[0;34m]\u001b[0m\u001b[0;34m\u001b[0m\u001b[0m\n\u001b[1;32m      9\u001b[0m \u001b[0;34m\u001b[0m\u001b[0m\n\u001b[0;32m---> 10\u001b[0;31m \u001b[0mX_Train\u001b[0m\u001b[0;34m=\u001b[0m\u001b[0mTrain_Sample\u001b[0m\u001b[0;34m[\u001b[0m\u001b[0mVarNames\u001b[0m\u001b[0;34m[\u001b[0m\u001b[0;36m1\u001b[0m\u001b[0;34m:\u001b[0m\u001b[0;34m]\u001b[0m\u001b[0;34m]\u001b[0m\u001b[0;34m\u001b[0m\u001b[0m\n\u001b[0m\u001b[1;32m     11\u001b[0m \u001b[0my_Train\u001b[0m\u001b[0;34m=\u001b[0m\u001b[0mTrain_Sample\u001b[0m\u001b[0;34m[\u001b[0m\u001b[0;34m\"signal\"\u001b[0m\u001b[0;34m]\u001b[0m\u001b[0;34m\u001b[0m\u001b[0m\n\u001b[1;32m     12\u001b[0m \u001b[0;34m\u001b[0m\u001b[0m\n",
            "\u001b[0;32m/usr/local/lib/python2.7/dist-packages/pandas/core/frame.pyc\u001b[0m in \u001b[0;36m__getitem__\u001b[0;34m(self, key)\u001b[0m\n\u001b[1;32m   2932\u001b[0m                 \u001b[0mkey\u001b[0m \u001b[0;34m=\u001b[0m \u001b[0mlist\u001b[0m\u001b[0;34m(\u001b[0m\u001b[0mkey\u001b[0m\u001b[0;34m)\u001b[0m\u001b[0;34m\u001b[0m\u001b[0m\n\u001b[1;32m   2933\u001b[0m             indexer = self.loc._convert_to_indexer(key, axis=1,\n\u001b[0;32m-> 2934\u001b[0;31m                                                    raise_missing=True)\n\u001b[0m\u001b[1;32m   2935\u001b[0m \u001b[0;34m\u001b[0m\u001b[0m\n\u001b[1;32m   2936\u001b[0m         \u001b[0;31m# take() does not accept boolean indexers\u001b[0m\u001b[0;34m\u001b[0m\u001b[0;34m\u001b[0m\u001b[0m\n",
            "\u001b[0;32m/usr/local/lib/python2.7/dist-packages/pandas/core/indexing.pyc\u001b[0m in \u001b[0;36m_convert_to_indexer\u001b[0;34m(self, obj, axis, is_setter, raise_missing)\u001b[0m\n\u001b[1;32m   1352\u001b[0m                 kwargs = {'raise_missing': True if is_setter else\n\u001b[1;32m   1353\u001b[0m                           raise_missing}\n\u001b[0;32m-> 1354\u001b[0;31m                 \u001b[0;32mreturn\u001b[0m \u001b[0mself\u001b[0m\u001b[0;34m.\u001b[0m\u001b[0m_get_listlike_indexer\u001b[0m\u001b[0;34m(\u001b[0m\u001b[0mobj\u001b[0m\u001b[0;34m,\u001b[0m \u001b[0maxis\u001b[0m\u001b[0;34m,\u001b[0m \u001b[0;34m**\u001b[0m\u001b[0mkwargs\u001b[0m\u001b[0;34m)\u001b[0m\u001b[0;34m[\u001b[0m\u001b[0;36m1\u001b[0m\u001b[0;34m]\u001b[0m\u001b[0;34m\u001b[0m\u001b[0m\n\u001b[0m\u001b[1;32m   1355\u001b[0m         \u001b[0;32melse\u001b[0m\u001b[0;34m:\u001b[0m\u001b[0;34m\u001b[0m\u001b[0m\n\u001b[1;32m   1356\u001b[0m             \u001b[0;32mtry\u001b[0m\u001b[0;34m:\u001b[0m\u001b[0;34m\u001b[0m\u001b[0m\n",
            "\u001b[0;32m/usr/local/lib/python2.7/dist-packages/pandas/core/indexing.pyc\u001b[0m in \u001b[0;36m_get_listlike_indexer\u001b[0;34m(self, key, axis, raise_missing)\u001b[0m\n\u001b[1;32m   1159\u001b[0m         self._validate_read_indexer(keyarr, indexer,\n\u001b[1;32m   1160\u001b[0m                                     \u001b[0mo\u001b[0m\u001b[0;34m.\u001b[0m\u001b[0m_get_axis_number\u001b[0m\u001b[0;34m(\u001b[0m\u001b[0maxis\u001b[0m\u001b[0;34m)\u001b[0m\u001b[0;34m,\u001b[0m\u001b[0;34m\u001b[0m\u001b[0m\n\u001b[0;32m-> 1161\u001b[0;31m                                     raise_missing=raise_missing)\n\u001b[0m\u001b[1;32m   1162\u001b[0m         \u001b[0;32mreturn\u001b[0m \u001b[0mkeyarr\u001b[0m\u001b[0;34m,\u001b[0m \u001b[0mindexer\u001b[0m\u001b[0;34m\u001b[0m\u001b[0m\n\u001b[1;32m   1163\u001b[0m \u001b[0;34m\u001b[0m\u001b[0m\n",
            "\u001b[0;32m/usr/local/lib/python2.7/dist-packages/pandas/core/indexing.pyc\u001b[0m in \u001b[0;36m_validate_read_indexer\u001b[0;34m(self, key, indexer, axis, raise_missing)\u001b[0m\n\u001b[1;32m   1250\u001b[0m             \u001b[0;32mif\u001b[0m \u001b[0;32mnot\u001b[0m\u001b[0;34m(\u001b[0m\u001b[0mself\u001b[0m\u001b[0;34m.\u001b[0m\u001b[0mname\u001b[0m \u001b[0;34m==\u001b[0m \u001b[0;34m'loc'\u001b[0m \u001b[0;32mand\u001b[0m \u001b[0;32mnot\u001b[0m \u001b[0mraise_missing\u001b[0m\u001b[0;34m)\u001b[0m\u001b[0;34m:\u001b[0m\u001b[0;34m\u001b[0m\u001b[0m\n\u001b[1;32m   1251\u001b[0m                 \u001b[0mnot_found\u001b[0m \u001b[0;34m=\u001b[0m \u001b[0mlist\u001b[0m\u001b[0;34m(\u001b[0m\u001b[0mset\u001b[0m\u001b[0;34m(\u001b[0m\u001b[0mkey\u001b[0m\u001b[0;34m)\u001b[0m \u001b[0;34m-\u001b[0m \u001b[0mset\u001b[0m\u001b[0;34m(\u001b[0m\u001b[0max\u001b[0m\u001b[0;34m)\u001b[0m\u001b[0;34m)\u001b[0m\u001b[0;34m\u001b[0m\u001b[0m\n\u001b[0;32m-> 1252\u001b[0;31m                 \u001b[0;32mraise\u001b[0m \u001b[0mKeyError\u001b[0m\u001b[0;34m(\u001b[0m\u001b[0;34m\"{} not in index\"\u001b[0m\u001b[0;34m.\u001b[0m\u001b[0mformat\u001b[0m\u001b[0;34m(\u001b[0m\u001b[0mnot_found\u001b[0m\u001b[0;34m)\u001b[0m\u001b[0;34m)\u001b[0m\u001b[0;34m\u001b[0m\u001b[0m\n\u001b[0m\u001b[1;32m   1253\u001b[0m \u001b[0;34m\u001b[0m\u001b[0m\n\u001b[1;32m   1254\u001b[0m             \u001b[0;31m# we skip the warning on Categorical/Interval\u001b[0m\u001b[0;34m\u001b[0m\u001b[0;34m\u001b[0m\u001b[0m\n",
            "\u001b[0;31mKeyError\u001b[0m: \"['S_R', 'MET', 'cos_theta_r1', 'dPhi_r_b', 'MT2', 'MET_rel', 'M_TR_2', 'MET_phi', 'axial_MET', 'M_Delta_R', 'M_R', 'R'] not in index\""
          ]
        }
      ]
    },
    {
      "cell_type": "code",
      "metadata": {
        "id": "Ps9JPgmh_yjW",
        "colab_type": "code",
        "colab": {}
      },
      "source": [
        "Fisher.fit(X_Train,y_Train)\n",
        "plt.figure()\n",
        "plt.hist(Fisher.decision_function(Test_sig[VarNames[1:]]),bins=100,histtype=\"step\", color=\"blue\", label=\"signal\",stacked=True)\n",
        "plt.hist(Fisher.decision_function(Test_bkg[VarNames[1:]]),bins=100,histtype=\"step\", color=\"red\", label=\"background\",stacked=True)\n",
        "plt.legend(loc='upper right')\n",
        "plt.show()"
      ],
      "execution_count": 0,
      "outputs": []
    },
    {
      "cell_type": "code",
      "metadata": {
        "id": "JboS1CHg_LWh",
        "colab_type": "code",
        "colab": {}
      },
      "source": [
        ""
      ],
      "execution_count": 0,
      "outputs": []
    },
    {
      "cell_type": "markdown",
      "metadata": {
        "id": "tijhzrS8yxak",
        "colab_type": "text"
      },
      "source": [
        "## Exercise 4.2\n",
        "\n",
        "Select 3 different classifiers from the techniques listed [here](http://scikit-learn.org/stable/supervised_learning.html#supervised-learning). Note that you can use the multi-layer peceptron to build a deep network, though training may be prohibitively slow. So avoid this technique. Perform the comparison in exercise 1 for each. Compare your conclusions for your selected techniques to the paper.\n"
      ]
    },
    {
      "cell_type": "markdown",
      "metadata": {
        "id": "xoW2r39myxal",
        "colab_type": "text"
      },
      "source": [
        "\n",
        "## Exercise 4.3\n",
        "\n",
        "The following function calculates the significance of the observation of the signal given the number of expected Signal and Background events, using the simple formula $\\sigma_S= \\frac{N_S}{\\sqrt{N_S+N_B}}$. Read through the code carefully."
      ]
    },
    {
      "cell_type": "code",
      "metadata": {
        "id": "xgFLKly1yxal",
        "colab_type": "code",
        "outputId": "71bb6ea4-b6c9-46e0-8bdf-302209dfefbd",
        "colab": {
          "base_uri": "https://localhost:8080/",
          "height": 576
        }
      },
      "source": [
        "import numpy as np\n",
        "def PlotSignificance(N_S,N_B, N_S_min=1):\n",
        "    plt.figure()\n",
        "    eff_sig,bins_sig,p_sig=plt.hist(Fisher.decision_function(Test_sig[VarNames[1:]]),bins=100,histtype=\"step\", color=\"blue\", label=\"signal\",cumulative=-1,stacked=True,normed=True)\n",
        "    eff_bkg,bins_bkg,p_bkg=plt.hist(Fisher.decision_function(Test_bkg[VarNames[1:]]),bins=100,histtype=\"step\", color=\"red\", label=\"background\",cumulative=-1,stacked=True,normed=True)\n",
        "    plt.legend(loc='upper right')\n",
        "    plt.show()\n",
        "    \n",
        "    good_bins = np.where(eff_sig*N_S>=N_S_min)\n",
        "\n",
        "    print len(good_bins[0])\n",
        "    if len(good_bins[0])<1:\n",
        "        print \"Insufficient Signal.\"\n",
        "        return 0,0,0\n",
        "    \n",
        "    significance=(N_S*eff_sig)/np.sqrt((N_B*eff_bkg)+(N_S*eff_sig))\n",
        "\n",
        "    plt.figure()\n",
        "    plt.plot(bins_sig[:-1],significance)\n",
        "    \n",
        "    max_sign=np.max(significance[good_bins])\n",
        "    max_signI=np.argmax(significance[good_bins])\n",
        "    \n",
        "    plt.show()\n",
        "    print \"Max significance at \", bins_sig[max_signI], \" of\", max_sign\n",
        "    return bins_sig[max_signI],max_sign, max_signI\n",
        "    \n",
        "PlotSignificance(1000000,1e11)"
      ],
      "execution_count": 0,
      "outputs": [
        {
          "output_type": "display_data",
          "data": {
            "image/png": "[encoded data removed]",
            "text/plain": [
              "<Figure size 432x288 with 1 Axes>"
            ]
          },
          "metadata": {
            "tags": []
          }
        },
        {
          "output_type": "stream",
          "text": [
            "100\n"
          ],
          "name": "stdout"
        },
        {
          "output_type": "display_data",
          "data": {
            "image/png": "[encoded data removed]",
            "text/plain": [
              "<Figure size 432x288 with 1 Axes>"
            ]
          },
          "metadata": {
            "tags": []
          }
        },
        {
          "output_type": "stream",
          "text": [
            "Max significance at  -5.920318000815719  of 3.162261848898663\n"
          ],
          "name": "stdout"
        },
        {
          "output_type": "execute_result",
          "data": {
            "text/plain": [
              "(-5.920318000815719, 3.162261848898663, 0)"
            ]
          },
          "metadata": {
            "tags": []
          },
          "execution_count": 19
        }
      ]
    },
    {
      "cell_type": "markdown",
      "metadata": {
        "id": "kOCXumc-yxas",
        "colab_type": "text"
      },
      "source": [
        "\n",
        "Answer the following questions:\n",
        "* What are we computing when making a normalized cummulative plot?\n",
        "* Assume that the experiment produces 1 signal event for every $10^{11}$ background events. For each of your classifiers, how many signal events need to be produced to be able to make a $5\\sigma$ discovery claim?"
      ]
    },
    {
      "cell_type": "code",
      "metadata": {
        "id": "1kzF6bt1yxav",
        "colab_type": "code",
        "colab": {}
      },
      "source": [
        ""
      ],
      "execution_count": 0,
      "outputs": []
    }
  ]
}