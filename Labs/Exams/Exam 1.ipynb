{
 "cells": [
  {
   "cell_type": "markdown",
   "metadata": {},
   "source": [
    "# 2.Matrix Representation"
   ]
  },
  {
   "cell_type": "code",
   "execution_count": 3,
   "metadata": {
    "collapsed": true
   },
   "outputs": [],
   "source": [
    "#2a\n",
    "def constant(n,m,c):\n",
    "    mat =[]\n",
    "    \n",
    "    for i in range(n):\n",
    "        row=[]\n",
    "        for j in range(m):\n",
    "            row.append(c)\n",
    "        mat.append(row)\n",
    "    return mat"
   ]
  },
  {
   "cell_type": "code",
   "execution_count": 4,
   "metadata": {},
   "outputs": [
    {
     "data": {
      "text/plain": [
       "[[1.23, 1.23, 1.23, 1.23, 1.23],\n",
       " [1.23, 1.23, 1.23, 1.23, 1.23],\n",
       " [1.23, 1.23, 1.23, 1.23, 1.23],\n",
       " [1.23, 1.23, 1.23, 1.23, 1.23],\n",
       " [1.23, 1.23, 1.23, 1.23, 1.23],\n",
       " [1.23, 1.23, 1.23, 1.23, 1.23],\n",
       " [1.23, 1.23, 1.23, 1.23, 1.23]]"
      ]
     },
     "execution_count": 4,
     "metadata": {},
     "output_type": "execute_result"
    }
   ],
   "source": [
    "#2a test\n",
    "constant(7,5,1.23)"
   ]
  },
  {
   "cell_type": "code",
   "execution_count": 5,
   "metadata": {
    "collapsed": true
   },
   "outputs": [],
   "source": [
    "#2b\n",
    "def zeros(n,m):\n",
    "    return constant(n,m,0)\n",
    "def ones(n,m):\n",
    "    return constant(n,m,1)    "
   ]
  },
  {
   "cell_type": "code",
   "execution_count": 6,
   "metadata": {},
   "outputs": [
    {
     "name": "stdout",
     "output_type": "stream",
     "text": [
      "[[0, 0, 0], [0, 0, 0]]\n",
      "[[1, 1], [1, 1]]\n"
     ]
    }
   ],
   "source": [
    "#2b test\n",
    "print zeros(2,3)\n",
    "print ones(2,2)"
   ]
  },
  {
   "cell_type": "code",
   "execution_count": 7,
   "metadata": {
    "collapsed": true
   },
   "outputs": [],
   "source": [
    "#2c\n",
    "def eye(n):\n",
    "    mat =[]\n",
    "    for i in range(n):\n",
    "        row =[]\n",
    "        for j in range(n):\n",
    "            if j==i:\n",
    "                row.append(1)\n",
    "            else:\n",
    "                row.append(0)\n",
    "        mat.append(row)        \n",
    "    return mat            \n",
    "                "
   ]
  },
  {
   "cell_type": "code",
   "execution_count": 8,
   "metadata": {},
   "outputs": [
    {
     "data": {
      "text/plain": [
       "[[1, 0, 0, 0, 0, 0, 0, 0, 0, 0],\n",
       " [0, 1, 0, 0, 0, 0, 0, 0, 0, 0],\n",
       " [0, 0, 1, 0, 0, 0, 0, 0, 0, 0],\n",
       " [0, 0, 0, 1, 0, 0, 0, 0, 0, 0],\n",
       " [0, 0, 0, 0, 1, 0, 0, 0, 0, 0],\n",
       " [0, 0, 0, 0, 0, 1, 0, 0, 0, 0],\n",
       " [0, 0, 0, 0, 0, 0, 1, 0, 0, 0],\n",
       " [0, 0, 0, 0, 0, 0, 0, 1, 0, 0],\n",
       " [0, 0, 0, 0, 0, 0, 0, 0, 1, 0],\n",
       " [0, 0, 0, 0, 0, 0, 0, 0, 0, 1]]"
      ]
     },
     "execution_count": 8,
     "metadata": {},
     "output_type": "execute_result"
    }
   ],
   "source": [
    "#2c Test\n",
    "eye(10)"
   ]
  },
  {
   "cell_type": "markdown",
   "metadata": {},
   "source": [
    "# 3. Slicing"
   ]
  },
  {
   "cell_type": "code",
   "execution_count": 9,
   "metadata": {
    "collapsed": true
   },
   "outputs": [],
   "source": [
    "#3a\n",
    "def shape(M):\n",
    "    return tuple(M)"
   ]
  },
  {
   "cell_type": "code",
   "execution_count": 10,
   "metadata": {},
   "outputs": [
    {
     "data": {
      "text/plain": [
       "([0, 0, 0], [0, 0, 0])"
      ]
     },
     "execution_count": 10,
     "metadata": {},
     "output_type": "execute_result"
    }
   ],
   "source": [
    "#3a Test\n",
    "shape(zeros(2,3))"
   ]
  },
  {
   "cell_type": "code",
   "execution_count": 11,
   "metadata": {
    "collapsed": true
   },
   "outputs": [],
   "source": [
    "#3b\n",
    "def row(M,n):\n",
    "    if(n>len(M)):\n",
    "        return \"Matrix's row exceeded\"\n",
    "    for i in range(len(M)):\n",
    "            if i == n-1:\n",
    "                return M[i]\n",
    "\n",
    "def col(M,n):\n",
    "    col_mat = []\n",
    "    if(n>len(M[1])):\n",
    "        return \"Matrix's column excedeed\"\n",
    "    for i in range(len(M)):\n",
    "             col_mat.append(M[i][n-1])\n",
    "    return col_mat\n"
   ]
  },
  {
   "cell_type": "code",
   "execution_count": 12,
   "metadata": {},
   "outputs": [
    {
     "name": "stdout",
     "output_type": "stream",
     "text": [
      "Row:  [0, 0, 0, 0]\n",
      "Column:\n",
      "[1, 1, 1]\n"
     ]
    }
   ],
   "source": [
    "#3b Test\n",
    "print(\"Row: \"),\n",
    "print row(zeros(2,4),1)\n",
    "print(\"Column:\")\n",
    "print col(ones(3,5),2)"
   ]
  },
  {
   "cell_type": "code",
   "execution_count": 13,
   "metadata": {
    "collapsed": true
   },
   "outputs": [],
   "source": [
    "#3c\n",
    "def block(M,n_0,n_1,m_0,m_1):\n",
    "    try:\n",
    "        small_mat=[]\n",
    "        for i in range(m_0,m_1+1):     #Traversing the matrix\n",
    "            row =[]\n",
    "            for j in range(n_0,n_1+1):\n",
    "                row.append(M[j-1][i-1])\n",
    "            small_mat.append(row)\n",
    "    except IndexError as ie:\n",
    "        return ie                     #catching index out of range error     \n",
    "    return small_mat"
   ]
  },
  {
   "cell_type": "code",
   "execution_count": 14,
   "metadata": {},
   "outputs": [
    {
     "name": "stdout",
     "output_type": "stream",
     "text": [
      "list index out of range\n"
     ]
    }
   ],
   "source": [
    "#3c test\n",
    "print block(eye(5),3,6,2,4)"
   ]
  },
  {
   "cell_type": "markdown",
   "metadata": {},
   "source": [
    "# 4. Matrix Operation"
   ]
  },
  {
   "cell_type": "code",
   "execution_count": 15,
   "metadata": {
    "collapsed": true
   },
   "outputs": [],
   "source": [
    "#4a\n",
    "def transpose(M):\n",
    "    trans_mat = []\n",
    "    for i in range(len(M[0])):\n",
    "        row=[]\n",
    "        for j in range(len(M)):\n",
    "            row.append(M[j][i])  \n",
    "        trans_mat.append(row)\n",
    "    return trans_mat"
   ]
  },
  {
   "cell_type": "code",
   "execution_count": 16,
   "metadata": {},
   "outputs": [
    {
     "data": {
      "text/plain": [
       "[[1, 1, 1, 1, 1, 1, 1, 1, 1, 1],\n",
       " [1, 1, 1, 1, 1, 1, 1, 1, 1, 1],\n",
       " [1, 1, 1, 1, 1, 1, 1, 1, 1, 1],\n",
       " [1, 1, 1, 1, 1, 1, 1, 1, 1, 1],\n",
       " [1, 1, 1, 1, 1, 1, 1, 1, 1, 1]]"
      ]
     },
     "execution_count": 16,
     "metadata": {},
     "output_type": "execute_result"
    }
   ],
   "source": [
    "#4a test\n",
    "transpose(ones(10,5))"
   ]
  },
  {
   "cell_type": "code",
   "execution_count": 17,
   "metadata": {
    "collapsed": true
   },
   "outputs": [],
   "source": [
    "#4b\n",
    "def scalarmul(M,c):\n",
    "    for i in range(len(M)):\n",
    "        for j in range(len(M[0])):\n",
    "            M[i][j]=M[i][j]*c\n",
    "    return M"
   ]
  },
  {
   "cell_type": "code",
   "execution_count": 18,
   "metadata": {},
   "outputs": [
    {
     "data": {
      "text/plain": [
       "[[2, 0, 0, 0, 0],\n",
       " [0, 2, 0, 0, 0],\n",
       " [0, 0, 2, 0, 0],\n",
       " [0, 0, 0, 2, 0],\n",
       " [0, 0, 0, 0, 2]]"
      ]
     },
     "execution_count": 18,
     "metadata": {},
     "output_type": "execute_result"
    }
   ],
   "source": [
    "#4b Test\n",
    "scalarmul(eye(5),2)"
   ]
  },
  {
   "cell_type": "code",
   "execution_count": 19,
   "metadata": {
    "collapsed": true
   },
   "outputs": [],
   "source": [
    "def add(M,N):\n",
    "    if(len(M)!=len(N) or len(M[0])!=len(N[0])):\n",
    "        return \"Invalid Size of Matrices\"\n",
    "    sum_mat=[]\n",
    "    for i in range(len(M)):\n",
    "        row=[]\n",
    "        for j in range(len(M[0])):\n",
    "            row.append(M[i][j] + N[i][j])\n",
    "        sum_mat.append(row)\n",
    "    return sum_mat"
   ]
  },
  {
   "cell_type": "code",
   "execution_count": 20,
   "metadata": {},
   "outputs": [
    {
     "data": {
      "text/plain": [
       "[[2, 0, 0], [0, 2, 0], [0, 0, 2]]"
      ]
     },
     "execution_count": 20,
     "metadata": {},
     "output_type": "execute_result"
    }
   ],
   "source": [
    "add(eye(3),eye(3))"
   ]
  },
  {
   "cell_type": "code",
   "execution_count": 21,
   "metadata": {
    "collapsed": true
   },
   "outputs": [],
   "source": [
    "#4d\n",
    "def sub(M,N):\n",
    "    if(len(M)!=len(N) or len(M[0])!=len(N[0])):\n",
    "        return \"Invalid Size of Matrices\"\n",
    "    sub_mat=[]\n",
    "    for i in range(len(M)):\n",
    "        row=[]\n",
    "        for j in range(len(M[0])):\n",
    "            row.append(M[i][j] - N[i][j])\n",
    "        sub_mat.append(row)\n",
    "    return sub_mat"
   ]
  },
  {
   "cell_type": "code",
   "execution_count": 22,
   "metadata": {},
   "outputs": [
    {
     "data": {
      "text/plain": [
       "[[0, 0, 0], [0, 0, 0], [0, 0, 0]]"
      ]
     },
     "execution_count": 22,
     "metadata": {},
     "output_type": "execute_result"
    }
   ],
   "source": [
    "#4d test\n",
    "sub(eye(3),eye(3))"
   ]
  },
  {
   "cell_type": "code",
   "execution_count": 93,
   "metadata": {
    "collapsed": true
   },
   "outputs": [],
   "source": [
    "#4e\n",
    "def elementmult(M,N):\n",
    "    if(len(M)!=len(N) or len(M[0])!=len(N[0])):\n",
    "        return \"Invalid Size of Matrices\"\n",
    "    ele_mat=[]\n",
    "    for i in range(len(M)):\n",
    "        row=[]\n",
    "        for j in range(len(M[0])):\n",
    "            row.append(M[i][j] * N[i][j])\n",
    "        ele_mat.append(row)\n",
    "    return ele_mat"
   ]
  },
  {
   "cell_type": "code",
   "execution_count": 94,
   "metadata": {},
   "outputs": [
    {
     "data": {
      "text/plain": [
       "[[0, 0, 0, 0], [0, 0, 0, 0], [0, 0, 0, 0]]"
      ]
     },
     "execution_count": 94,
     "metadata": {},
     "output_type": "execute_result"
    }
   ],
   "source": [
    "#4e test\n",
    "elementmult(zeros(3,4),ones(3,4))"
   ]
  },
  {
   "cell_type": "code",
   "execution_count": 95,
   "metadata": {},
   "outputs": [],
   "source": [
    "#4f\n",
    "def matmult(M,N):\n",
    "    if(len(M[0])!= len(N)):\n",
    "        return \"Invalid Size of Matrices\"\n",
    "    mul_mat=[]\n",
    "    print mul_mat\n",
    "    for r in range(len(M)):\n",
    "        row=[]\n",
    "        for c in range(len(N[0])):\n",
    "            total =0\n",
    "            for k in range(len(M[0])):\n",
    "                total+= M[r][k]*N[k][c]\n",
    "            row.append(total)\n",
    "        mul_mat.append(row)\n",
    "    return mul_mat"
   ]
  },
  {
   "cell_type": "code",
   "execution_count": 97,
   "metadata": {},
   "outputs": [
    {
     "name": "stdout",
     "output_type": "stream",
     "text": [
      "[]\n"
     ]
    },
    {
     "data": {
      "text/plain": [
       "[[25, 22, 33, 23]]"
      ]
     },
     "execution_count": 97,
     "metadata": {},
     "output_type": "execute_result"
    }
   ],
   "source": [
    "#4f Test\n",
    "M = [[1,2,3]]\n",
    "N = [[5,4,3,0],[1,3,9,7],[6,4,4,3]]\n",
    "matmult(M,N)"
   ]
  },
  {
   "cell_type": "code",
   "execution_count": 47,
   "metadata": {},
   "outputs": [],
   "source": [
    "#4g\n",
    "def dot(A,B):\n",
    "    if(len(A)!=len(B)):\n",
    "        return \"Invalid Vector Size\"\n",
    "    sum=0\n",
    "    for i in range(len(A)):\n",
    "        mul = A[i]*B[i]\n",
    "        sum+=mul\n",
    "    return sum\n",
    "def outer(A,B):\n",
    "    if(len(A)!=len(B)):\n",
    "        return \"Invalid Vector Size\"\n",
    "    out_mat=[]\n",
    "    for i in range(len(A)):\n",
    "        row = []\n",
    "        for j in range (len(B)):\n",
    "            row.append(A[i]*B[j])\n",
    "        out_mat.append(row)\n",
    "    return out_mat"
   ]
  },
  {
   "cell_type": "code",
   "execution_count": 52,
   "metadata": {},
   "outputs": [
    {
     "name": "stdout",
     "output_type": "stream",
     "text": [
      "32\n"
     ]
    },
    {
     "data": {
      "text/plain": [
       "[[18, 12, 6, 18, 6, 12, 30],\n",
       " [15, 10, 5, 15, 5, 10, 25],\n",
       " [12, 8, 4, 12, 4, 8, 20],\n",
       " [24, 16, 8, 24, 8, 16, 40],\n",
       " [6, 4, 2, 6, 2, 4, 10],\n",
       " [3, 2, 1, 3, 1, 2, 5],\n",
       " [0, 0, 0, 0, 0, 0, 0]]"
      ]
     },
     "execution_count": 52,
     "metadata": {},
     "output_type": "execute_result"
    }
   ],
   "source": [
    "print dot([6,5,4],[3,2,1])\n",
    "outer([6,5,4,8,2,1,0],[3,2,1,3,1,2,5])"
   ]
  },
  {
   "cell_type": "markdown",
   "metadata": {},
   "source": [
    "# 5. Norms"
   ]
  },
  {
   "cell_type": "code",
   "execution_count": 102,
   "metadata": {
    "collapsed": true
   },
   "outputs": [],
   "source": [
    "\n",
    "def norm(M,i):\n",
    "    if(i==1):\n",
    "        norm_list=[]\n",
    "        for i in range(len(M)):\n",
    "            sum=0\n",
    "            for j in range(len(M[0])):\n",
    "                sum+=abs(M[j][i])\n",
    "            norm_list.append(sum)\n",
    "        \n",
    "        return max(norm_list)\n",
    "    if(i==\"inf\"):\n",
    "        norm_list=[]\n",
    "        for i in range(len(M)):\n",
    "            sum =0\n",
    "            for j in range(len(M[0])):\n",
    "                sum+= abs(M[i][j])\n",
    "            norm_list.append(sum)\n",
    "        return max(norm_list)\n",
    "            "
   ]
  },
  {
   "cell_type": "code",
   "execution_count": 103,
   "metadata": {},
   "outputs": [
    {
     "data": {
      "text/plain": [
       "7"
      ]
     },
     "execution_count": 103,
     "metadata": {},
     "output_type": "execute_result"
    }
   ],
   "source": [
    "print(\"1 Norm: \"),\n",
    "norm([[2,-2,1],[-1,3,-1],[2,-4,1]],\"i\")\n",
    "norm([[2,-2,1],[-1,3,-1],[2,-4,1]],\"inf\")"
   ]
  },
  {
   "cell_type": "markdown",
   "metadata": {},
   "source": [
    "# 6.Linear Algebra"
   ]
  },
  {
   "cell_type": "code",
   "execution_count": null,
   "metadata": {
    "collapsed": true
   },
   "outputs": [],
   "source": [
    "#6a\n",
    "def inv(M):\n",
    "    "
   ]
  }
 ],
 "metadata": {
  "kernelspec": {
   "display_name": "Python 2",
   "language": "python",
   "name": "python2"
  },
  "language_info": {
   "codemirror_mode": {
    "name": "ipython",
    "version": 2
   },
   "file_extension": ".py",
   "mimetype": "text/x-python",
   "name": "python",
   "nbconvert_exporter": "python",
   "pygments_lexer": "ipython2",
   "version": "2.7.13"
  }
 },
 "nbformat": 4,
 "nbformat_minor": 2
}
