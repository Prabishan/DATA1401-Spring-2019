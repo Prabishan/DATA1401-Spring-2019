{
 "cells": [
  {
   "cell_type": "markdown",
   "metadata": {},
   "source": [
    "# Lab 5 - Part 2\n",
    "\n",
    "In the first part of this lab, you were tasked with implementing a Matrix class based on the matrix operations you implemented in Exam 1.\n",
    "\n",
    "In this part of the lab you will test your Matrix implementation by comparing to the `numpy` which is the most commonly used python library for matrices and tensors (high dimensional matrices).\n",
    "\n",
    "## Matrix Library\n",
    "\n",
    "*Exercise 1:* You implemented the first part of this lab in a python notebook. Use the new button from the Jupyter file browser page to create and edit a new text file named \"matrix.py\" in the \"Lab-5\" directory where this current notebook is running. Copy and paste your matrix implementation into this file. You may use a different text editor if you like. Make sure you add, commit, and push your `matrix.py` file when you submit your solutions to this lab.\n",
    "\n",
    "*Exercise 2:* Use python `import` to import your library into this notebook. Note that if there is a problem with your \"matrix.py\" file, you will get an error during the import. You can correct this error by editting the file and running the import cell again. But if the import succeeds, using import will not re-read the file. So if you edit the file after a successful import, you will need to either restart this notebook or use the python `reload` built-in to reload your matrix module.\n"
   ]
  },
  {
   "cell_type": "code",
   "execution_count": 1,
   "metadata": {},
   "outputs": [],
   "source": [
    "from maatrix import matrix"
   ]
  },
  {
   "cell_type": "markdown",
   "metadata": {},
   "source": [
    "*Exercise 3:* Demonstrate the basic properties of matrices with your matrix class by creating two 2 by 2 example matrices using your Matrix class and illustrating the following:\n",
    "\n",
    "$$\n",
    "(AB)C=A(BC)\n",
    "$$\n",
    "$$\n",
    "A(B+C)=AB+AC\n",
    "$$\n",
    "$$\n",
    "AB\\neq BA\n",
    "$$\n",
    "$$\n",
    "AI=A\n",
    "$$"
   ]
  },
  {
   "cell_type": "code",
   "execution_count": 2,
   "metadata": {},
   "outputs": [
    {
     "name": "stdout",
     "output_type": "stream",
     "text": [
      "[[24, 24], [24, 24]]\n",
      "[[24, 24], [24, 24]]\n"
     ]
    }
   ],
   "source": [
    "#(AB)C = A(BC)\n",
    "mt = matrix()\n",
    "A = mt.constant(2,2,1)\n",
    "B = mt.constant(2,2,2)\n",
    "C = mt.constant(2,2,3)\n",
    "AB = mt.matmult(A,B)\n",
    "AB_C = mt.matmult(AB,C) # (AB)C\n",
    "BC = mt.matmult(B,C)\n",
    "A_BC = mt.matmult(A,BC) #A(BC)\n",
    "print AB_C\n",
    "print A_BC"
   ]
  },
  {
   "cell_type": "code",
   "execution_count": 3,
   "metadata": {},
   "outputs": [
    {
     "name": "stdout",
     "output_type": "stream",
     "text": [
      "[[10, 10], [10, 10]]\n",
      "[[10, 10], [10, 10]]\n"
     ]
    }
   ],
   "source": [
    "#A(B+C) = AB+AC\n",
    "\n",
    "B_plus_C = mt.add(B,C)\n",
    "ABC = mt.matmult(A,B_plus_C)\n",
    "AC = mt.matmult(A,C)\n",
    "AB_plus_AC = mt.add(AB,AC)\n",
    "print ABC\n",
    "print AB_plus_AC"
   ]
  },
  {
   "cell_type": "code",
   "execution_count": 4,
   "metadata": {},
   "outputs": [
    {
     "name": "stdout",
     "output_type": "stream",
     "text": [
      "[[80, 128], [48, 130]]\n",
      "[[70, 42], [132, 140]]\n"
     ]
    }
   ],
   "source": [
    "#AB!=BA\n",
    "A = mt.randmat(2,2)\n",
    "B = mt.randmat(2,2)\n",
    "AB = mt.matmult(A,B)\n",
    "BA = mt.matmult(B,A)\n",
    "print AB\n",
    "print BA"
   ]
  },
  {
   "cell_type": "code",
   "execution_count": 5,
   "metadata": {},
   "outputs": [
    {
     "name": "stdout",
     "output_type": "stream",
     "text": [
      "[[4, 10], [10, 6]]\n",
      "[[4, 10], [10, 6]]\n"
     ]
    }
   ],
   "source": [
    "#AI=A\n",
    "I = mt.eye(2)\n",
    "AI = mt.matmult(A,I)\n",
    "print A\n",
    "print AI"
   ]
  },
  {
   "cell_type": "markdown",
   "metadata": {},
   "source": [
    "## Matrices with `numpy`\n",
    "`numpy` is very well [documented](https://docs.scipy.org/doc/numpy/reference/index.html). You can find a list of linear algebra operations in `numpy` [here](https://docs.scipy.org/doc/numpy/reference/routines.linalg.html). A more general and detailed description of linear algebra with `numpy` and `scipy` (which implements same routines) can be found [here](https://docs.scipy.org/doc/scipy/reference/tutorial/linalg.html).\n"
   ]
  },
  {
   "cell_type": "code",
   "execution_count": 6,
   "metadata": {},
   "outputs": [
    {
     "name": "stdout",
     "output_type": "stream",
     "text": [
      "A:\n",
      "[[ 4.  5.]\n",
      " [-2. -1.]]\n",
      "y\n",
      "[12.  2.]\n",
      "Inverse of A:\n",
      "[[-0.16666667 -0.83333333]\n",
      " [ 0.33333333  0.66666667]]\n",
      "A * A_inverse:\n",
      "[[ 1.00000000e+00  1.11022302e-16]\n",
      " [-5.55111512e-17  1.00000000e+00]]\n",
      "Identity:\n",
      "[[1. 0.]\n",
      " [0. 1.]]\n",
      "Solution: x=\n",
      "[-3.66666667  5.33333333]\n",
      "Check solution: Ax=\n",
      "[12.  2.]\n",
      "[ True False]\n"
     ]
    }
   ],
   "source": [
    "import numpy as np\n",
    "\n",
    "A = np.array([[4.,5.],[-2.,-1.]])\n",
    "y = np.array([12.,2.])\n",
    "\n",
    "print \"A:\"\n",
    "print A\n",
    "print \"y\"\n",
    "print y\n",
    "\n",
    "A_inv=np.linalg.inv(A)\n",
    "\n",
    "print \"Inverse of A:\"\n",
    "print A_inv\n",
    "\n",
    "print \"A * A_inverse:\"\n",
    "print np.matmul(A,A_inv)\n",
    "\n",
    "print \"Identity:\"\n",
    "print np.eye(*A.shape)\n",
    "\n",
    "x= np.matmul(A_inv,y)\n",
    "\n",
    "print \"Solution: x=\"\n",
    "print x\n",
    "\n",
    "print \"Check solution: Ax=\"\n",
    "print np.matmul(A,x)\n",
    "print y==np.matmul(A,x)"
   ]
  },
  {
   "cell_type": "markdown",
   "metadata": {},
   "source": [
    "*Exercise 3:* Following the numpy example above, demonstrate that your matrix class reproduces the functionality of numpy. If you were unable to implement the inverse method you may use numpy's inverse. Note that the syntax for your matrix module may be different than numpy. "
   ]
  },
  {
   "cell_type": "code",
   "execution_count": 23,
   "metadata": {},
   "outputs": [
    {
     "name": "stdout",
     "output_type": "stream",
     "text": [
      "[[8, 9, 2], [3, 3, 10], [8, 0, 1]]\n",
      "Inverse of A is: \n",
      "[[ 0.0044843  -0.01345291  0.12556054]\n",
      " [ 0.11509716 -0.01195815 -0.11061286]\n",
      " [-0.03587444  0.10762332 -0.0044843 ]]\n"
     ]
    }
   ],
   "source": [
    "# Solution here\n",
    "A = mt.randmat(3,3)\n",
    "print A\n",
    "print(\"Inverse of A is: \")\n",
    "print np.linalg.inv(A)"
   ]
  },
  {
   "cell_type": "markdown",
   "metadata": {},
   "source": [
    "## Matrix Elements\n",
    "Consider an arbitrary matrix $A$:\n",
    "\n",
    "\\begin{equation*}\n",
    "A_{m,n} = \n",
    " \\begin{pmatrix}\n",
    "  a_{11} & a_{12} & \\cdots & a_{1n} \\\\\n",
    "  a_{21} & a_{22} & \\cdots & a_{2n} \\\\\n",
    "  \\vdots  & \\vdots  & \\ddots & \\vdots\\\\\n",
    "  a_{m1} & a_{m2} & \\cdots & a_{mn} \n",
    "\\end{pmatrix}\n",
    "\\end{equation*}\n",
    "\n",
    "we define the columns as $a_j=A_{:,j}$:\n",
    "\n",
    "\\begin{pmatrix} \n",
    "| & | &  &|\\\\\n",
    "a_1 & a_2 & \\dots &\\ a_n\\\\\n",
    "| & | &  &|\n",
    "\\end{pmatrix}\n",
    "\n",
    "and rows $a^T_i = A_{i,:}$:\n",
    "\n",
    "\\begin{pmatrix} \n",
    "- & a^T_1 & -\\\\\n",
    "- & a^T_2 & -\\\\\n",
    " & \\vdots & \\\\\n",
    "- & a^T_3 & -\\\\\n",
    "\\end{pmatrix}\n",
    "\n",
    "or in `numpy`:\n"
   ]
  },
  {
   "cell_type": "code",
   "execution_count": 8,
   "metadata": {},
   "outputs": [
    {
     "name": "stdout",
     "output_type": "stream",
     "text": [
      "A:\n",
      "[[0.22771961 0.93165535 0.19227766 0.21137842 0.6032824 ]\n",
      " [0.87926321 0.30505595 0.43672429 0.88223231 0.68532228]\n",
      " [0.43542358 0.70018025 0.37506682 0.38636407 0.09500765]\n",
      " [0.00883705 0.18142126 0.48776984 0.94530154 0.41917356]\n",
      " [0.83133496 0.43895212 0.41465272 0.40631041 0.19814806]\n",
      " [0.6823422  0.98481171 0.88313912 0.98699643 0.4309978 ]\n",
      " [0.33143353 0.31205795 0.14724157 0.5414578  0.22046356]\n",
      " [0.05426523 0.81555812 0.30964627 0.04125401 0.38766418]\n",
      " [0.07202565 0.2328871  0.87673408 0.46459054 0.783387  ]\n",
      " [0.74897475 0.58538747 0.1109766  0.62590717 0.08822681]]\n",
      "A shape: (10, 5)\n",
      "A columns:\n",
      "[0.22771961 0.87926321 0.43542358 0.00883705 0.83133496 0.6823422\n",
      " 0.33143353 0.05426523 0.07202565 0.74897475]\n",
      "[0.93165535 0.30505595 0.70018025 0.18142126 0.43895212 0.98481171\n",
      " 0.31205795 0.81555812 0.2328871  0.58538747]\n",
      "[0.19227766 0.43672429 0.37506682 0.48776984 0.41465272 0.88313912\n",
      " 0.14724157 0.30964627 0.87673408 0.1109766 ]\n",
      "[0.21137842 0.88223231 0.38636407 0.94530154 0.40631041 0.98699643\n",
      " 0.5414578  0.04125401 0.46459054 0.62590717]\n",
      "[0.6032824  0.68532228 0.09500765 0.41917356 0.19814806 0.4309978\n",
      " 0.22046356 0.38766418 0.783387   0.08822681]\n",
      "A rows:\n",
      "[0.22771961 0.93165535 0.19227766 0.21137842 0.6032824 ]\n",
      "[0.87926321 0.30505595 0.43672429 0.88223231 0.68532228]\n",
      "[0.43542358 0.70018025 0.37506682 0.38636407 0.09500765]\n",
      "[0.00883705 0.18142126 0.48776984 0.94530154 0.41917356]\n",
      "[0.83133496 0.43895212 0.41465272 0.40631041 0.19814806]\n",
      "[0.6823422  0.98481171 0.88313912 0.98699643 0.4309978 ]\n",
      "[0.33143353 0.31205795 0.14724157 0.5414578  0.22046356]\n",
      "[0.05426523 0.81555812 0.30964627 0.04125401 0.38766418]\n",
      "[0.07202565 0.2328871  0.87673408 0.46459054 0.783387  ]\n",
      "[0.74897475 0.58538747 0.1109766  0.62590717 0.08822681]\n"
     ]
    }
   ],
   "source": [
    "# Make a random matrix\n",
    "A = np.random.rand(10,5)\n",
    "\n",
    "print \"A:\"\n",
    "print A\n",
    "print \"A shape:\", A.shape\n",
    "\n",
    "print \"A columns:\"\n",
    "for i in range(A.shape[1]):\n",
    "    print A[:,i]\n",
    "\n",
    "print \"A rows:\"\n",
    "for j in range(A.shape[0]):\n",
    "    print A[j,:]\n",
    "    # Note you can also use A[j]"
   ]
  },
  {
   "cell_type": "markdown",
   "metadata": {},
   "source": [
    "*Exercise 4:* Add a new random feature to your matrix library and demonstrate the same numpy functionality as above. For a bit of extra credit, implement slicing in your override of `__getitem__` method in your matrix class."
   ]
  },
  {
   "cell_type": "code",
   "execution_count": 9,
   "metadata": {},
   "outputs": [],
   "source": [
    "# Solution here\n",
    "A = mt.randmat(2,2)\n",
    "B = mt.randmat(2,2)"
   ]
  },
  {
   "cell_type": "markdown",
   "metadata": {},
   "source": [
    "# Matrix Operations\n",
    "\n",
    "* Transpose: $(A^T)_{ij} = A_{ji}$\n",
    "* Sum (elementwise): $C_{ij} = A_{ij} + B_{ij}$\n",
    "* Elementwise product: $C_{ij} = A_{ij} B_{ij}$\n",
    "* Matrix product: $C=A \\cdot B$: $C_{ij} = \\sum_{k} A_{ik} B_{kj}$.\n",
    "   * Note than if size of $A$ is $n \\times m$ then $B$ has to be of size $m \\times k$ and the resulting matrix will be of size $n \\times k$.\n",
    "   * Good way to visualize product:\n",
    "    \\begin{equation*}\n",
    "    AB=\n",
    "\\begin{pmatrix} \n",
    "- & a_1 & -\\\\\n",
    "- & a_2 & -\\\\\n",
    " & \\vdots & \\\\\n",
    "- & a_m & -\\\\\n",
    "\\end{pmatrix} \n",
    "\\begin{pmatrix} \n",
    "| & | &  &|\\\\\n",
    "b_1 & b_2 & \\dots &\\ b_n\\\\\n",
    "| & | &  &|\n",
    "\\end{pmatrix}=\n",
    "\\begin{pmatrix}\n",
    "a^T_1b_1 & a^T_1b_2 & \\dots & a^T_1b_n\\\\\n",
    "a^T_2b_1 & a^T_2b_2 & \\dots & a^T_2b_n\\\\\n",
    "\\vdots & \\vdots & \\ddots & \\vdots \\\\\n",
    "a^T_mb_1 & a^T_mb_2 & \\dots & a^T_mb_n\n",
    "\\end{pmatrix}\n",
    "\\end{equation*}"
   ]
  },
  {
   "cell_type": "code",
   "execution_count": 10,
   "metadata": {},
   "outputs": [
    {
     "name": "stdout",
     "output_type": "stream",
     "text": [
      "A:\n",
      "[[0.55308137 0.97457236 0.76660394 0.19396525]\n",
      " [0.9679352  0.50862162 0.59131416 0.40443804]\n",
      " [0.96083178 0.03683338 0.22396589 0.44817126]\n",
      " [0.94373685 0.84481409 0.73759172 0.40557141]\n",
      " [0.02307653 0.07341047 0.03166965 0.26160569]]\n",
      "A Transpose:\n",
      "[[0.55308137 0.9679352  0.96083178 0.94373685 0.02307653]\n",
      " [0.97457236 0.50862162 0.03683338 0.84481409 0.07341047]\n",
      " [0.76660394 0.59131416 0.22396589 0.73759172 0.03166965]\n",
      " [0.19396525 0.40443804 0.44817126 0.40557141 0.26160569]]\n",
      "B: [[0.60088714 0.89111269 0.46817907 0.74594519]\n",
      " [0.80663587 0.91231263 0.86792339 0.45985823]\n",
      " [0.75446756 0.12089635 0.98352258 0.21976761]\n",
      " [0.83405611 0.79071548 0.03346571 0.25105093]\n",
      " [0.39483176 0.69760997 0.26926739 0.92852885]]\n",
      "A+B:\n",
      "[[1.15396851 1.86568505 1.23478301 0.93991044]\n",
      " [1.77457107 1.42093426 1.45923754 0.86429626]\n",
      " [1.71529935 0.15772973 1.20748847 0.66793887]\n",
      " [1.77779296 1.63552957 0.77105744 0.65662234]\n",
      " [0.41790829 0.77102044 0.30093704 1.19013453]]\n",
      "A*B:\n",
      "[[0.33233948 0.8684538  0.35890792 0.14468744]\n",
      " [0.78077125 0.46402193 0.51321538 0.18598416]\n",
      " [0.72491641 0.00445302 0.22027551 0.09849353]\n",
      " [0.78712949 0.66800758 0.02468403 0.10181908]\n",
      " [0.00911135 0.05121188 0.0085276  0.24290843]]\n",
      "Matrix Multiply: A (dot) B1:\n",
      "[[1.24950784 0.78852838 1.29145847 0.77434165 1.45703217]\n",
      " [1.06217516 0.78138004 0.9012816  0.6150335  1.62090138]\n",
      " [0.60162056 0.51534096 0.34153264 0.28269827 1.25165936]\n",
      " [1.35293566 0.9245005  1.26259968 0.78663195 1.86745641]\n",
      " [0.08469178 0.23737728 0.19891035 0.10124958 0.31315226]]\n"
     ]
    }
   ],
   "source": [
    "A = np.random.rand(5,4) \n",
    "print \"A:\"\n",
    "print A\n",
    "\n",
    "print \"A Transpose:\"\n",
    "print A.transpose()\n",
    "\n",
    "B = np.random.rand(5,4) \n",
    "print \"B:\",\n",
    "print B\n",
    "\n",
    "print \"A+B:\"\n",
    "print A+B\n",
    "\n",
    "print \"A*B:\"\n",
    "print A*B\n",
    "\n",
    "# For Matrix Multiply we need correct size B\n",
    "B1 = np.random.rand(4,5) \n",
    "\n",
    "print \"Matrix Multiply: A (dot) B1:\"\n",
    "print np.matmul(A,B1)"
   ]
  },
  {
   "cell_type": "markdown",
   "metadata": {},
   "source": [
    "*Exercise 5:* Demonstrate basic matrix operations above with your matrix library."
   ]
  },
  {
   "cell_type": "code",
   "execution_count": 11,
   "metadata": {},
   "outputs": [
    {
     "name": "stdout",
     "output_type": "stream",
     "text": [
      "A =[[8, 2], [8, 2]]\n",
      "B =[[5, 4], [8, 9]]\n",
      "The transpose of matrix A is:\n",
      "[[8, 8], [2, 2]]\n",
      "A+B:\n",
      "[[13, 6], [16, 11]]\n",
      "A*B: \n",
      "[[56, 50], [56, 50]]\n"
     ]
    }
   ],
   "source": [
    "# Solution here\n",
    "A = mt.randmat(2,2)\n",
    "B = mt.randmat(2,2)\n",
    "print(\"A ={}\").format(A)\n",
    "print(\"B ={}\").format(B)\n",
    "print(\"The transpose of matrix A is:\")\n",
    "print mt.transpose(A)\n",
    "print(\"A+B:\")\n",
    "print mt.add(A,B)\n",
    "print (\"A*B: \")\n",
    "print mt.matmult(A,B)\n",
    "\n"
   ]
  },
  {
   "cell_type": "markdown",
   "metadata": {},
   "source": [
    "## Vector Products\n",
    "\n",
    "* Dot product: $x\\cdot y = x^T y = \\sum_{i=1}^n x_i y_i$\n",
    "* Other product: \n",
    "\\begin{equation*}\n",
    "\\begin{pmatrix} x_1\\\\x_2\\\\ \\vdots \\\\x_m \\end{pmatrix} \\begin{pmatrix} y_1&y_2& \\dots &y_n\\end{pmatrix} =\n",
    "\\begin{pmatrix}\n",
    "x_1y_1 & x_1y_2 & \\dots & x_1y_n\\\\\n",
    "x_2y_1 & x_2y_2 & \\dots & x_2y_n\\\\\n",
    "\\vdots & \\vdots & \\ddots & \\vdots \\\\\n",
    "x_my_1 & x_my_2 & \\dots & x_my_n\n",
    "\\end{pmatrix}\n",
    "\\end{equation*}\n",
    "\n",
    "In `numpy`:"
   ]
  },
  {
   "cell_type": "code",
   "execution_count": 12,
   "metadata": {},
   "outputs": [
    {
     "name": "stdout",
     "output_type": "stream",
     "text": [
      "x (dot) y:\n",
      "32\n",
      "Other product:\n",
      "[[ 4  5  6]\n",
      " [ 8 10 12]\n",
      " [12 15 18]]\n"
     ]
    }
   ],
   "source": [
    "x=np.array([1,2,3])\n",
    "y=np.array([4,5,6])\n",
    "\n",
    "print \"x (dot) y:\"\n",
    "print np.dot(x,y)\n",
    "\n",
    "print \"Other product:\"\n",
    "print np.outer(x,y)"
   ]
  },
  {
   "cell_type": "markdown",
   "metadata": {},
   "source": [
    "*Exercise 6:* Demonstrate vector product operations above with your matrix library."
   ]
  },
  {
   "cell_type": "code",
   "execution_count": 13,
   "metadata": {},
   "outputs": [
    {
     "name": "stdout",
     "output_type": "stream",
     "text": [
      "x (dot) y:\n",
      "32\n",
      "Other product:\n",
      "[[ 4  5  6]\n",
      " [ 8 10 12]\n",
      " [12 15 18]]\n"
     ]
    }
   ],
   "source": [
    "# Solution here\n",
    "print \"x (dot) y:\"\n",
    "print mt.dot(x,y)\n",
    "print \"Other product:\"\n",
    "print np.outer(x,y)"
   ]
  },
  {
   "cell_type": "markdown",
   "metadata": {},
   "source": [
    "## Norms\n",
    "* $l=1$ Norm: $\\parallel x \\parallel_1 = \\sum_{i=1}^{n}|x_i|$\n",
    "* $l=2$ Norm: $\\parallel x \\parallel_2 = \\sqrt{\\sum_{i=1}^{n}x_i^2}$\n",
    "* $l=p$ Norm: $\\parallel x \\parallel_p = \\left(\\sum_{i=1}^{n}x_i^p\\right)^\\frac{1}{p}$\n",
    "* $l=\\infty$ Norm: $\\parallel x \\parallel_\\infty = \\max_i |x_i|$\n",
    "* Law of cosines: $x \\cdot y = $\\parallel x \\parallel_2 $\\parallel y \\parallel_2 \\cos{\\theta}$\n",
    "\n",
    "In `numpy`:"
   ]
  },
  {
   "cell_type": "code",
   "execution_count": 14,
   "metadata": {},
   "outputs": [
    {
     "name": "stdout",
     "output_type": "stream",
     "text": [
      "0 3.0\n",
      "1 6.0\n",
      "2 3.7416573867739413\n",
      "3 3.3019272488946263\n",
      "4 3.1463462836457885\n",
      "5 3.077384885394063\n",
      "6 3.043010262919305\n",
      "7 3.0246626009458444\n",
      "8 3.014443335890572\n",
      "9 3.0085886861624296\n"
     ]
    }
   ],
   "source": [
    "x=[1,2,3]\n",
    "for i in range(10):\n",
    "    print i,np.linalg.norm(x,i)"
   ]
  },
  {
   "cell_type": "markdown",
   "metadata": {},
   "source": [
    "*Exercise 7:* Test the norm implementationth your matrix library."
   ]
  },
  {
   "cell_type": "code",
   "execution_count": 16,
   "metadata": {},
   "outputs": [
    {
     "name": "stdout",
     "output_type": "stream",
     "text": [
      "0 3\n",
      "1 6\n",
      "2 3.74165738677\n",
      "3 3.30192724889\n",
      "4 3.14634628365\n",
      "5 3.07738488539\n",
      "6 3.04301026292\n",
      "7 3.02466260095\n",
      "8 3.01444333589\n",
      "9 3.00858868616\n"
     ]
    }
   ],
   "source": [
    "# Solution here\n",
    "for i in range(10):\n",
    "    print i,mt.norm(x,i)"
   ]
  }
 ],
 "metadata": {
  "kernelspec": {
   "display_name": "Python 2",
   "language": "python",
   "name": "python2"
  },
  "language_info": {
   "codemirror_mode": {
    "name": "ipython",
    "version": 2
   },
   "file_extension": ".py",
   "mimetype": "text/x-python",
   "name": "python",
   "nbconvert_exporter": "python",
   "pygments_lexer": "ipython2",
   "version": "2.7.15"
  }
 },
 "nbformat": 4,
 "nbformat_minor": 2
}
