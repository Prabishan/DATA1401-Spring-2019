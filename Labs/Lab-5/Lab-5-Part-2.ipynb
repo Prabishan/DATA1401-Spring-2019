{
 "cells": [
  {
   "cell_type": "markdown",
   "metadata": {},
   "source": [
    "# Lab 5 - Part 2\n",
    "\n",
    "In the first part of this lab, you were tasked with implementing a Matrix class based on the matrix operations you implemented in Exam 1.\n",
    "\n",
    "In this part of the lab you will test your Matrix implementation by comparing to the `numpy` which is the most commonly used python library for matrices and tensors (high dimensional matrices).\n",
    "\n",
    "## Matrix Library\n",
    "\n",
    "*Exercise 1:* You implemented the first part of this lab in a python notebook. Use the new button from the Jupyter file browser page to create and edit a new text file named \"matrix.py\" in the \"Lab-5\" directory where this current notebook is running. Copy and paste your matrix implementation into this file. You may use a different text editor if you like. Make sure you add, commit, and push your `matrix.py` file when you submit your solutions to this lab.\n",
    "\n",
    "*Exercise 2:* Use python `import` to import your library into this notebook. Note that if there is a problem with your \"matrix.py\" file, you will get an error during the import. You can correct this error by editting the file and running the import cell again. But if the import succeeds, using import will not re-read the file. So if you edit the file after a successful import, you will need to either restart this notebook or use the python `reload` built-in to reload your matrix module.\n"
   ]
  },
  {
   "cell_type": "code",
   "execution_count": 1,
   "metadata": {},
   "outputs": [],
   "source": [
    "from maatrix import matrix"
   ]
  },
  {
   "cell_type": "markdown",
   "metadata": {},
   "source": [
    "*Exercise 3:* Demonstrate the basic properties of matrices with your matrix class by creating two 2 by 2 example matrices using your Matrix class and illustrating the following:\n",
    "\n",
    "$$\n",
    "(AB)C=A(BC)\n",
    "$$\n",
    "$$\n",
    "A(B+C)=AB+AC\n",
    "$$\n",
    "$$\n",
    "AB\\neq BA\n",
    "$$\n",
    "$$\n",
    "AI=A\n",
    "$$"
   ]
  },
  {
   "cell_type": "code",
   "execution_count": 2,
   "metadata": {},
   "outputs": [
    {
     "name": "stdout",
     "output_type": "stream",
     "text": [
      "[[24, 24], [24, 24]]\n",
      "[[24, 24], [24, 24]]\n"
     ]
    }
   ],
   "source": [
    "#(AB)C = A(BC)\n",
    "mt = matrix()\n",
    "A = mt.constant(2,2,1)\n",
    "B = mt.constant(2,2,2)\n",
    "C = mt.constant(2,2,3)\n",
    "AB = mt.matmult(A,B)\n",
    "AB_C = mt.matmult(AB,C) # (AB)C\n",
    "BC = mt.matmult(B,C)\n",
    "A_BC = mt.matmult(A,BC) #A(BC)\n",
    "print AB_C\n",
    "print A_BC"
   ]
  },
  {
   "cell_type": "code",
   "execution_count": 3,
   "metadata": {},
   "outputs": [
    {
     "name": "stdout",
     "output_type": "stream",
     "text": [
      "[[10, 10], [10, 10]]\n",
      "[[10, 10], [10, 10]]\n"
     ]
    }
   ],
   "source": [
    "#A(B+C) = AB+AC\n",
    "\n",
    "B_plus_C = mt.add(B,C)\n",
    "ABC = mt.matmult(A,B_plus_C)\n",
    "AC = mt.matmult(A,C)\n",
    "AB_plus_AC = mt.add(AB,AC)\n",
    "print ABC\n",
    "print AB_plus_AC"
   ]
  },
  {
   "cell_type": "code",
   "execution_count": 4,
   "metadata": {},
   "outputs": [
    {
     "name": "stdout",
     "output_type": "stream",
     "text": [
      "[[38, 50], [23, 37]]\n",
      "[[53, 35], [26, 22]]\n"
     ]
    }
   ],
   "source": [
    "#AB!=BA\n",
    "A = mt.randmat(2,2)\n",
    "B = mt.randmat(2,2)\n",
    "AB = mt.matmult(A,B)\n",
    "BA = mt.matmult(B,A)\n",
    "print AB\n",
    "print BA"
   ]
  },
  {
   "cell_type": "code",
   "execution_count": 5,
   "metadata": {},
   "outputs": [
    {
     "name": "stdout",
     "output_type": "stream",
     "text": [
      "[[6, 10], [7, 1]]\n",
      "[[6, 10], [7, 1]]\n"
     ]
    }
   ],
   "source": [
    "#AI=A\n",
    "I = mt.eye(2)\n",
    "AI = mt.matmult(A,I)\n",
    "print A\n",
    "print AI"
   ]
  },
  {
   "cell_type": "markdown",
   "metadata": {},
   "source": [
    "## Matrices with `numpy`\n",
    "`numpy` is very well [documented](https://docs.scipy.org/doc/numpy/reference/index.html). You can find a list of linear algebra operations in `numpy` [here](https://docs.scipy.org/doc/numpy/reference/routines.linalg.html). A more general and detailed description of linear algebra with `numpy` and `scipy` (which implements same routines) can be found [here](https://docs.scipy.org/doc/scipy/reference/tutorial/linalg.html).\n"
   ]
  },
  {
   "cell_type": "code",
   "execution_count": 6,
   "metadata": {},
   "outputs": [
    {
     "name": "stdout",
     "output_type": "stream",
     "text": [
      "A:\n",
      "[[ 4.  5.]\n",
      " [-2. -1.]]\n",
      "y\n",
      "[12.  2.]\n",
      "Inverse of A:\n",
      "[[-0.16666667 -0.83333333]\n",
      " [ 0.33333333  0.66666667]]\n",
      "A * A_inverse:\n",
      "[[ 1.00000000e+00  1.11022302e-16]\n",
      " [-5.55111512e-17  1.00000000e+00]]\n",
      "Identity:\n",
      "[[1. 0.]\n",
      " [0. 1.]]\n",
      "Solution: x=\n",
      "[-3.66666667  5.33333333]\n",
      "Check solution: Ax=\n",
      "[12.  2.]\n",
      "[ True False]\n"
     ]
    }
   ],
   "source": [
    "import numpy as np\n",
    "\n",
    "A = np.array([[4.,5.],[-2.,-1.]])\n",
    "y = np.array([12.,2.])\n",
    "\n",
    "print \"A:\"\n",
    "print A\n",
    "print \"y\"\n",
    "print y\n",
    "\n",
    "A_inv=np.linalg.inv(A)\n",
    "\n",
    "print \"Inverse of A:\"\n",
    "print A_inv\n",
    "\n",
    "print \"A * A_inverse:\"\n",
    "print np.matmul(A,A_inv)\n",
    "\n",
    "print \"Identity:\"\n",
    "print np.eye(*A.shape)\n",
    "\n",
    "x= np.matmul(A_inv,y)\n",
    "\n",
    "print \"Solution: x=\"\n",
    "print x\n",
    "\n",
    "print \"Check solution: Ax=\"\n",
    "print np.matmul(A,x)\n",
    "print y==np.matmul(A,x)"
   ]
  },
  {
   "cell_type": "markdown",
   "metadata": {},
   "source": [
    "*Exercise 3:* Following the numpy example above, demonstrate that your matrix class reproduces the functionality of numpy. If you were unable to implement the inverse method you may use numpy's inverse. Note that the syntax for your matrix module may be different than numpy. "
   ]
  },
  {
   "cell_type": "code",
   "execution_count": 7,
   "metadata": {},
   "outputs": [
    {
     "name": "stdout",
     "output_type": "stream",
     "text": [
      "[[0, 9, 3], [6, 4, 3], [2, 4, 6]]\n",
      "Inverse of A is: \n",
      "[[-0.05405405  0.18918919 -0.06756757]\n",
      " [ 0.13513514  0.02702703 -0.08108108]\n",
      " [-0.07207207 -0.08108108  0.24324324]]\n"
     ]
    }
   ],
   "source": [
    "# Solution here\n",
    "A = mt.randmat(3,3)\n",
    "print A\n",
    "print(\"Inverse of A is: \")\n",
    "print np.linalg.inv(A)"
   ]
  },
  {
   "cell_type": "markdown",
   "metadata": {},
   "source": [
    "## Matrix Elements\n",
    "Consider an arbitrary matrix $A$:\n",
    "\n",
    "\\begin{equation*}\n",
    "A_{m,n} = \n",
    " \\begin{pmatrix}\n",
    "  a_{11} & a_{12} & \\cdots & a_{1n} \\\\\n",
    "  a_{21} & a_{22} & \\cdots & a_{2n} \\\\\n",
    "  \\vdots  & \\vdots  & \\ddots & \\vdots\\\\\n",
    "  a_{m1} & a_{m2} & \\cdots & a_{mn} \n",
    "\\end{pmatrix}\n",
    "\\end{equation*}\n",
    "\n",
    "we define the columns as $a_j=A_{:,j}$:\n",
    "\n",
    "\\begin{pmatrix} \n",
    "| & | &  &|\\\\\n",
    "a_1 & a_2 & \\dots &\\ a_n\\\\\n",
    "| & | &  &|\n",
    "\\end{pmatrix}\n",
    "\n",
    "and rows $a^T_i = A_{i,:}$:\n",
    "\n",
    "\\begin{pmatrix} \n",
    "- & a^T_1 & -\\\\\n",
    "- & a^T_2 & -\\\\\n",
    " & \\vdots & \\\\\n",
    "- & a^T_3 & -\\\\\n",
    "\\end{pmatrix}\n",
    "\n",
    "or in `numpy`:\n"
   ]
  },
  {
   "cell_type": "code",
   "execution_count": 17,
   "metadata": {},
   "outputs": [
    {
     "name": "stdout",
     "output_type": "stream",
     "text": [
      "A:\n",
      "[[0.59884917 0.74213378 0.95167639 0.61165958 0.44911403]\n",
      " [0.81218657 0.91842114 0.13718919 0.60793221 0.51490173]\n",
      " [0.226139   0.88505601 0.36637054 0.18832207 0.97070691]\n",
      " [0.52013951 0.79046297 0.42021858 0.6167672  0.65426938]\n",
      " [0.83399711 0.90395888 0.842957   0.66169855 0.16017747]\n",
      " [0.48711396 0.69592414 0.65707281 0.84194516 0.3663864 ]\n",
      " [0.74327224 0.0601928  0.89296234 0.846205   0.28832633]\n",
      " [0.58154769 0.76826803 0.79010461 0.01938763 0.59629456]\n",
      " [0.05007772 0.21413496 0.31202909 0.62011585 0.50758017]\n",
      " [0.6858246  0.45115957 0.91179359 0.33580449 0.83819358]]\n",
      "A shape: (10, 5)\n",
      "A columns:\n",
      "[0.59884917 0.81218657 0.226139   0.52013951 0.83399711 0.48711396\n",
      " 0.74327224 0.58154769 0.05007772 0.6858246 ]\n",
      "[0.74213378 0.91842114 0.88505601 0.79046297 0.90395888 0.69592414\n",
      " 0.0601928  0.76826803 0.21413496 0.45115957]\n",
      "[0.95167639 0.13718919 0.36637054 0.42021858 0.842957   0.65707281\n",
      " 0.89296234 0.79010461 0.31202909 0.91179359]\n",
      "[0.61165958 0.60793221 0.18832207 0.6167672  0.66169855 0.84194516\n",
      " 0.846205   0.01938763 0.62011585 0.33580449]\n",
      "[0.44911403 0.51490173 0.97070691 0.65426938 0.16017747 0.3663864\n",
      " 0.28832633 0.59629456 0.50758017 0.83819358]\n",
      "A rows:\n",
      "[0.59884917 0.74213378 0.95167639 0.61165958 0.44911403]\n",
      "[0.81218657 0.91842114 0.13718919 0.60793221 0.51490173]\n",
      "[0.226139   0.88505601 0.36637054 0.18832207 0.97070691]\n",
      "[0.52013951 0.79046297 0.42021858 0.6167672  0.65426938]\n",
      "[0.83399711 0.90395888 0.842957   0.66169855 0.16017747]\n",
      "[0.48711396 0.69592414 0.65707281 0.84194516 0.3663864 ]\n",
      "[0.74327224 0.0601928  0.89296234 0.846205   0.28832633]\n",
      "[0.58154769 0.76826803 0.79010461 0.01938763 0.59629456]\n",
      "[0.05007772 0.21413496 0.31202909 0.62011585 0.50758017]\n",
      "[0.6858246  0.45115957 0.91179359 0.33580449 0.83819358]\n"
     ]
    }
   ],
   "source": [
    "# Make a random matrix\n",
    "A = np.random.rand(10,5)\n",
    "\n",
    "print \"A:\"\n",
    "print A\n",
    "print \"A shape:\", A.shape\n",
    "\n",
    "print \"A columns:\"\n",
    "for i in range(A.shape[1]):\n",
    "    print A[:,i]\n",
    "\n",
    "print \"A rows:\"\n",
    "for j in range(A.shape[0]):\n",
    "    print A[j,:]\n",
    "    # Note you can also use A[j]"
   ]
  },
  {
   "cell_type": "markdown",
   "metadata": {},
   "source": [
    "*Exercise 4:* Add a new random feature to your matrix library and demonstrate the same numpy functionality as above. For a bit of extra credit, implement slicing in your override of `__getitem__` method in your matrix class."
   ]
  },
  {
   "cell_type": "code",
   "execution_count": 18,
   "metadata": {},
   "outputs": [
    {
     "name": "stdout",
     "output_type": "stream",
     "text": [
      "(10, 5)\n"
     ]
    }
   ],
   "source": [
    "# Solution here\n",
    "print mt.shape(A)"
   ]
  },
  {
   "cell_type": "markdown",
   "metadata": {},
   "source": [
    "# Matrix Operations\n",
    "\n",
    "* Transpose: $(A^T)_{ij} = A_{ji}$\n",
    "* Sum (elementwise): $C_{ij} = A_{ij} + B_{ij}$\n",
    "* Elementwise product: $C_{ij} = A_{ij} B_{ij}$\n",
    "* Matrix product: $C=A \\cdot B$: $C_{ij} = \\sum_{k} A_{ik} B_{kj}$.\n",
    "   * Note than if size of $A$ is $n \\times m$ then $B$ has to be of size $m \\times k$ and the resulting matrix will be of size $n \\times k$.\n",
    "   * Good way to visualize product:\n",
    "    \\begin{equation*}\n",
    "    AB=\n",
    "\\begin{pmatrix} \n",
    "- & a_1 & -\\\\\n",
    "- & a_2 & -\\\\\n",
    " & \\vdots & \\\\\n",
    "- & a_m & -\\\\\n",
    "\\end{pmatrix} \n",
    "\\begin{pmatrix} \n",
    "| & | &  &|\\\\\n",
    "b_1 & b_2 & \\dots &\\ b_n\\\\\n",
    "| & | &  &|\n",
    "\\end{pmatrix}=\n",
    "\\begin{pmatrix}\n",
    "a^T_1b_1 & a^T_1b_2 & \\dots & a^T_1b_n\\\\\n",
    "a^T_2b_1 & a^T_2b_2 & \\dots & a^T_2b_n\\\\\n",
    "\\vdots & \\vdots & \\ddots & \\vdots \\\\\n",
    "a^T_mb_1 & a^T_mb_2 & \\dots & a^T_mb_n\n",
    "\\end{pmatrix}\n",
    "\\end{equation*}"
   ]
  },
  {
   "cell_type": "code",
   "execution_count": 10,
   "metadata": {},
   "outputs": [
    {
     "name": "stdout",
     "output_type": "stream",
     "text": [
      "A:\n",
      "[[0.52123434 0.97206157 0.80399919 0.68155553]\n",
      " [0.82558398 0.12141605 0.91015474 0.06889175]\n",
      " [0.4712866  0.10468038 0.54204636 0.11305924]\n",
      " [0.67260213 0.44393807 0.74801968 0.39412207]\n",
      " [0.99382274 0.60996719 0.64648301 0.68443701]]\n",
      "A Transpose:\n",
      "[[0.52123434 0.82558398 0.4712866  0.67260213 0.99382274]\n",
      " [0.97206157 0.12141605 0.10468038 0.44393807 0.60996719]\n",
      " [0.80399919 0.91015474 0.54204636 0.74801968 0.64648301]\n",
      " [0.68155553 0.06889175 0.11305924 0.39412207 0.68443701]]\n",
      "B: [[0.96731448 0.61749077 0.09104112 0.01545014]\n",
      " [0.91627969 0.40893742 0.92877956 0.44404117]\n",
      " [0.88148941 0.28894287 0.33456975 0.28976653]\n",
      " [0.59388846 0.58608443 0.38741496 0.85179619]\n",
      " [0.60160631 0.38671643 0.33907536 0.37145259]]\n",
      "A+B:\n",
      "[[1.48854882 1.58955234 0.89504032 0.69700567]\n",
      " [1.74186367 0.53035347 1.83893429 0.51293293]\n",
      " [1.35277601 0.39362325 0.8766161  0.40282577]\n",
      " [1.26649059 1.0300225  1.13543464 1.24591825]\n",
      " [1.59542905 0.99668362 0.98555837 1.05588961]]\n",
      "A*B:\n",
      "[[0.50419753 0.60023904 0.07319699 0.01053013]\n",
      " [0.75646583 0.04965157 0.84533311 0.03059078]\n",
      " [0.41543415 0.03024665 0.18135231 0.03276078]\n",
      " [0.39945064 0.26018519 0.28979402 0.33571167]\n",
      " [0.59789003 0.23588433 0.21920646 0.2542359 ]]\n",
      "Matrix Multiply: A (dot) B1:\n",
      "[[1.3412512  1.46170381 1.98642277 1.71395158 1.41372494]\n",
      " [1.09481541 1.25536506 1.1007778  0.72061138 0.9116518 ]\n",
      " [0.69740293 0.76837997 0.7226609  0.50466533 0.60190583]\n",
      " [1.16666929 1.28128354 1.44959625 1.12646155 1.12160458]\n",
      " [1.52935673 1.71551406 2.0741078  1.59245    1.58656242]]\n"
     ]
    }
   ],
   "source": [
    "A = np.random.rand(5,4) \n",
    "print \"A:\"\n",
    "print A\n",
    "\n",
    "print \"A Transpose:\"\n",
    "print A.transpose()\n",
    "\n",
    "B = np.random.rand(5,4) \n",
    "print \"B:\",\n",
    "print B\n",
    "\n",
    "print \"A+B:\"\n",
    "print A+B\n",
    "\n",
    "print \"A*B:\"\n",
    "print A*B\n",
    "\n",
    "# For Matrix Multiply we need correct size B\n",
    "B1 = np.random.rand(4,5) \n",
    "\n",
    "print \"Matrix Multiply: A (dot) B1:\"\n",
    "print np.matmul(A,B1)"
   ]
  },
  {
   "cell_type": "markdown",
   "metadata": {},
   "source": [
    "*Exercise 5:* Demonstrate basic matrix operations above with your matrix library."
   ]
  },
  {
   "cell_type": "code",
   "execution_count": 11,
   "metadata": {},
   "outputs": [
    {
     "name": "stdout",
     "output_type": "stream",
     "text": [
      "A =[[7, 2], [2, 5]]\n",
      "B =[[0, 0], [6, 5]]\n",
      "The transpose of matrix A is:\n",
      "[[7, 2], [2, 5]]\n",
      "A+B:\n",
      "[[7, 2], [8, 10]]\n",
      "A*B: \n",
      "[[12, 10], [30, 25]]\n"
     ]
    }
   ],
   "source": [
    "# Solution here\n",
    "A = mt.randmat(2,2)\n",
    "B = mt.randmat(2,2)\n",
    "print(\"A ={}\").format(A)\n",
    "print(\"B ={}\").format(B)\n",
    "print(\"The transpose of matrix A is:\")\n",
    "print mt.transpose(A)\n",
    "print(\"A+B:\")\n",
    "print mt.add(A,B)\n",
    "print (\"A*B: \")\n",
    "print mt.matmult(A,B)\n",
    "\n"
   ]
  },
  {
   "cell_type": "markdown",
   "metadata": {},
   "source": [
    "## Vector Products\n",
    "\n",
    "* Dot product: $x\\cdot y = x^T y = \\sum_{i=1}^n x_i y_i$\n",
    "* Other product: \n",
    "\\begin{equation*}\n",
    "\\begin{pmatrix} x_1\\\\x_2\\\\ \\vdots \\\\x_m \\end{pmatrix} \\begin{pmatrix} y_1&y_2& \\dots &y_n\\end{pmatrix} =\n",
    "\\begin{pmatrix}\n",
    "x_1y_1 & x_1y_2 & \\dots & x_1y_n\\\\\n",
    "x_2y_1 & x_2y_2 & \\dots & x_2y_n\\\\\n",
    "\\vdots & \\vdots & \\ddots & \\vdots \\\\\n",
    "x_my_1 & x_my_2 & \\dots & x_my_n\n",
    "\\end{pmatrix}\n",
    "\\end{equation*}\n",
    "\n",
    "In `numpy`:"
   ]
  },
  {
   "cell_type": "code",
   "execution_count": 12,
   "metadata": {},
   "outputs": [
    {
     "name": "stdout",
     "output_type": "stream",
     "text": [
      "x (dot) y:\n",
      "32\n",
      "Other product:\n",
      "[[ 4  5  6]\n",
      " [ 8 10 12]\n",
      " [12 15 18]]\n"
     ]
    }
   ],
   "source": [
    "x=np.array([1,2,3])\n",
    "y=np.array([4,5,6])\n",
    "\n",
    "print \"x (dot) y:\"\n",
    "print np.dot(x,y)\n",
    "\n",
    "print \"Other product:\"\n",
    "print np.outer(x,y)"
   ]
  },
  {
   "cell_type": "markdown",
   "metadata": {},
   "source": [
    "*Exercise 6:* Demonstrate vector product operations above with your matrix library."
   ]
  },
  {
   "cell_type": "code",
   "execution_count": 13,
   "metadata": {},
   "outputs": [
    {
     "name": "stdout",
     "output_type": "stream",
     "text": [
      "x (dot) y:\n",
      "32\n",
      "Other product:\n",
      "[[ 4  5  6]\n",
      " [ 8 10 12]\n",
      " [12 15 18]]\n"
     ]
    }
   ],
   "source": [
    "# Solution here\n",
    "print \"x (dot) y:\"\n",
    "print mt.dot(x,y)\n",
    "print \"Other product:\"\n",
    "print np.outer(x,y)"
   ]
  },
  {
   "cell_type": "markdown",
   "metadata": {},
   "source": [
    "## Norms\n",
    "* $l=1$ Norm: $\\parallel x \\parallel_1 = \\sum_{i=1}^{n}|x_i|$\n",
    "* $l=2$ Norm: $\\parallel x \\parallel_2 = \\sqrt{\\sum_{i=1}^{n}x_i^2}$\n",
    "* $l=p$ Norm: $\\parallel x \\parallel_p = \\left(\\sum_{i=1}^{n}x_i^p\\right)^\\frac{1}{p}$\n",
    "* $l=\\infty$ Norm: $\\parallel x \\parallel_\\infty = \\max_i |x_i|$\n",
    "* Law of cosines: $x \\cdot y = $\\parallel x \\parallel_2 $\\parallel y \\parallel_2 \\cos{\\theta}$\n",
    "\n",
    "In `numpy`:"
   ]
  },
  {
   "cell_type": "code",
   "execution_count": 14,
   "metadata": {},
   "outputs": [
    {
     "name": "stdout",
     "output_type": "stream",
     "text": [
      "0 3.0\n",
      "1 6.0\n",
      "2 3.7416573867739413\n",
      "3 3.3019272488946263\n",
      "4 3.1463462836457885\n",
      "5 3.077384885394063\n",
      "6 3.043010262919305\n",
      "7 3.0246626009458444\n",
      "8 3.014443335890572\n",
      "9 3.0085886861624296\n"
     ]
    }
   ],
   "source": [
    "x=[1,2,3]\n",
    "for i in range(10):\n",
    "    print i,np.linalg.norm(x,i)"
   ]
  },
  {
   "cell_type": "markdown",
   "metadata": {},
   "source": [
    "*Exercise 7:* Test the norm implementationth your matrix library."
   ]
  },
  {
   "cell_type": "code",
   "execution_count": 15,
   "metadata": {},
   "outputs": [
    {
     "name": "stdout",
     "output_type": "stream",
     "text": [
      "0 3\n",
      "1 6\n",
      "2 3.74165738677\n",
      "3 3.30192724889\n",
      "4 3.14634628365\n",
      "5 3.07738488539\n",
      "6 3.04301026292\n",
      "7 3.02466260095\n",
      "8 3.01444333589\n",
      "9 3.00858868616\n"
     ]
    }
   ],
   "source": [
    "# Solution here\n",
    "for i in range(10):\n",
    "    print i,mt.norm(x,i)"
   ]
  }
 ],
 "metadata": {
  "kernelspec": {
   "display_name": "Python 2",
   "language": "python",
   "name": "python2"
  },
  "language_info": {
   "codemirror_mode": {
    "name": "ipython",
    "version": 2
   },
   "file_extension": ".py",
   "mimetype": "text/x-python",
   "name": "python",
   "nbconvert_exporter": "python",
   "pygments_lexer": "ipython2",
   "version": "2.7.15"
  }
 },
 "nbformat": 4,
 "nbformat_minor": 2
}
