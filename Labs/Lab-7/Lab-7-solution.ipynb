{
 "cells": [
  {
   "cell_type": "code",
   "execution_count": 8,
   "metadata": {},
   "outputs": [],
   "source": [
    "import numpy as np\n",
    "import matplotlib.pyplot as plt\n",
    "import math"
   ]
  },
  {
   "cell_type": "code",
   "execution_count": 2,
   "metadata": {},
   "outputs": [],
   "source": [
    "#1. Solution\n",
    "def hatFunc(x):\n",
    "    y = x.copy()\n",
    "    y[x<0]=0\n",
    "    index = np.logical_and(0<=x,x<1)\n",
    "    y[index] = x[index]\n",
    "    index = np.logical_and(1<=x,x<2)\n",
    "    y[index] = 2- x[index]\n",
    "    y[x>=2] = 0\n",
    "    return y"
   ]
  },
  {
   "cell_type": "code",
   "execution_count": 3,
   "metadata": {},
   "outputs": [
    {
     "data": {
      "text/plain": [
       "array([0.1, 0.1, 0. , 0. ])"
      ]
     },
     "execution_count": 3,
     "metadata": {},
     "output_type": "execute_result"
    }
   ],
   "source": [
    "x = np.array([0.1,1.9,-1,-5])\n",
    "hatFunc(x)"
   ]
  },
  {
   "cell_type": "code",
   "execution_count": 4,
   "metadata": {},
   "outputs": [],
   "source": [
    "#2\n",
    "def f(t,v):\n",
    "    return v*t - 0.5*9.8*t*t\n",
    "    \n",
    "def P(m,y):\n",
    "    return m*9.8*y\n",
    "def velocity(v,t):\n",
    "    return v-9.8*t\n",
    "def K(m,v):\n",
    "    return 0.5*m*v*v\n"
   ]
  },
  {
   "cell_type": "code",
   "execution_count": 6,
   "metadata": {},
   "outputs": [
    {
     "name": "stdout",
     "output_type": "stream",
     "text": [
      "Enter mass: 5\n",
      "Enter initial velocity: 10\n",
      "E = P + K = [250. 250. 250. 250. 250. 250. 250. 250. 250. 250.]\n"
     ]
    },
    {
     "data": {
      "image/png": "[encoded data removed]",
      "text/plain": [
       "<Figure size 432x288 with 1 Axes>"
      ]
     },
     "metadata": {
      "needs_background": "light"
     },
     "output_type": "display_data"
    }
   ],
   "source": [
    "mass = input(\"Enter mass: \")\n",
    "v = input(\"Enter initial velocity: \")\n",
    "t = np.linspace(0,2*v/9.8,10)   # t E [0,2Vo/g]\n",
    "y = np.zeros(len(t))          \n",
    "for i in range(len(t)):\n",
    "    y[i] = f(t[i],v)            # calculates y(t)\n",
    "p_t = np.zeros(len(y))\n",
    "for i in range(len(y)):\n",
    "    p_t[i] = P(mass,y[i])       # calculates P(t)\n",
    "v_t = np.zeros(len(t))\n",
    "for i in range(len(t)):\n",
    "    v_t[i] = velocity(v,t[i])   # calculates v(t)\n",
    "k_t = np.zeros(len(v_t))\n",
    "for i in range(len(v_t)):\n",
    "    k_t[i] = K(mass,v_t[i])     # calculates K(t)\n",
    "E = p_t + k_t\n",
    "print(\"E = P + K = {}\".format(E))\n",
    "plt.plot(p_t,k_t)\n",
    "plt.xlabel('P(t)')\n",
    "plt.ylabel('K(t)')\n",
    "plt.title('Conservation of Energy')\n",
    "plt.show()"
   ]
  },
  {
   "cell_type": "code",
   "execution_count": 35,
   "metadata": {},
   "outputs": [],
   "source": [
    "#3\n",
    "def func(h,a,n):\n",
    "    f_x = np.zeros(n)\n",
    "    for i in range(n-1):\n",
    "        f_x[i] = a +i*h +0.5*h\n",
    "    return f_x\n",
    "def midpoint(f,a,b,n):\n",
    "    sum_f = np.sum(f)\n",
    "    return h*sum_f\n",
    "def cos(x):\n",
    "    return math.cos(x)"
   ]
  },
  {
   "cell_type": "code",
   "execution_count": 41,
   "metadata": {},
   "outputs": [
    {
     "name": "stdout",
     "output_type": "stream",
     "text": [
      "a: 0\n",
      "b: 3.6\n",
      "number of division(n): 10\n",
      "[0.18 0.54 0.9  1.26 1.62 1.98 2.34 2.7  3.06 0.  ]\n",
      "[ 0.98384369  0.85770868  0.62160997  0.30581691 -0.04918382 -0.39787887\n",
      " -0.69556333 -0.90407214 -0.99667317  1.        ]\n"
     ]
    },
    {
     "data": {
      "text/plain": [
       "0.2612188515242892"
      ]
     },
     "execution_count": 41,
     "metadata": {},
     "output_type": "execute_result"
    }
   ],
   "source": [
    "a = input(\"a: \")\n",
    "b = input(\"b: \")\n",
    "n = input(\"number of division(n): \")\n",
    "h = (b-a)/n\n",
    "f = func(h,a,n)\n",
    "print f\n",
    "cos_x = np.zeros(len(f))\n",
    "for i in range(len(cos_x)):\n",
    "    cos_x[i] = cos(f[i])\n",
    "print cos_x\n",
    "midpoint(cos_x,a,b,n)"
   ]
  },
  {
   "cell_type": "code",
   "execution_count": null,
   "metadata": {},
   "outputs": [],
   "source": []
  }
 ],
 "metadata": {
  "kernelspec": {
   "display_name": "Python 2",
   "language": "python",
   "name": "python2"
  },
  "language_info": {
   "codemirror_mode": {
    "name": "ipython",
    "version": 2
   },
   "file_extension": ".py",
   "mimetype": "text/x-python",
   "name": "python",
   "nbconvert_exporter": "python",
   "pygments_lexer": "ipython2",
   "version": "2.7.15"
  }
 },
 "nbformat": 4,
 "nbformat_minor": 2
}
