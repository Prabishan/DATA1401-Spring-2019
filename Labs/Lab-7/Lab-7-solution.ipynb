{
 "cells": [
  {
   "cell_type": "code",
   "execution_count": 74,
   "metadata": {},
   "outputs": [],
   "source": [
    "import numpy as np\n",
    "import matplotlib.pyplot as plt\n",
    "import math"
   ]
  },
  {
   "cell_type": "code",
   "execution_count": 75,
   "metadata": {},
   "outputs": [],
   "source": [
    "#1. Solution\n",
    "def hatFunc(x):\n",
    "    y = x.copy()\n",
    "    y[x<0]=0\n",
    "    index = np.logical_and(0<=x,x<1)\n",
    "    y[index] = x[index]\n",
    "    index = np.logical_and(1<=x,x<2)\n",
    "    y[index] = 2- x[index]\n",
    "    y[x>=2] = 0\n",
    "    return y"
   ]
  },
  {
   "cell_type": "code",
   "execution_count": 76,
   "metadata": {},
   "outputs": [
    {
     "data": {
      "text/plain": [
       "array([0.1, 0.1, 0. , 0. ])"
      ]
     },
     "execution_count": 76,
     "metadata": {},
     "output_type": "execute_result"
    }
   ],
   "source": [
    "x = np.array([0.1,1.9,-1,-5])\n",
    "hatFunc(x)"
   ]
  },
  {
   "cell_type": "code",
   "execution_count": 77,
   "metadata": {},
   "outputs": [],
   "source": [
    "#2\n",
    "def f(t,v):\n",
    "    return v*t - 0.5*9.8*t*t\n",
    "    \n",
    "def P(m,y):\n",
    "    return m*9.8*y\n",
    "def velocity(v,t):\n",
    "    return v-9.8*t\n",
    "def K(m,v):\n",
    "    return 0.5*m*v*v\n"
   ]
  },
  {
   "cell_type": "code",
   "execution_count": 78,
   "metadata": {},
   "outputs": [
    {
     "name": "stdout",
     "output_type": "stream",
     "text": [
      "Enter mass: \n"
     ]
    },
    {
     "ename": "SyntaxError",
     "evalue": "unexpected EOF while parsing (<string>, line 0)",
     "output_type": "error",
     "traceback": [
      "\u001b[0;36m  File \u001b[0;32m\"<string>\"\u001b[0;36m, line \u001b[0;32munknown\u001b[0m\n\u001b[0;31m    \u001b[0m\n\u001b[0m    ^\u001b[0m\n\u001b[0;31mSyntaxError\u001b[0m\u001b[0;31m:\u001b[0m unexpected EOF while parsing\n"
     ]
    }
   ],
   "source": [
    "mass = input(\"Enter mass: \")\n",
    "v = input(\"Enter initial velocity: \")\n",
    "t = np.linspace(0,2*v/9.8,10)   # t E [0,2Vo/g]\n",
    "y = np.zeros(len(t))          \n",
    "for i in range(len(t)):\n",
    "    y[i] = f(t[i],v)            # calculates y(t)\n",
    "p_t = np.zeros(len(y))\n",
    "for i in range(len(y)):\n",
    "    p_t[i] = P(mass,y[i])       # calculates P(t)\n",
    "v_t = np.zeros(len(t))\n",
    "for i in range(len(t)):\n",
    "    v_t[i] = velocity(v,t[i])   # calculates v(t)\n",
    "k_t = np.zeros(len(v_t))\n",
    "for i in range(len(v_t)):\n",
    "    k_t[i] = K(mass,v_t[i])     # calculates K(t)\n",
    "E = p_t + k_t\n",
    "print(\"E = P + K = {}\".format(E))\n",
    "plt.plot(p_t,k_t)\n",
    "plt.xlabel('P(t)')\n",
    "plt.ylabel('K(t)')\n",
    "plt.title('Conservation of Energy')\n",
    "plt.show()"
   ]
  },
  {
   "cell_type": "code",
   "execution_count": 79,
   "metadata": {},
   "outputs": [],
   "source": [
    "#3\n",
    "def func(h,a,n):\n",
    "    f_x = np.zeros(n)\n",
    "    for i in range(n-1):\n",
    "        f_x[i] = a +i*h +0.5*h\n",
    "    return f_x\n",
    "def midpoint(f,a,b,n):\n",
    "    sum_f = np.sum(f)\n",
    "    return h*sum_f\n",
    "def cos(x):\n",
    "    return math.cos(x)\n",
    "def sin(x):\n",
    "    return math.cos(x)"
   ]
  },
  {
   "cell_type": "code",
   "execution_count": 80,
   "metadata": {},
   "outputs": [
    {
     "name": "stdout",
     "output_type": "stream",
     "text": [
      "a: \n"
     ]
    },
    {
     "ename": "SyntaxError",
     "evalue": "unexpected EOF while parsing (<string>, line 0)",
     "output_type": "error",
     "traceback": [
      "\u001b[0;36m  File \u001b[0;32m\"<string>\"\u001b[0;36m, line \u001b[0;32munknown\u001b[0m\n\u001b[0;31m    \u001b[0m\n\u001b[0m    ^\u001b[0m\n\u001b[0;31mSyntaxError\u001b[0m\u001b[0;31m:\u001b[0m unexpected EOF while parsing\n"
     ]
    }
   ],
   "source": [
    "a = input(\"a: \")\n",
    "b = input(\"b: \")\n",
    "n = input(\"number of division(n): \")\n",
    "h = (b-a)/n\n",
    "f = func(h,a,n)\n",
    "cos_x = np.zeros(len(f))\n",
    "for i in range(len(cos_x)):\n",
    "    cos_x[i] = cos(f[i])\n",
    "sin_x = np.zeros(len(f))\n",
    "for i in range(len(sin_x)):\n",
    "    sin_x[i] = sin(f[i])\n",
    "print(\"Cos(x) in range [{},{}] = {}\".format(a,b,midpoint(cos_x,a,b,n)))\n",
    "print(\"Sin(x) in range [{},{}] = {}\".format(a,b,midpoint(sin_x,a,b,n)))"
   ]
  },
  {
   "cell_type": "code",
   "execution_count": 81,
   "metadata": {},
   "outputs": [],
   "source": [
    "#4\n",
    "def f(x):\n",
    "    return x*(12-x) + math.sin(math.pi * x)"
   ]
  },
  {
   "cell_type": "code",
   "execution_count": 99,
   "metadata": {},
   "outputs": [
    {
     "data": {
      "image/png": "[encoded data removed]",
      "text/plain": [
       "<Figure size 432x288 with 1 Axes>"
      ]
     },
     "metadata": {
      "needs_background": "light"
     },
     "output_type": "display_data"
    }
   ],
   "source": [
    "x = np.arange(0,10,2)\n",
    "f_x = np.zeros(len(x))\n",
    "for i in range(len(f_x)):\n",
    "    f_x[i] = f(x[i])\n",
    "ff = func(2,0,5)\n",
    "y = plt.bar(x,f_x,2,color=\"red\")\n",
    "plt.plot(x,f_x)\n",
    "plt.xlabel('x')\n",
    "plt.ylabel('f(x)')\n",
    "plt.fill_between(x,f_x,color=\"blue\")\n",
    "plt.show()"
   ]
  },
  {
   "cell_type": "code",
   "execution_count": null,
   "metadata": {},
   "outputs": [],
   "source": []
  }
 ],
 "metadata": {
  "kernelspec": {
   "display_name": "Python 2",
   "language": "python",
   "name": "python2"
  },
  "language_info": {
   "codemirror_mode": {
    "name": "ipython",
    "version": 2
   },
   "file_extension": ".py",
   "mimetype": "text/x-python",
   "name": "python",
   "nbconvert_exporter": "python",
   "pygments_lexer": "ipython2",
   "version": "2.7.15"
  }
 },
 "nbformat": 4,
 "nbformat_minor": 2
}
