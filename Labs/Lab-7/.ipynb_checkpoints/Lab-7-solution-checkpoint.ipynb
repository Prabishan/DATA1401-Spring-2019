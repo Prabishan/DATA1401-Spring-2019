{
 "cells": [
  {
   "cell_type": "code",
   "execution_count": 35,
   "metadata": {},
   "outputs": [],
   "source": [
    "import numpy as np\n",
    "import matplotlib.pyplot as plt"
   ]
  },
  {
   "cell_type": "code",
   "execution_count": 36,
   "metadata": {},
   "outputs": [],
   "source": [
    "#1. Solution\n",
    "def hatFunc(x):\n",
    "    y = x.copy()\n",
    "    y[x<0]=0\n",
    "    index = np.logical_and(0<=x,x<1)\n",
    "    y[index] = x[index]\n",
    "    index = np.logical_and(1<=x,x<2)\n",
    "    y[index] = 2- x[index]\n",
    "    y[x>=2] = 0\n",
    "    return y"
   ]
  },
  {
   "cell_type": "code",
   "execution_count": 37,
   "metadata": {},
   "outputs": [
    {
     "data": {
      "text/plain": [
       "array([0.1, 0.1, 0. , 0. ])"
      ]
     },
     "execution_count": 37,
     "metadata": {},
     "output_type": "execute_result"
    }
   ],
   "source": [
    "x = np.array([0.1,1.9,-1,-5])\n",
    "hatFunc(x)"
   ]
  },
  {
   "cell_type": "code",
   "execution_count": 55,
   "metadata": {},
   "outputs": [],
   "source": [
    "#2\n",
    "def f(t,v):\n",
    "    return v*t - 0.5*9.8*t*t\n",
    "    \n",
    "def P(m,y):\n",
    "    return m*9.8*y\n",
    "def velocity(v,t):\n",
    "    return v-9.8*t\n",
    "def K(m,v):\n",
    "    return 0.5*m*v*v\n"
   ]
  },
  {
   "cell_type": "code",
   "execution_count": null,
   "metadata": {},
   "outputs": [],
   "source": [
    "mass = input(\"Enter mass: \")\n",
    "v = input(\"Enter initial velocity: \")\n",
    "t = np.linspace(0,2*v/9.8,10)\n",
    "y = np.zeros(len(t))\n",
    "for i in range(len(t)):\n",
    "    y[i] = f(t[i],v)\n",
    "p_t = np.zeros(len(y))\n",
    "for i in range(len(y)):\n",
    "    p_t[i] = P(mass,y[i])\n",
    "print p_t\n",
    "v_t = np.zeros(len(t))\n",
    "for i in range(len(t)):\n",
    "    v_t[i] = velocity(v,t[i])\n",
    "k_t = np.zeros(len(v_t))\n",
    "for i in range(len(v_t)):\n",
    "    k_t[i] = K(mass,v_t[i])\n",
    "print k_t\n",
    "E = p_t + k_t\n",
    "print E\n",
    "plt.plot(p_t,k_t)\n",
    "plt.xlabel('P(t)')\n",
    "plt.ylabel('K(t)')\n",
    "plt.title('Conservation of Energy')\n",
    "plt.show()"
   ]
  },
  {
   "cell_type": "code",
   "execution_count": null,
   "metadata": {},
   "outputs": [],
   "source": []
  }
 ],
 "metadata": {
  "kernelspec": {
   "display_name": "Python 2",
   "language": "python",
   "name": "python2"
  },
  "language_info": {
   "codemirror_mode": {
    "name": "ipython",
    "version": 2
   },
   "file_extension": ".py",
   "mimetype": "text/x-python",
   "name": "python",
   "nbconvert_exporter": "python",
   "pygments_lexer": "ipython2",
   "version": "2.7.15"
  }
 },
 "nbformat": 4,
 "nbformat_minor": 2
}
