{
 "cells": [
  {
   "cell_type": "markdown",
   "metadata": {},
   "source": [
    "# Lab 3\n",
    "\n",
    "## Submitting lab solutions\n",
    "\n",
    "At the end of the previous lab, you should have set up a \"Solutions\" directory in your home directory on TACC, with a fork of the class git repository that pull from Dr. Farbin's verison and pushes to your own fork. \n",
    "\n",
    "Open a terminal, navigate to your fork, and use `git remove -v` to verify that things are correctly setup.\n",
    "\n",
    "Your solutions to the lab 2 are either sitting in this fork, or in the first clone of the class repository that you made at the beginning of lab 2. \n",
    "\n",
    "Note that Jupyter tends to auto-save your work. But to make sure, it is a good habit to use the \"Save and Checkpoint\" command from the \"File\" menu whenever you are ending a session.\n",
    "\n",
    "Locate the your lab 2 notebook and copy and rename it into the same directory in your fork. \n",
    "\n",
    "For example:"
   ]
  },
  {
   "cell_type": "code",
   "execution_count": 1,
   "metadata": {},
   "outputs": [
    {
     "name": "stdout",
     "output_type": "stream",
     "text": [
      "cp: /Users/afarbin/DATA1401-Spring-2019/Labs/Lab-2/Lab-2.ipynb: No such file or directory\r\n"
     ]
    }
   ],
   "source": [
    "!cp ~/DATA1401-Spring-2019/Labs/Lab-2/Lab-2.ipynb ~/Solutions/DATA1401-Spring-2019/Labs/Lab-2/Lab-2-Solution.ipynb"
   ]
  },
  {
   "cell_type": "markdown",
   "metadata": {},
   "source": [
    "The reason we are renaming the file is due to a complication that you may experience when pulling updates into your fork. If a file was updated after your last pull and modifications, your modifications will likely cause a merge conflict, which can be a headache to resolve. Creating a new file side-steps this problem.\n",
    "\n",
    "Now that you have a new file in your fork, add the file into local repository:"
   ]
  },
  {
   "cell_type": "code",
   "execution_count": null,
   "metadata": {
    "collapsed": true
   },
   "outputs": [],
   "source": [
    "!git add ~/Solutions/DATA1401-Spring-2019/Labs/Lab-2/Lab-2-Solution.ipynb"
   ]
  },
  {
   "cell_type": "markdown",
   "metadata": {},
   "source": [
    "You only need to add a file once. Next, commit this file to your local copy of the repository:"
   ]
  },
  {
   "cell_type": "code",
   "execution_count": null,
   "metadata": {
    "collapsed": true
   },
   "outputs": [],
   "source": [
    "!git commit -a -m \"My Lab 2 Solutions\""
   ]
  },
  {
   "cell_type": "markdown",
   "metadata": {},
   "source": [
    "You are required to provide a text message when commiting files, and the `-m` option is the nicest way to do it. If you do not supply a message, you will find yourself in a text editor (most likely vi) which is difficult to use and forced to enter a message.\n",
    "\n",
    "You will need to commit your changes every time you wish to submit any changes. So if you keep working or come back to a lab, make sure you commit your changes.\n",
    "\n",
    "Now that you committed your changes, you will need to push these changes to the fork of the package in your github account:"
   ]
  },
  {
   "cell_type": "code",
   "execution_count": null,
   "metadata": {
    "collapsed": true
   },
   "outputs": [],
   "source": [
    "!git push"
   ]
  },
  {
   "cell_type": "markdown",
   "metadata": {},
   "source": [
    "You will likely need to supply you git username and password.\n",
    "\n",
    "Your lab is now available for grading. Remember that unless you commit and push your work, it will not be seen.\n",
    "\n",
    "From now on, use this procedure to submit your solutions to labs, including the remainder of this lab. \n",
    "\n",
    "You can work in your Solutions directory if you like. But note that it may be a good practice to use the \"File\" menu to duplicate and remain labs when you first start. Besides letting you avoid having to do the copy later, you will have a copy of the original notebook, in case you delete something and can pull updates, in case of bug fixes."
   ]
  },
  {
   "cell_type": "markdown",
   "metadata": {},
   "source": [
    "## Python Programming\n",
    "\n",
    "In the remainder of this lab you will practice python by solving some simple exercises. \n",
    "\n",
    "*Exercise 1:* Write 2 functions `even(x)` and `odd(x)` that take an integer and returns True if the input is even or odd, otherwise returns False. Use cell below for your solution. Use the subsequent cell to demonstrate that your solution works. Feel free to add additional cell as needed using the \"+\" button on the button bar above. "
   ]
  },
  {
   "cell_type": "code",
   "execution_count": 13,
   "metadata": {
    "collapsed": true
   },
   "outputs": [],
   "source": [
    "def odd(x):\n",
    "    if x%2 == 1:\n",
    "        return True\n",
    "    else:\n",
    "        return False\n",
    "def even(x):\n",
    "    if x%2==0:\n",
    "        return True\n",
    "    else:\n",
    "        return False\n"
   ]
  },
  {
   "cell_type": "code",
   "execution_count": 17,
   "metadata": {},
   "outputs": [
    {
     "name": "stdout",
     "output_type": "stream",
     "text": [
      "True\n"
     ]
    }
   ],
   "source": [
    "print(even(10))"
   ]
  },
  {
   "cell_type": "markdown",
   "metadata": {},
   "source": [
    "*Exercise 2:* Write a function that takes a list of numbers as input and returns a list of the subset of elements that are less that 10. Test your solution."
   ]
  },
  {
   "cell_type": "code",
   "execution_count": 29,
   "metadata": {
    "collapsed": true
   },
   "outputs": [],
   "source": [
    "def input_list(lst,x_max):\n",
    "    for i in lst:\n",
    "        if(i<x_max):\n",
    "            print(i)"
   ]
  },
  {
   "cell_type": "code",
   "execution_count": 30,
   "metadata": {},
   "outputs": [
    {
     "name": "stdout",
     "output_type": "stream",
     "text": [
      "5\n",
      "4\n",
      "2\n",
      "5\n",
      "7\n"
     ]
    }
   ],
   "source": [
    "lst = [5,10,89,4,2,5,45,4556,7]\n",
    "input_list(lst,10)"
   ]
  },
  {
   "cell_type": "markdown",
   "metadata": {},
   "source": [
    "*Exercise 3:* Write a function that takes a number `x_max` as input and returns a function that performs the same task as exercise 2, but for `x_max` instead of 10."
   ]
  },
  {
   "cell_type": "code",
   "execution_count": 31,
   "metadata": {
    "collapsed": true
   },
   "outputs": [],
   "source": [
    "def num(x_max):\n",
    "    return input_list(lst,x_max)"
   ]
  },
  {
   "cell_type": "code",
   "execution_count": 33,
   "metadata": {},
   "outputs": [
    {
     "name": "stdout",
     "output_type": "stream",
     "text": [
      "5\n",
      "10\n",
      "89\n",
      "4\n",
      "2\n",
      "5\n",
      "45\n",
      "7\n"
     ]
    }
   ],
   "source": [
    "num(100)"
   ]
  },
  {
   "cell_type": "markdown",
   "metadata": {},
   "source": [
    "*Exercise 4:* Write a function that takes an interger as input and returns a list of all divisors of that number."
   ]
  },
  {
   "cell_type": "code",
   "execution_count": 39,
   "metadata": {
    "collapsed": true
   },
   "outputs": [],
   "source": [
    "def divisor(num):\n",
    "    for i in range(1,num+1):\n",
    "        if num%i == 0:\n",
    "            print(i)\n",
    "            "
   ]
  },
  {
   "cell_type": "code",
   "execution_count": 40,
   "metadata": {},
   "outputs": [
    {
     "name": "stdout",
     "output_type": "stream",
     "text": [
      "1\n",
      "2\n",
      "3\n",
      "5\n",
      "6\n",
      "10\n",
      "15\n",
      "30\n"
     ]
    }
   ],
   "source": [
    "divisor(30)"
   ]
  },
  {
   "cell_type": "markdown",
   "metadata": {},
   "source": [
    "*Exercise 5:* Write a function that takes 2 lists as input and returns a list that contains only the elements that are common between the lists (without duplicates). Make sure your program works on two lists of different sizes."
   ]
  },
  {
   "cell_type": "code",
   "execution_count": 49,
   "metadata": {
    "collapsed": true
   },
   "outputs": [],
   "source": [
    "def chk_list(list1,list2):\n",
    "    common_list =[]\n",
    "    for i in list1:\n",
    "        for j in list2:\n",
    "            if i == j:\n",
    "                if(i in common_list):\n",
    "                        break\n",
    "                common_list.append(i)\n",
    "                \n",
    "    print(common_list)"
   ]
  },
  {
   "cell_type": "code",
   "execution_count": 52,
   "metadata": {},
   "outputs": [
    {
     "name": "stdout",
     "output_type": "stream",
     "text": [
      "[1, 2, 3, 4, 5]\n"
     ]
    }
   ],
   "source": [
    "list1 = [1,2,3,4,5]\n",
    "list2 = [5,4,3,1,5,6,2]\n",
    "chk_list(list1,list2)"
   ]
  },
  {
   "cell_type": "markdown",
   "metadata": {},
   "source": [
    "*Exercise 6:* Write a function that reads takes a string and returns `True` if the string is a palindrome. (A palindrome is a string that reads the same forwards and backwards.)"
   ]
  },
  {
   "cell_type": "code",
   "execution_count": 64,
   "metadata": {
    "collapsed": true
   },
   "outputs": [],
   "source": [
    "def chk_palindrome(str):\n",
    "    for i in range(0,len(str)/2):\n",
    "        if str[i] == str[-1-i]:\n",
    "            continue\n",
    "        else:\n",
    "            return False\n",
    "    return True"
   ]
  },
  {
   "cell_type": "code",
   "execution_count": 77,
   "metadata": {},
   "outputs": [
    {
     "data": {
      "text/plain": [
       "True"
      ]
     },
     "execution_count": 77,
     "metadata": {},
     "output_type": "execute_result"
    }
   ],
   "source": [
    "chk_palindrome(\"kayak\")"
   ]
  },
  {
   "cell_type": "markdown",
   "metadata": {},
   "source": [
    "*Exercise 7:* Write a Rock-Paper-Scissors game function, that takes 2 strings, the inputs of player 1 and player 2, and output 1 or 2 corresponding to which player wins, or 0 if draw.\n",
    "\n",
    "Implement a Rock-Paper-Scissors game by soliciting input from 2 players, testing with this function, and repeating if there is a draw.\n",
    "\n",
    "Remember the rules:\n",
    "\n",
    "* Rock beats scissors\n",
    "* Scissors beats paper\n",
    "* Paper beats rock"
   ]
  },
  {
   "cell_type": "code",
   "execution_count": 86,
   "metadata": {
    "collapsed": true
   },
   "outputs": [],
   "source": [
    "def rps(p1,p2):\n",
    "    if p1==\"rock\" and p2 == \"scissors\":\n",
    "        return 1\n",
    "    elif p1 == \"Scissors\" and p2 ==\"paper\":\n",
    "        return 1\n",
    "    elif p1 == \"paper\" and p2 ==\"rock\":\n",
    "        return 1\n",
    "    elif p2==\"rock\" and p1 == \"scissors\":\n",
    "        return 2\n",
    "    elif p2 == \"Scissors\" and p1 ==\"paper\":\n",
    "        return 2\n",
    "    elif p2 == \"paper\" and p1 ==\"rock\":\n",
    "        return 2\n",
    "    else:\n",
    "        print(\"It is draw!!! Play again\")\n",
    "        user_input()\n",
    "def user_input():\n",
    "    p1 = raw_input(\"Player1: Rock,Paper,scissors?\")\n",
    "    p2 = raw_input(\"Player2: Rock,Paper,scissors?\")\n",
    "    x = rps(p1,p2)\n",
    "    if(x==1):\n",
    "        print(\"Player 1 wins!!\")\n",
    "    if (x==2):\n",
    "        print(\"Player 2 wins\")"
   ]
  },
  {
   "cell_type": "code",
   "execution_count": 88,
   "metadata": {},
   "outputs": [
    {
     "name": "stdout",
     "output_type": "stream",
     "text": [
      "Player1: Rock,Paper,scissors?rock\n",
      "Player2: Rock,Paper,scissors?rock\n",
      "It is draw!!! Play again\n",
      "Player1: Rock,Paper,scissors?scissors\n",
      "Player2: Rock,Paper,scissors?rock\n",
      "Player 2 wins\n"
     ]
    }
   ],
   "source": [
    "user_input()\n"
   ]
  },
  {
   "cell_type": "markdown",
   "metadata": {},
   "source": [
    "*Exercise 8:* Write a function that takes a integer `n` as input and \n",
    "outputs a list of the first `n` Fibonnaci numbers.\n",
    "\n",
    "The Fibonnaci seqence is a sequence of numbers where the next number in the sequence is the sum of the previous two numbers in the sequence. The sequence looks like this: 1, 1, 2, 3, 5, 8, 13, …)"
   ]
  },
  {
   "cell_type": "code",
   "execution_count": 32,
   "metadata": {
    "collapsed": true
   },
   "outputs": [],
   "source": [
    "def f(num):\n",
    "    if num <= 1:\n",
    "        return 1\n",
    "    else:\n",
    "        return(f(num-1)+f(num-2))\n",
    "    "
   ]
  },
  {
   "cell_type": "code",
   "execution_count": 34,
   "metadata": {},
   "outputs": [
    {
     "name": "stdout",
     "output_type": "stream",
     "text": [
      "Enter a number: 10\n",
      "1\n",
      "1\n",
      "2\n",
      "3\n",
      "5\n",
      "8\n",
      "13\n",
      "21\n",
      "34\n",
      "55\n"
     ]
    }
   ],
   "source": [
    "x = input(\"Enter a number: \")\n",
    "for i in range(x):\n",
    "    print(f(i))"
   ]
  },
  {
   "cell_type": "markdown",
   "metadata": {},
   "source": [
    "*Exercise 9:* Write a function that takes a string of consisting of several words and returns a string that reverses the order of the words.\n"
   ]
  },
  {
   "cell_type": "code",
   "execution_count": 42,
   "metadata": {
    "collapsed": true
   },
   "outputs": [],
   "source": [
    "def rev(str):\n",
    "    for i in range(len(str)):\n",
    "        print(str[-1-i]),"
   ]
  },
  {
   "cell_type": "code",
   "execution_count": 46,
   "metadata": {},
   "outputs": [
    {
     "name": "stdout",
     "output_type": "stream",
     "text": [
      "e c n e i c S   a t a D\n"
     ]
    }
   ],
   "source": [
    "rev(\"Data Science\")"
   ]
  },
  {
   "cell_type": "markdown",
   "metadata": {},
   "source": [
    "*Exercise 11:* Write a guessing game program that will repeatedly guess a number that the users picks, with the user indicating higher or lower, until it correctly guesses the number."
   ]
  },
  {
   "cell_type": "code",
   "execution_count": 74,
   "metadata": {
    "collapsed": true
   },
   "outputs": [],
   "source": [
    "from random import randint\n",
    "\n",
    "def rand_generator():\n",
    "    r = randint(1,20)\n",
    "    return r\n"
   ]
  },
  {
   "cell_type": "code",
   "execution_count": 75,
   "metadata": {},
   "outputs": [
    {
     "name": "stdout",
     "output_type": "stream",
     "text": [
      "Enter your Guess: 5\n",
      "HIGHER your guessing number\n",
      "Enter your Guess: 10\n",
      "HIGHER your guessing number\n",
      "Enter your Guess: 15\n",
      "LOWER your guessing number\n",
      "Enter your Guess: 13\n",
      "LOWER your guessing number\n",
      "Enter your Guess: 12\n",
      "LOWER your guessing number\n",
      "Enter your Guess: 11\n",
      "Congrats!! you guessed it right\n"
     ]
    }
   ],
   "source": [
    "x = rand_generator()\n",
    "while(True):\n",
    "    guess = input(\"Enter your Guess: \")\n",
    "    if(guess == x):\n",
    "        print(\"Congrats!! you guessed it right\")\n",
    "        break\n",
    "    elif(guess>x):\n",
    "        print(\"LOWER your guessing number\")\n",
    "    else:\n",
    "        print(\"HIGHER your guessing number\")"
   ]
  },
  {
   "cell_type": "markdown",
   "metadata": {},
   "source": [
    "*Exercise 10:* Write a function that takes 2 integers `n` and `m` as input and draws a `n` by `m` game board. For example the following is a 3x3 board:\n",
    "```\n",
    "   --- --- --- \n",
    "  |   |   |   | \n",
    "   --- --- ---  \n",
    "  |   |   |   | \n",
    "   --- --- ---  \n",
    "  |   |   |   | \n",
    "   --- --- --- \n",
    "   ```"
   ]
  },
  {
   "cell_type": "code",
   "execution_count": 11,
   "metadata": {
    "collapsed": true
   },
   "outputs": [],
   "source": [
    "space1 = \"a\"\n",
    "space3 = \" \"\n",
    "def draw_board(n,m):  \n",
    "    for i in range(n):\n",
    "        print(\"\"),\n",
    "        for j in range(m):\n",
    "            print(\"---\"),\n",
    "        print\n",
    "        for k in range(m+1):\n",
    "            print(\"|\"),\n",
    "            if(k!=m):\n",
    "                print(space3),\n",
    "            \n",
    "        print\n",
    "    print(\"\"),\n",
    "    for j in range(m):\n",
    "            print(\"---\"),\n",
    "        "
   ]
  },
  {
   "cell_type": "code",
   "execution_count": 12,
   "metadata": {},
   "outputs": [
    {
     "name": "stdout",
     "output_type": "stream",
     "text": [
      " --- --- ---\n",
      "|   |   |   |\n",
      " --- --- ---\n",
      "|   |   |   |\n",
      " --- --- ---\n",
      "|   |   |   |\n",
      " --- --- ---\n"
     ]
    }
   ],
   "source": [
    "draw_board(3,3)"
   ]
  },
  {
   "cell_type": "markdown",
   "metadata": {},
   "source": [
    "*Exercise 11:* Write a function that takes a `n` by `n` matrix representing a tic-tac-toe game, and return -1, 0, 1, or 2 indicating the game is incomplete, the game is a draw, player 1 has won, or player 2 has one, respectively. Here are some example inputs:"
   ]
  },
  {
   "cell_type": "code",
   "execution_count": 13,
   "metadata": {
    "collapsed": true
   },
   "outputs": [],
   "source": [
    "winner_is_2 = [[2, 2, 0],\n",
    "               [2, 1, 0],\n",
    "\t           [2, 1, 1]]\n",
    "\n",
    "winner_is_1 = [[1, 2, 0],\n",
    "\t           [2, 1, 0],\n",
    "\t           [2, 1, 1]]\n",
    "\n",
    "winner_is_also_1 = [[0, 1, 0],\n",
    "\t                [2, 1, 0],\n",
    "\t                [2, 1, 1]]\n",
    "\n",
    "no_winner = [[1, 2, 0],\n",
    "             [2, 1, 0],\n",
    "\t         [2, 1, 2]]\n",
    "\n",
    "also_no_winner = [[1, 2, 0],\n",
    "\t              [2, 1, 0],\n",
    "\t              [2, 1, 0]]"
   ]
  },
  {
   "cell_type": "code",
   "execution_count": 14,
   "metadata": {
    "collapsed": true
   },
   "outputs": [],
   "source": [
    "def ttt(mtx):\n",
    "    count = 0\n",
    "    for i in range(len(mtx)):\n",
    "        for j in range(len(mtx)):      \n",
    "            if mtx[i][0]==2 and mtx[i][1]==2 and mtx[i][2]==2 or mtx[0][j]==2 and mtx[1][j]==2 and mtx[2][j]==2\\\n",
    "               or mtx[0][0]==2 and mtx[1][1]==2 and mtx[2][2]==2 or mtx[0][-1]==2 and mtx[1][-2]==2 and mtx[2][-3]==2:\n",
    "                return 2\n",
    "            elif mtx[i][0]==1 and mtx[i][1]==1 and mtx[i][2]==1 or mtx[0][j]==1 and mtx[1][j]==1 and mtx[2][j]==1\\\n",
    "                 or mtx[0][0]==1 and mtx[1][1]==1 and mtx[2][2]==1 or mtx[0][-1]==1 and mtx[1][-2]==1 and mtx[2][-3]==1:\n",
    "                return 1\n",
    "    \n",
    "    return 3"
   ]
  },
  {
   "cell_type": "code",
   "execution_count": 15,
   "metadata": {},
   "outputs": [
    {
     "name": "stdout",
     "output_type": "stream",
     "text": [
      "3\n"
     ]
    }
   ],
   "source": [
    "x= ttt(also_no_winner)\n",
    "print(x)"
   ]
  },
  {
   "cell_type": "markdown",
   "metadata": {},
   "source": [
    "*Exercise 12:* Modify exercise 10, so that it takes a matrix of the form from exercise 11 and draws a tic-tac-tie board with \"X\"s and \"O\"s.  "
   ]
  },
  {
   "cell_type": "code",
   "execution_count": 16,
   "metadata": {
    "collapsed": true
   },
   "outputs": [],
   "source": [
    "player_1 = \"X\"\n",
    "player_2 = \"O\"\n",
    "def draw_board(board):\n",
    "    n = len(board)\n",
    "    for row in range(n):\n",
    "        print(\"\"),\n",
    "        for col in range(n):\n",
    "            print(\"---\"),\n",
    "        print\n",
    "        for k in range(n+1):\n",
    "            print(\"|\"),\n",
    "            if(k!=n):\n",
    "                if(board[row][k]==1):\n",
    "                    print(\"X\"),\n",
    "                elif(board[row][k]==2):\n",
    "                    print(\"O\"),\n",
    "                elif(board[row][k]==0):\n",
    "                    print(\" \"),\n",
    "            \n",
    "        print\n",
    "    print(\"\"),\n",
    "    for j in range(n):\n",
    "            print(\"---\"),"
   ]
  },
  {
   "cell_type": "code",
   "execution_count": 17,
   "metadata": {},
   "outputs": [
    {
     "name": "stdout",
     "output_type": "stream",
     "text": [
      " --- --- ---\n",
      "| X | O |   |\n",
      " --- --- ---\n",
      "| O | X |   |\n",
      " --- --- ---\n",
      "| O | X | X |\n",
      " --- --- ---\n"
     ]
    }
   ],
   "source": [
    "draw_board(winner_is_1)"
   ]
  },
  {
   "cell_type": "markdown",
   "metadata": {},
   "source": [
    "*Exercise 12:* Use the two previous exercises to implement a full tic-tac-toe game, where 2 players are repeatedly asked for x and y coordinates of where they wish to place a mark, an appropriate board is drawn, and the game status is checked until a player wins or a draw occurs."
   ]
  },
  {
   "cell_type": "code",
   "execution_count": 18,
   "metadata": {
    "collapsed": true
   },
   "outputs": [],
   "source": [
    "def draw_game_board(board):\n",
    "    x,y = board\n",
    "    \n",
    "def move_piece(board,player,location):  \n",
    "    x,y = location\n",
    "    size = len(board)\n",
    "    move_possible = x<size and x>=0 and y<size and y>=0\n",
    "    if not (move_possible):\n",
    "        print(\"Bad move\")\n",
    "        return False\n",
    "    if move_possible and board[x][y] == 0:\n",
    "        board[x][y] = player\n",
    "        print(\"\\nMoved\")\n",
    "        return True\n",
    "    else:\n",
    "        print(\"Move not Possible!!!\")\n",
    "        return False"
   ]
  },
  {
   "cell_type": "code",
   "execution_count": 19,
   "metadata": {},
   "outputs": [
    {
     "name": "stdout",
     "output_type": "stream",
     "text": [
      " --- --- ---\n",
      "|   |   |   |\n",
      " --- --- ---\n",
      "|   |   |   |\n",
      " --- --- ---\n",
      "|   |   |   |\n",
      " --- --- ---\n"
     ]
    }
   ],
   "source": [
    "board=[[0,0,0],\n",
    "       [0,0,0],\n",
    "       [0,0,0]]\n",
    "draw_board(board)"
   ]
  },
  {
   "cell_type": "code",
   "execution_count": null,
   "metadata": {},
   "outputs": [
    {
     "name": "stdout",
     "output_type": "stream",
     "text": [
      "\n",
      "Player1\n",
      "Enter Location: 1,1\n",
      "\n",
      "Moved\n",
      " --- --- ---\n",
      "|   |   |   |\n",
      " --- --- ---\n",
      "|   | X |   |\n",
      " --- --- ---\n",
      "|   |   |   |\n",
      " --- --- ---\n",
      "Player2\n",
      "Enter Location: 0,0\n",
      " \n",
      "Moved\n",
      " --- --- ---\n",
      "| O |   |   |\n",
      " --- --- ---\n",
      "|   | X |   |\n",
      " --- --- ---\n",
      "|   |   |   |\n",
      " --- --- ---\n",
      "Player1\n",
      "Enter Location: 2,2\n",
      " \n",
      "Moved\n",
      " --- --- ---\n",
      "| O |   |   |\n",
      " --- --- ---\n",
      "|   | X |   |\n",
      " --- --- ---\n",
      "|   |   | X |\n",
      " --- --- ---\n",
      "Player2\n",
      "Enter Location: 2,0\n",
      " \n",
      "Moved\n",
      " --- --- ---\n",
      "| O |   |   |\n",
      " --- --- ---\n",
      "|   | X |   |\n",
      " --- --- ---\n",
      "| O |   | X |\n",
      " --- --- ---"
     ]
    }
   ],
   "source": [
    "while(True):\n",
    "    \n",
    "    x,y = input(\"\\nPlayer1\\nEnter Location: \")\n",
    "    move_piece(board,1,(x,y))\n",
    "    draw_board(board)\n",
    "    if(ttt(board)==1):\n",
    "        print(\"\\nPlayer 1 is winner\")\n",
    "        break\n",
    "    x,y = input(\"\\nPlayer2\\nEnter Location: \")\n",
    "    move_piece(board,2,(x,y))\n",
    "    draw_board(board)\n",
    "    if(ttt(board)==2):\n",
    "        print(\"\\nPlayer 2 is winner\")\n",
    "        break"
   ]
  },
  {
   "cell_type": "code",
   "execution_count": null,
   "metadata": {
    "collapsed": true
   },
   "outputs": [],
   "source": []
  }
 ],
 "metadata": {
  "kernelspec": {
   "display_name": "Python 2",
   "language": "python",
   "name": "python2"
  },
  "language_info": {
   "codemirror_mode": {
    "name": "ipython",
    "version": 2
   },
   "file_extension": ".py",
   "mimetype": "text/x-python",
   "name": "python",
   "nbconvert_exporter": "python",
   "pygments_lexer": "ipython2",
   "version": "2.7.13"
  }
 },
 "nbformat": 4,
 "nbformat_minor": 2
}
