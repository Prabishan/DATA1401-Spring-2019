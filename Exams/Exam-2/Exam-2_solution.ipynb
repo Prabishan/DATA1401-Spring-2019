{
 "cells": [
  {
   "cell_type": "markdown",
   "metadata": {},
   "source": [
    "# Exam 2\n",
    "\n",
    "We are going to keep working on the grade book system we have been building in class. The version of the grade book presented in lecture 17 has been copied into `gradebook.py`, so we can simply load it using:"
   ]
  },
  {
   "cell_type": "code",
   "execution_count": 1,
   "metadata": {},
   "outputs": [],
   "source": [
    "from gradebook import *"
   ]
  },
  {
   "cell_type": "markdown",
   "metadata": {},
   "source": [
    "Recall that we can build a grade book from a CSV file with the following example, which now has been wrapped up into a function."
   ]
  },
  {
   "cell_type": "code",
   "execution_count": 2,
   "metadata": {},
   "outputs": [],
   "source": [
    "import pandas as pd\n",
    "\n",
    "def load_class(filename):\n",
    "    class_data=pd.read_csv(filename)\n",
    "\n",
    "    a_grade_book=grade_book(\"Data 1401\")\n",
    "\n",
    "    for student_i in range(class_data.shape[0]):\n",
    "        a_student_0=student(\"Student\",str(student_i),student_i)\n",
    "\n",
    "        for k in class_data.keys():\n",
    "            a_student_0.add_grade(grade(k,value=class_data[k][student_i]))\n",
    "\n",
    "        a_grade_book.add_student(a_student_0)\n",
    "        \n",
    "    return a_grade_book\n",
    "\n",
    "my_grade_book=load_class(\"Data1401-Grades.csv\")"
   ]
  },
  {
   "cell_type": "markdown",
   "metadata": {},
   "source": [
    "You may use all of the classes from this version of the grade book for the exam.\n",
    "\n",
    "## CSV Reader Revisited\n",
    "\n",
    "Recall the CSV reader we wrote in class:"
   ]
  },
  {
   "cell_type": "code",
   "execution_count": 3,
   "metadata": {},
   "outputs": [],
   "source": [
    "def csv_reader_0(filename):\n",
    "    file_obj = open(filename,\"r\")\n",
    "\n",
    "    data=list()\n",
    "\n",
    "    first = True\n",
    "    \n",
    "    for line in file_obj:\n",
    "        line=line.strip(\"\\r\\n\")\n",
    "        if first:\n",
    "            first=False\n",
    "            keys = line.split(\",\")\n",
    "        else:\n",
    "            values=map(float,line.split(\",\"))\n",
    "            this_line=dict()\n",
    "            \n",
    "            for k,v in zip(keys,values):\n",
    "                this_line[k]=v\n",
    "\n",
    "            data.append(this_line)\n",
    "            \n",
    "    file_obj.close()\n",
    "    \n",
    "    return data\n",
    "\n",
    "# Test with: \n",
    "loaded_data=csv_reader_0(\"Data1401-Grades.csv\")"
   ]
  },
  {
   "cell_type": "markdown",
   "metadata": {},
   "source": [
    "*Question 1:* Convert the load function below to work with this data structure. This should be trivial since the data structure created by `csv_reader_0` should present a similar interface to pandas' `dataframe`."
   ]
  },
  {
   "cell_type": "code",
   "execution_count": 4,
   "metadata": {},
   "outputs": [],
   "source": [
    "# Convert this function\n",
    "\n",
    "def load_class_0(filename):\n",
    "    class_data=csv_reader_0(filename)\n",
    "\n",
    "    a_grade_book=grade_book(\"Data 1401\")\n",
    "\n",
    "    for student_i in range(len(class_data)):\n",
    "        a_student_0=student(\"Student\",str(student_i),student_i)\n",
    "\n",
    "        for k in class_data[student_i].keys():\n",
    "            a_student_0.add_grade(grade(k,value=class_data[student_i][k]))\n",
    "\n",
    "        a_grade_book.add_student(a_student_0)\n",
    "        \n",
    "    return a_grade_book\n",
    "\n",
    "# Test with:\n",
    "my_grade_book_0=load_class_0(\"Data1401-Grades.csv\")"
   ]
  },
  {
   "cell_type": "markdown",
   "metadata": {},
   "source": [
    "*Question 1:* Start with the `csv_reader` function above which presently returns the data it loads as a list of dictionaries, where each element of the list is corresponds to a row of data and the dictionaries are keyed by the column name. For example `data[5][\"l3_5\"]` corresponds to the 6th student's grade on lab 3 question 5. Convert it to instead output a list of lists (i.e. a 2-D array or matrix) and a dictionary, where each element of the \"matrix\" corresponds to a a specific grade for a specific student and the dictionary maps the name of the column to the column index. For example `data[5][column_names[\"l1_5\"]]` would correspond to the 6th student's grade on lab 3 question 5. Next, convert the `load_class` function."
   ]
  },
  {
   "cell_type": "code",
   "execution_count": 5,
   "metadata": {},
   "outputs": [
    {
     "name": "stdout",
     "output_type": "stream",
     "text": [
      "7.0\n"
     ]
    }
   ],
   "source": [
    "# Convert this function\n",
    "def csv_reader_1(filename):\n",
    "    file_obj = open(filename,\"r\")\n",
    "\n",
    "    data=list()\n",
    "    column_names=dict()\n",
    "    first = True\n",
    "    \n",
    "    for line in file_obj:\n",
    "        line=line.strip(\"\\r\\n\")\n",
    "        if first:\n",
    "            first=False\n",
    "            keys = line.split(\",\")\n",
    "        else:\n",
    "            values=map(float,line.split(\",\"))\n",
    "            this_line = list()\n",
    "            for j in range(len(keys)):\n",
    "                column_names[keys[j]] = j\n",
    "                for k,v in zip(keys,values):\n",
    "                    this_line.append(v)\n",
    "            data.append(this_line)   \n",
    "    data.insert(0,column_names)\n",
    "    file_obj.close()\n",
    "    return data\n",
    "\n",
    "# Test with: \n",
    "loaded_data_1=csv_reader_1(\"Data1401-Grades.csv\")\n",
    "column_names = loaded_data_1[0]\n",
    "print loaded_data_1[5][column_names[\"l2_n\"]]"
   ]
  },
  {
   "cell_type": "code",
   "execution_count": 6,
   "metadata": {},
   "outputs": [],
   "source": [
    "# Convert this function\n",
    "\n",
    "def load_class_1(filename):\n",
    "    class_data=csv_reader_1(filename)\n",
    "    column_names = class_data[0]\n",
    "    a_grade_book=grade_book(\"Data 1401\")\n",
    "    for student_i in range(1,len(class_data)):\n",
    "        a_student_0=student(\"Student\",str(student_i),student_i)\n",
    "        for k,v in class_data[0].items():\n",
    "            a_student_0.add_grade(grade(k,value=class_data[student_i][v]))\n",
    "        a_grade_book.add_student(a_student_0)\n",
    "        \n",
    "    return a_grade_book\n",
    "\n",
    "# Test with:\n",
    "my_grade_book_1=load_class_1(\"Data1401-Grades.csv\")"
   ]
  },
  {
   "cell_type": "markdown",
   "metadata": {},
   "source": [
    "*Question 2:* Now convert the function to output a dictionary of lists, where each element of the dictionary corresponds to a column of data and the lists contain the data in that column. For example `data[\"l3_5\"][5]` would correspond to the 6th student's grade on lab 3 question 5. Next, convert the `load_class` function.\n"
   ]
  },
  {
   "cell_type": "code",
   "execution_count": 7,
   "metadata": {
    "scrolled": false
   },
   "outputs": [
    {
     "name": "stdout",
     "output_type": "stream",
     "text": [
      "10.0\n"
     ]
    }
   ],
   "source": [
    "# Convert this function\n",
    "def csv_reader_2(filename):\n",
    "    file_obj = open(filename,\"r\")\n",
    "\n",
    "    data=dict()\n",
    "    keys_list = list()\n",
    "    values_list=list()\n",
    "    first = True\n",
    "    \n",
    "    for line in file_obj:\n",
    "        line=line.strip(\"\\r\\n\")\n",
    "        if first:\n",
    "            first=False\n",
    "            keys_list = line.split(\",\")\n",
    "        else:\n",
    "            values=list(map(float,line.split(\",\")))\n",
    "            values_list.append(values)\n",
    "    \n",
    "\n",
    "    new_values_list = list(zip(*values_list))\n",
    "    for k in range(len(keys_list)):\n",
    "        data[keys_list[k]] = new_values_list[k]\n",
    "        \n",
    "    file_obj.close()\n",
    "    \n",
    "    return data\n",
    "\n",
    "loaded_data_2=csv_reader_2(\"Data1401-Grades.csv\")\n",
    "print loaded_data_2[\"l3_5\"][5]"
   ]
  },
  {
   "cell_type": "code",
   "execution_count": 8,
   "metadata": {},
   "outputs": [],
   "source": [
    "# Convert this function\n",
    "\n",
    "def load_class_2(filename):\n",
    "    class_data=csv_reader_2(filename)\n",
    "    a_grade_book=grade_book(\"Data 1401\")\n",
    "    for i in range(len(class_data[\"l1_n\"])):\n",
    "        for student_i in range(len(class_data.keys())):\n",
    "            a_student_0=student(\"Student\",str(student_i),student_i)\n",
    "            for k in class_data.keys():\n",
    "                a_student_0.add_grade(grade(k,value=class_data[k][i]))\n",
    "        a_grade_book.add_student(a_student_0)\n",
    "        \n",
    "    return a_grade_book\n",
    "\n",
    "# Test with:\n",
    "my_grade_book_2=load_class_2(\"Data1401-Grades.csv\")"
   ]
  },
  {
   "cell_type": "markdown",
   "metadata": {
    "collapsed": true
   },
   "source": [
    "*Question 3:* Now convert the function so that the fields that it reads do not have to be numbers. When reading parsing a field, check it can be converted to a float, if not, then store it as a string. Note the different test file for this function, which now had names added as a column. Modify the `load_class` function to use this reader, using the name read from the file.\n"
   ]
  },
  {
   "cell_type": "code",
   "execution_count": 9,
   "metadata": {},
   "outputs": [],
   "source": [
    "# Convert this function\n",
    "def csv_reader(filename):\n",
    "    file_obj = open(filename,\"r\")\n",
    "\n",
    "    data=list()\n",
    "\n",
    "    first = True\n",
    "    \n",
    "    for line in file_obj:\n",
    "        line=line.strip(\"\\r\\n\")\n",
    "        if first:\n",
    "            first=False\n",
    "            keys = line.split(\",\")\n",
    "        else:\n",
    "            this_line=dict()\n",
    "            values = list()\n",
    "            for i in range(len(line.split(\",\"))):\n",
    "                try:\n",
    "                    values.append(float(line.split(\",\")[i]))\n",
    "                except ValueError:\n",
    "                    values.append(line.split(\",\")[i])\n",
    "            for k,v in zip(keys,values):\n",
    "                this_line[k]=v\n",
    "            data.append(this_line)\n",
    "            \n",
    "    file_obj.close()\n",
    "    return data\n",
    "\n",
    "# Test with: \n",
    "loaded_data=csv_reader(\"Data1401-Grades-Strings.csv\")"
   ]
  },
  {
   "cell_type": "code",
   "execution_count": 10,
   "metadata": {},
   "outputs": [],
   "source": [
    "# Convert this function\n",
    "\n",
    "def load_class(filename):\n",
    "    class_data=csv_reader(filename)\n",
    "    a_grade_book=grade_book(\"Data 1401\")\n",
    "\n",
    "    for student_i in range(len(class_data)):\n",
    "        a_student_0=student(\"Student\",str(student_i),student_i)\n",
    "\n",
    "        for k in class_data[student_i].keys():\n",
    "            a_student_0.add_grade(grade(k,value=class_data[student_i][k]))\n",
    "\n",
    "        a_grade_book.add_student(a_student_0)\n",
    "        \n",
    "    return a_grade_book\n",
    "\n",
    "# Test with:\n",
    "my_grade_book=load_class(\"Data1401-Grades-Strings.csv\")"
   ]
  },
  {
   "cell_type": "markdown",
   "metadata": {},
   "source": [
    "## Chaining Algorithms\n",
    "\n",
    "The following example curves the exam 1 grades:\n"
   ]
  },
  {
   "cell_type": "code",
   "execution_count": 106,
   "metadata": {},
   "outputs": [],
   "source": [
    "my_grade_book.apply_calculator(grade_summer(\"e1_\"),overwrite=True)\n",
    "my_grade_book.apply_calculator(mean_std_calculator(\"e1_sum\",60))\n",
    "my_grade_book.apply_calculator(curved_letter_grade(\"e1_sum\",my_grade_book[\"e1_sum Mean\"],my_grade_book[\"e1_sum STD\"]),overwrite=True)"
   ]
  },
  {
   "cell_type": "code",
   "execution_count": 107,
   "metadata": {},
   "outputs": [
    {
     "name": "stdout",
     "output_type": "stream",
     "text": [
      "Student 0 Student Data e1_sum: 35.0 e1_sum Letter: F-\n",
      "Student 1 Student Data e1_sum: 0 e1_sum Letter: F-\n",
      "Student 2 Student Data e1_sum: 20.0 e1_sum Letter: F-\n",
      "Student 3 Student Data e1_sum: 115.0 e1_sum Letter: B\n",
      "Student 4 Student Data e1_sum: 24.0 e1_sum Letter: F-\n",
      "Student 5 Student Data e1_sum: 95.0 e1_sum Letter: C-\n",
      "Student 6 Student Data e1_sum: 37.0 e1_sum Letter: F-\n",
      "Student 7 Student Data e1_sum: 77.0 e1_sum Letter: F+\n",
      "Student 8 Student Data e1_sum: 103.0 e1_sum Letter: C\n",
      "Student 9 Student Data e1_sum: 117.0 e1_sum Letter: B\n",
      "Student 10 Student Data e1_sum: 138.0 e1_sum Letter: A+\n",
      "Student 11 Student Data e1_sum: 110.0 e1_sum Letter: B-\n",
      "Student 12 Student Data e1_sum: 104.0 e1_sum Letter: C\n",
      "Student 13 Student Data e1_sum: 111.0 e1_sum Letter: B-\n",
      "Student 14 Student Data e1_sum: 103.0 e1_sum Letter: C\n",
      "Student 15 Student Data e1_sum: 134.0 e1_sum Letter: A\n"
     ]
    }
   ],
   "source": [
    "my_grade_book.print_grades([\"e1_sum\",\"e1_sum Letter\"])"
   ]
  },
  {
   "cell_type": "markdown",
   "metadata": {},
   "source": [
    "The following function generalizes curving you can use it to curve any grade:"
   ]
  },
  {
   "cell_type": "code",
   "execution_count": 132,
   "metadata": {},
   "outputs": [],
   "source": [
    "def curve(a_grade_book,prefix,cut_off=None):\n",
    "    a_grade_book.apply_calculator(grade_summer(prefix),overwrite=True)\n",
    "    a_grade_book.apply_calculator(mean_std_calculator(prefix+\"sum\",cut_off))\n",
    "    a_grade_book.apply_calculator(curved_letter_grade(prefix+\"sum\",a_grade_book[prefix+\"sum Mean\"],a_grade_book[prefix+\"sum STD\"]),overwrite=True)\n",
    "    stats=a_grade_book.get_data(prefix)\n",
    "    for k,v in stats.iteritems():\n",
    "        print k,v\n",
    "    a_grade_book.print_grades([prefix+\"sum\",prefix+\"sum Letter\"])   "
   ]
  },
  {
   "cell_type": "code",
   "execution_count": 133,
   "metadata": {},
   "outputs": [
    {
     "name": "stdout",
     "output_type": "stream",
     "text": [
      "e1_sum Mean 82.6875\n",
      "e1_sum Min 0\n",
      "e1_sum Max 138.0\n",
      "e1_sum STD 42.9370451213\n",
      "Student 0 Student Data e1_sum: 35.0 e1_sum Letter: C+\n",
      "Student 1 Student Data e1_sum: 0 e1_sum Letter: C-\n",
      "Student 2 Student Data e1_sum: 20.0 e1_sum Letter: C\n",
      "Student 3 Student Data e1_sum: 115.0 e1_sum Letter: B+\n",
      "Student 4 Student Data e1_sum: 24.0 e1_sum Letter: C\n",
      "Student 5 Student Data e1_sum: 95.0 e1_sum Letter: B-\n",
      "Student 6 Student Data e1_sum: 37.0 e1_sum Letter: C+\n",
      "Student 7 Student Data e1_sum: 77.0 e1_sum Letter: C+\n",
      "Student 8 Student Data e1_sum: 103.0 e1_sum Letter: B\n",
      "Student 9 Student Data e1_sum: 117.0 e1_sum Letter: B+\n",
      "Student 10 Student Data e1_sum: 138.0 e1_sum Letter: A-\n",
      "Student 11 Student Data e1_sum: 110.0 e1_sum Letter: B\n",
      "Student 12 Student Data e1_sum: 104.0 e1_sum Letter: B\n",
      "Student 13 Student Data e1_sum: 111.0 e1_sum Letter: B\n",
      "Student 14 Student Data e1_sum: 103.0 e1_sum Letter: B\n",
      "Student 15 Student Data e1_sum: 134.0 e1_sum Letter: A-\n"
     ]
    }
   ],
   "source": [
    "curve(my_grade_book,\"e1_\")"
   ]
  },
  {
   "cell_type": "markdown",
   "metadata": {},
   "source": [
    "*Question 4:* Write a function that takes a list of prefixes and apply curve to each. Use it to curve every grade."
   ]
  },
  {
   "cell_type": "code",
   "execution_count": 134,
   "metadata": {},
   "outputs": [],
   "source": [
    "def each_apply_curve(prefix):\n",
    "    for i in prefix:\n",
    "        print type(i)\n",
    "        curve(my_grade_book,i)\n",
    "#prefix = [\"e1_\", \"l2_\"]\n",
    "#each_apply_curve(prefix)"
   ]
  },
  {
   "cell_type": "markdown",
   "metadata": {},
   "source": [
    "*Question 5:* Modify `curve` so that it deterines the `cut_off` automatically, using 50\\% of max grade as the cut off."
   ]
  },
  {
   "cell_type": "code",
   "execution_count": 138,
   "metadata": {},
   "outputs": [],
   "source": [
    "# Modify this function\n",
    "def cutt_off_curve(a_grade_book,prefix,cut_off=None):\n",
    "    max_grade = 0\n",
    "    a_grade_book.apply_calculator(grade_summer(prefix),overwrite=True)\n",
    "    stats=a_grade_book.get_data(prefix)\n",
    "    for k,v in stats.iteritems():\n",
    "        if(k == prefix+\"sum\"+\" Max\"):\n",
    "            cut_off = 0.5 * v\n",
    "        print k,v\n",
    "    print \"cut_off= {}\".format(cut_off)\n",
    "    a_grade_book.apply_calculator(mean_std_calculator(prefix+\"sum\",cut_off))\n",
    "    a_grade_book.apply_calculator(curved_letter_grade(prefix+\"sum\",a_grade_book[prefix+\"sum Mean\"],a_grade_book[prefix+\"sum STD\"]),overwrite=True)\n",
    "    print a_grade_book.print_grades([prefix+\"sum\",prefix+\"sum Letter\"])\n",
    "\n"
   ]
  },
  {
   "cell_type": "code",
   "execution_count": null,
   "metadata": {},
   "outputs": [],
   "source": [
    "cutt_off_curve(my_grade_book,\"e1_\")"
   ]
  },
  {
   "cell_type": "markdown",
   "metadata": {},
   "source": [
    "*Question 5:* Write an algorithm that computes the number of A, B, C, D, and F grades for a prefix.  "
   ]
  },
  {
   "cell_type": "code",
   "execution_count": 86,
   "metadata": {},
   "outputs": [
    {
     "name": "stdout",
     "output_type": "stream",
     "text": [
      "{'A': 2, 'C': 4, 'B': 4, 'D': 0, 'F': 6}\n"
     ]
    }
   ],
   "source": [
    "def count_grade(a_grade_book,prefix):\n",
    "    y = prefix+\"sum Letter\"\n",
    "    count = 0\n",
    "    grade_list = list()\n",
    "    for k,a_student in a_grade_book.get_students().iteritems():\n",
    "        for a_grade_name in [prefix+\"sum Letter\"]:\n",
    "            x = str(a_student[y])\n",
    "            token = x.split(\" \")\n",
    "            grade_list.append(token[2])\n",
    "    grade_num = {'A':0, 'B':0, 'C':0, 'D':0, 'F':0}\n",
    "    for i in range(len(grade_list)):\n",
    "        if (grade_list[i] == 'F+' or grade_list[i] == 'F' or grade_list[i] == 'F-') :\n",
    "            grade_num['F']+=1\n",
    "        elif (grade_list[i] == 'D+' or grade_list[i] == 'D' or grade_list[i] == 'D-') :\n",
    "            grade_num['D']+=1\n",
    "        elif (grade_list[i] == 'C+' or grade_list[i] == 'C' or grade_list[i] == 'C-') :\n",
    "            grade_num['C']+=1\n",
    "        elif (grade_list[i] == 'B+' or grade_list[i] == 'B' or grade_list[i] == 'B-') :\n",
    "            grade_num['B']+=1\n",
    "        elif (grade_list[i] == 'A+' or grade_list[i] == 'A' or grade_list[i] == 'A-') :\n",
    "            grade_num['A']+=1\n",
    "    print grade_num\n",
    "count_grade(my_grade_book,\"e1_\")"
   ]
  },
  {
   "cell_type": "code",
   "execution_count": null,
   "metadata": {},
   "outputs": [],
   "source": []
  }
 ],
 "metadata": {
  "kernelspec": {
   "display_name": "Python 2",
   "language": "python",
   "name": "python2"
  },
  "language_info": {
   "codemirror_mode": {
    "name": "ipython",
    "version": 2
   },
   "file_extension": ".py",
   "mimetype": "text/x-python",
   "name": "python",
   "nbconvert_exporter": "python",
   "pygments_lexer": "ipython2",
   "version": "2.7.15"
  }
 },
 "nbformat": 4,
 "nbformat_minor": 2
}
